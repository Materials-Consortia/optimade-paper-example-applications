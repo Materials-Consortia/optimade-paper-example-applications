{
 "cells": [
  {
   "cell_type": "markdown",
   "id": "69168ecc",
   "metadata": {},
   "source": [
    "# Querying Data"
   ]
  },
  {
   "cell_type": "code",
   "execution_count": 1,
   "id": "cb610272",
   "metadata": {},
   "outputs": [],
   "source": [
    "from optimade.client import OptimadeClient\n",
    "import numpy as np\n",
    "import pandas as pd\n",
    "import mendeleev as md\n",
    "from collections import Counter"
   ]
  },
  {
   "cell_type": "markdown",
   "id": "c248f8a3",
   "metadata": {},
   "source": [
    "`newNEl5.pkl` has the logs of the query optimizer code. We pick the entry with the best fitness value (i.e lowest std(count)/mean(count))"
   ]
  },
  {
   "cell_type": "code",
   "execution_count": 3,
   "id": "5a91481d",
   "metadata": {},
   "outputs": [
    {
     "name": "stdout",
     "output_type": "stream",
     "text": [
      "Fitness Value                                             0.666366\n",
      "Count Mean                                             1446.666667\n",
      "Count Std                                               787.110468\n",
      "Count List                                       [2199, 1781, 360]\n",
      "Input            [0.0, 0.0, 0.0, 0.0, 0.0, 0.0, 0.0, 1.0, 0.0, ...\n",
      "Filter Query     elements HAS ANY \"W\",\"Al\",\"Cd\",\"Zn\" AND NOT el...\n",
      "Provider List    [http://oqmd.org/optimade/, https://nomad-lab....\n",
      "Name: 869, dtype: object\n"
     ]
    }
   ],
   "source": [
    "dfQry = pd.read_pickle('/u/fs1/kj419/optimadeScripts/newNEl5.pkl')\n",
    "bestQry = dfQry.iloc[dfQry['Fitness Value'].argmin(), :]\n",
    "print(bestQry)"
   ]
  },
  {
   "cell_type": "markdown",
   "id": "cf1fa556",
   "metadata": {},
   "source": [
    "We then set the filter and provider list based on this entry"
   ]
  },
  {
   "cell_type": "code",
   "execution_count": 4,
   "id": "f605b2e2",
   "metadata": {},
   "outputs": [],
   "source": [
    "client = OptimadeClient()\n",
    "filterQry = bestQry['Filter Query']"
   ]
  },
  {
   "cell_type": "code",
   "execution_count": 5,
   "id": "70496d94",
   "metadata": {},
   "outputs": [
    {
     "data": {
      "application/vnd.jupyter.widget-view+json": {
       "model_id": "5a6cb6b1669749d8991d43c9eaff7f42",
       "version_major": 2,
       "version_minor": 0
      },
      "text/plain": [
       "Output()"
      ]
     },
     "metadata": {},
     "output_type": "display_data"
    },
    {
     "data": {
      "text/html": [
       "<pre style=\"white-space:pre;overflow-x:auto;line-height:normal;font-family:Menlo,'DejaVu Sans Mono',consolas,'Courier New',monospace\">╭─────────────────────────────────────────────────────────────────────────────────────────────────────────────────╮\n",
       "│ Counting results for <span style=\"color: #808000; text-decoration-color: #808000; font-weight: bold\">structures</span>/?filter=<span style=\"color: #800080; text-decoration-color: #800080; font-weight: bold; font-style: italic\">elements HAS ANY \"W\",\"Al\",\"Cd\",\"Zn\" AND NOT elements HAS ANY \"B\", \"Cl\",</span> │\n",
       "│ <span style=\"color: #800080; text-decoration-color: #800080; font-weight: bold; font-style: italic\">\"F\", \"H\", \"N\", \"O\", \"S\", \"Se\" AND nelements&gt;=5</span>                                                                  │\n",
       "╰─────────────────────────────────────────────────────────────────────────────────────────────────────────────────╯\n",
       "</pre>\n"
      ],
      "text/plain": [
       "╭─────────────────────────────────────────────────────────────────────────────────────────────────────────────────╮\n",
       "│ Counting results for \u001b[1;33mstructures\u001b[0m/?filter=\u001b[1;3;35melements HAS ANY \"W\",\"Al\",\"Cd\",\"Zn\" AND NOT elements HAS ANY \"B\", \"Cl\",\u001b[0m │\n",
       "│ \u001b[1;3;35m\"F\", \"H\", \"N\", \"O\", \"S\", \"Se\" AND nelements>=5\u001b[0m                                                                  │\n",
       "╰─────────────────────────────────────────────────────────────────────────────────────────────────────────────────╯\n"
      ]
     },
     "metadata": {},
     "output_type": "display_data"
    },
    {
     "data": {
      "text/html": [
       "<pre style=\"white-space:pre;overflow-x:auto;line-height:normal;font-family:Menlo,'DejaVu Sans Mono',consolas,'Courier New',monospace\">Detected a running event loop <span style=\"font-weight: bold\">(</span>e.g., Jupyter, pytest<span style=\"font-weight: bold\">)</span>. Running in synchronous mode.\n",
       "</pre>\n"
      ],
      "text/plain": [
       "Detected a running event loop \u001b[1m(\u001b[0me.g., Jupyter, pytest\u001b[1m)\u001b[0m. Running in synchronous mode.\n"
      ]
     },
     "metadata": {},
     "output_type": "display_data"
    },
    {
     "data": {
      "text/html": [
       "<pre style=\"white-space:pre;overflow-x:auto;line-height:normal;font-family:Menlo,'DejaVu Sans Mono',consolas,'Courier New',monospace\"><span style=\"color: #800000; text-decoration-color: #800000\">Error</span>: Provider <span style=\"color: #008000; text-decoration-color: #008000\">'http://oqmd.org/optimade/'</span> returned: <span style=\"color: #800000; text-decoration-color: #800000; font-style: italic\">The read operation timed out</span>\n",
       "</pre>\n"
      ],
      "text/plain": [
       "\u001b[31mError\u001b[0m: Provider \u001b[32m'http://oqmd.org/optimade/'\u001b[0m returned: \u001b[3;31mThe read operation timed out\u001b[0m\n"
      ]
     },
     "metadata": {},
     "output_type": "display_data"
    },
    {
     "data": {
      "text/html": [
       "<pre style=\"white-space:pre;overflow-x:auto;line-height:normal;font-family:Menlo,'DejaVu Sans Mono',consolas,'Courier New',monospace\">Warning: <span style=\"color: #0000ff; text-decoration-color: #0000ff; text-decoration: underline\">http://oqmd.org/optimade/</span> did not return a value for `meta-&gt;data_returned`, unable to count results.\n",
       "</pre>\n"
      ],
      "text/plain": [
       "Warning: \u001b[4;94mhttp://oqmd.org/optimade/\u001b[0m did not return a value for `meta->data_returned`, unable to count results.\n"
      ]
     },
     "metadata": {},
     "output_type": "display_data"
    },
    {
     "data": {
      "text/html": [
       "<pre style=\"white-space:pre;overflow-x:auto;line-height:normal;font-family:Menlo,'DejaVu Sans Mono',consolas,'Courier New',monospace\"></pre>\n"
      ],
      "text/plain": []
     },
     "metadata": {},
     "output_type": "display_data"
    },
    {
     "data": {
      "text/html": [
       "<pre style=\"white-space:pre;overflow-x:auto;line-height:normal;font-family:Menlo,'DejaVu Sans Mono',consolas,'Courier New',monospace\">\n",
       "</pre>\n"
      ],
      "text/plain": [
       "\n"
      ]
     },
     "metadata": {},
     "output_type": "display_data"
    },
    {
     "data": {
      "text/plain": [
       "{'structures': {'elements HAS ANY \"W\",\"Al\",\"Cd\",\"Zn\" AND NOT elements HAS ANY \"B\", \"Cl\", \"F\", \"H\", \"N\", \"O\", \"S\", \"Se\" AND nelements>=5': {'http://oqmd.org/optimade/': None,\n",
       "   'https://nomad-lab.eu/prod/rae/optimade/': 1781,\n",
       "   'https://optimade-misc.odbx.science': 360}}}"
      ]
     },
     "execution_count": 5,
     "metadata": {},
     "output_type": "execute_result"
    }
   ],
   "source": [
    "client.base_urls = bestQry['Provider List']\n",
    "client.count(filter=filterQry)"
   ]
  },
  {
   "cell_type": "markdown",
   "id": "d87ba427",
   "metadata": {},
   "source": [
    "We can query the databases for a maximum of 2200 entries to get all the relevant entries. However, there is as issue with NOMAD when querying more than 1760 entries with this filter. Also, OQMD sometimes times out during the `get` operation. Hence we limit the max resutls to 1700 until the DB issues are resolved."
   ]
  },
  {
   "cell_type": "code",
   "execution_count": 6,
   "id": "f00d4e3b",
   "metadata": {},
   "outputs": [
    {
     "data": {
      "application/vnd.jupyter.widget-view+json": {
       "model_id": "6984ef902a6b4f70a66f177efe0137a5",
       "version_major": 2,
       "version_minor": 0
      },
      "text/plain": [
       "Output()"
      ]
     },
     "metadata": {},
     "output_type": "display_data"
    },
    {
     "data": {
      "text/html": [
       "<pre style=\"white-space:pre;overflow-x:auto;line-height:normal;font-family:Menlo,'DejaVu Sans Mono',consolas,'Courier New',monospace\">╭─────────────────────────────────────────────────────────────────────────────────────────────────────────────────╮\n",
       "│ Performing query <span style=\"color: #808000; text-decoration-color: #808000; font-weight: bold\">structures</span>/?filter=<span style=\"color: #800080; text-decoration-color: #800080; font-weight: bold; font-style: italic\">elements HAS ANY \"W\",\"Al\",\"Cd\",\"Zn\" AND NOT elements HAS ANY \"B\", \"Cl\", </span>    │\n",
       "│ <span style=\"color: #800080; text-decoration-color: #800080; font-weight: bold; font-style: italic\">\"F\", \"H\", \"N\", \"O\", \"S\", \"Se\" AND nelements&gt;=5</span>                                                                  │\n",
       "╰─────────────────────────────────────────────────────────────────────────────────────────────────────────────────╯\n",
       "</pre>\n"
      ],
      "text/plain": [
       "╭─────────────────────────────────────────────────────────────────────────────────────────────────────────────────╮\n",
       "│ Performing query \u001b[1;33mstructures\u001b[0m/?filter=\u001b[1;3;35melements HAS ANY \"W\",\"Al\",\"Cd\",\"Zn\" AND NOT elements HAS ANY \"B\", \"Cl\", \u001b[0m    │\n",
       "│ \u001b[1;3;35m\"F\", \"H\", \"N\", \"O\", \"S\", \"Se\" AND nelements>=5\u001b[0m                                                                  │\n",
       "╰─────────────────────────────────────────────────────────────────────────────────────────────────────────────────╯\n"
      ]
     },
     "metadata": {},
     "output_type": "display_data"
    },
    {
     "data": {
      "text/html": [
       "<pre style=\"white-space:pre;overflow-x:auto;line-height:normal;font-family:Menlo,'DejaVu Sans Mono',consolas,'Courier New',monospace\">Detected a running event loop <span style=\"font-weight: bold\">(</span>e.g., Jupyter, pytest<span style=\"font-weight: bold\">)</span>. Running in synchronous mode.\n",
       "</pre>\n"
      ],
      "text/plain": [
       "Detected a running event loop \u001b[1m(\u001b[0me.g., Jupyter, pytest\u001b[1m)\u001b[0m. Running in synchronous mode.\n"
      ]
     },
     "metadata": {},
     "output_type": "display_data"
    },
    {
     "data": {
      "text/html": [
       "<pre style=\"white-space:pre;overflow-x:auto;line-height:normal;font-family:Menlo,'DejaVu Sans Mono',consolas,'Courier New',monospace\"></pre>\n"
      ],
      "text/plain": []
     },
     "metadata": {},
     "output_type": "display_data"
    },
    {
     "data": {
      "text/html": [
       "<pre style=\"white-space:pre;overflow-x:auto;line-height:normal;font-family:Menlo,'DejaVu Sans Mono',consolas,'Courier New',monospace\">\n",
       "</pre>\n"
      ],
      "text/plain": [
       "\n"
      ]
     },
     "metadata": {},
     "output_type": "display_data"
    },
    {
     "ename": "KeyboardInterrupt",
     "evalue": "",
     "output_type": "error",
     "traceback": [
      "\u001b[0;31m---------------------------------------------------------------------------\u001b[0m",
      "\u001b[0;31mKeyboardInterrupt\u001b[0m                         Traceback (most recent call last)",
      "\u001b[0;32m/tmp/ipykernel_3183612/352730798.py\u001b[0m in \u001b[0;36m<module>\u001b[0;34m\u001b[0m\n\u001b[1;32m      1\u001b[0m \u001b[0mclient\u001b[0m\u001b[0;34m.\u001b[0m\u001b[0mmax_results_per_provider\u001b[0m \u001b[0;34m=\u001b[0m \u001b[0;36m1760\u001b[0m\u001b[0;34m\u001b[0m\u001b[0;34m\u001b[0m\u001b[0m\n\u001b[1;32m      2\u001b[0m \u001b[0mrespFields\u001b[0m \u001b[0;34m=\u001b[0m \u001b[0;34m[\u001b[0m\u001b[0;34m\"chemical_formula_descriptive\"\u001b[0m\u001b[0;34m,\u001b[0m \u001b[0;34m\"species_at_sites\"\u001b[0m\u001b[0;34m,\u001b[0m\u001b[0;34m\"lattice_vectors\"\u001b[0m\u001b[0;34m]\u001b[0m\u001b[0;34m\u001b[0m\u001b[0;34m\u001b[0m\u001b[0m\n\u001b[0;32m----> 3\u001b[0;31m \u001b[0mresStruct\u001b[0m \u001b[0;34m=\u001b[0m \u001b[0mclient\u001b[0m\u001b[0;34m.\u001b[0m\u001b[0mget\u001b[0m\u001b[0;34m(\u001b[0m\u001b[0mfilter\u001b[0m\u001b[0;34m=\u001b[0m\u001b[0mfilterQry\u001b[0m\u001b[0;34m.\u001b[0m\u001b[0mstrip\u001b[0m\u001b[0;34m(\u001b[0m\u001b[0;34m)\u001b[0m\u001b[0;34m,\u001b[0m \u001b[0mresponse_fields\u001b[0m\u001b[0;34m=\u001b[0m\u001b[0mrespFields\u001b[0m\u001b[0;34m)\u001b[0m\u001b[0;34m\u001b[0m\u001b[0;34m\u001b[0m\u001b[0m\n\u001b[0m\u001b[1;32m      4\u001b[0m \u001b[0mproviderList\u001b[0m \u001b[0;34m=\u001b[0m \u001b[0mlist\u001b[0m\u001b[0;34m(\u001b[0m\u001b[0mresStruct\u001b[0m\u001b[0;34m[\u001b[0m\u001b[0;34m'structures'\u001b[0m\u001b[0;34m]\u001b[0m\u001b[0;34m[\u001b[0m\u001b[0mfilterQry\u001b[0m\u001b[0;34m]\u001b[0m\u001b[0;34m.\u001b[0m\u001b[0mkeys\u001b[0m\u001b[0;34m(\u001b[0m\u001b[0;34m)\u001b[0m\u001b[0;34m)\u001b[0m\u001b[0;34m\u001b[0m\u001b[0;34m\u001b[0m\u001b[0m\n",
      "\u001b[0;32m~/.local/lib/python3.10/site-packages/optimade/client/client.py\u001b[0m in \u001b[0;36mget\u001b[0;34m(self, filter, endpoint, response_fields, sort)\u001b[0m\n\u001b[1;32m    215\u001b[0m                 )\n\u001b[1;32m    216\u001b[0m             )\n\u001b[0;32m--> 217\u001b[0;31m             results = self._execute_queries(\n\u001b[0m\u001b[1;32m    218\u001b[0m                 \u001b[0mfilter\u001b[0m\u001b[0;34m,\u001b[0m\u001b[0;34m\u001b[0m\u001b[0;34m\u001b[0m\u001b[0m\n\u001b[1;32m    219\u001b[0m                 \u001b[0mendpoint\u001b[0m\u001b[0;34m,\u001b[0m\u001b[0;34m\u001b[0m\u001b[0;34m\u001b[0m\u001b[0m\n",
      "\u001b[0;32m~/.local/lib/python3.10/site-packages/optimade/client/client.py\u001b[0m in \u001b[0;36m_execute_queries\u001b[0;34m(self, filter, endpoint, page_limit, paginate, response_fields, sort)\u001b[0m\n\u001b[1;32m    337\u001b[0m             )\n\u001b[1;32m    338\u001b[0m         \u001b[0;32melse\u001b[0m\u001b[0;34m:\u001b[0m\u001b[0;34m\u001b[0m\u001b[0;34m\u001b[0m\u001b[0m\n\u001b[0;32m--> 339\u001b[0;31m             results = self._get_all(\n\u001b[0m\u001b[1;32m    340\u001b[0m                 \u001b[0mendpoint\u001b[0m\u001b[0;34m,\u001b[0m\u001b[0;34m\u001b[0m\u001b[0;34m\u001b[0m\u001b[0m\n\u001b[1;32m    341\u001b[0m                 \u001b[0mfilter\u001b[0m\u001b[0;34m,\u001b[0m\u001b[0;34m\u001b[0m\u001b[0;34m\u001b[0m\u001b[0m\n",
      "\u001b[0;32m~/.local/lib/python3.10/site-packages/optimade/client/client.py\u001b[0m in \u001b[0;36m_get_all\u001b[0;34m(self, endpoint, filter, page_limit, response_fields, sort, paginate)\u001b[0m\n\u001b[1;32m    464\u001b[0m \u001b[0;34m\u001b[0m\u001b[0m\n\u001b[1;32m    465\u001b[0m         \"\"\"\n\u001b[0;32m--> 466\u001b[0;31m         results = [\n\u001b[0m\u001b[1;32m    467\u001b[0m             self.get_one(\n\u001b[1;32m    468\u001b[0m                 \u001b[0mendpoint\u001b[0m\u001b[0;34m,\u001b[0m\u001b[0;34m\u001b[0m\u001b[0;34m\u001b[0m\u001b[0m\n",
      "\u001b[0;32m~/.local/lib/python3.10/site-packages/optimade/client/client.py\u001b[0m in \u001b[0;36m<listcomp>\u001b[0;34m(.0)\u001b[0m\n\u001b[1;32m    465\u001b[0m         \"\"\"\n\u001b[1;32m    466\u001b[0m         results = [\n\u001b[0;32m--> 467\u001b[0;31m             self.get_one(\n\u001b[0m\u001b[1;32m    468\u001b[0m                 \u001b[0mendpoint\u001b[0m\u001b[0;34m,\u001b[0m\u001b[0;34m\u001b[0m\u001b[0;34m\u001b[0m\u001b[0m\n\u001b[1;32m    469\u001b[0m                 \u001b[0mfilter\u001b[0m\u001b[0;34m,\u001b[0m\u001b[0;34m\u001b[0m\u001b[0;34m\u001b[0m\u001b[0m\n",
      "\u001b[0;32m~/.local/lib/python3.10/site-packages/optimade/client/client.py\u001b[0m in \u001b[0;36mget_one\u001b[0;34m(self, endpoint, filter, base_url, response_fields, sort, page_limit, paginate)\u001b[0m\n\u001b[1;32m    377\u001b[0m         \"\"\"\n\u001b[1;32m    378\u001b[0m         \u001b[0;32mtry\u001b[0m\u001b[0;34m:\u001b[0m\u001b[0;34m\u001b[0m\u001b[0;34m\u001b[0m\u001b[0m\n\u001b[0;32m--> 379\u001b[0;31m             return self._get_one(\n\u001b[0m\u001b[1;32m    380\u001b[0m                 \u001b[0mendpoint\u001b[0m\u001b[0;34m,\u001b[0m\u001b[0;34m\u001b[0m\u001b[0;34m\u001b[0m\u001b[0m\n\u001b[1;32m    381\u001b[0m                 \u001b[0mfilter\u001b[0m\u001b[0;34m,\u001b[0m\u001b[0;34m\u001b[0m\u001b[0;34m\u001b[0m\u001b[0m\n",
      "\u001b[0;32m~/.local/lib/python3.10/site-packages/optimade/client/client.py\u001b[0m in \u001b[0;36m_get_one\u001b[0;34m(self, endpoint, filter, base_url, sort, page_limit, response_fields, paginate)\u001b[0m\n\u001b[1;32m    622\u001b[0m                     \u001b[0mattempts\u001b[0m \u001b[0;34m=\u001b[0m \u001b[0;36m0\u001b[0m\u001b[0;34m\u001b[0m\u001b[0;34m\u001b[0m\u001b[0m\n\u001b[1;32m    623\u001b[0m                     \u001b[0;32mtry\u001b[0m\u001b[0;34m:\u001b[0m\u001b[0;34m\u001b[0m\u001b[0;34m\u001b[0m\u001b[0m\n\u001b[0;32m--> 624\u001b[0;31m                         r = client.get(\n\u001b[0m\u001b[1;32m    625\u001b[0m                             \u001b[0mnext_url\u001b[0m\u001b[0;34m,\u001b[0m \u001b[0mfollow_redirects\u001b[0m\u001b[0;34m=\u001b[0m\u001b[0;32mTrue\u001b[0m\u001b[0;34m,\u001b[0m \u001b[0mtimeout\u001b[0m\u001b[0;34m=\u001b[0m\u001b[0mself\u001b[0m\u001b[0;34m.\u001b[0m\u001b[0mhttp_timeout\u001b[0m\u001b[0;34m\u001b[0m\u001b[0;34m\u001b[0m\u001b[0m\n\u001b[1;32m    626\u001b[0m                         )\n",
      "\u001b[0;32m~/.local/lib/python3.10/site-packages/httpx/_client.py\u001b[0m in \u001b[0;36mget\u001b[0;34m(self, url, params, headers, cookies, auth, follow_redirects, timeout, extensions)\u001b[0m\n\u001b[1;32m   1043\u001b[0m         \u001b[0;34m**\u001b[0m\u001b[0mParameters\u001b[0m\u001b[0;34m**\u001b[0m\u001b[0;34m:\u001b[0m \u001b[0mSee\u001b[0m\u001b[0;31m \u001b[0m\u001b[0;31m`\u001b[0m\u001b[0mhttpx\u001b[0m\u001b[0;34m.\u001b[0m\u001b[0mrequest\u001b[0m\u001b[0;31m`\u001b[0m\u001b[0;34m.\u001b[0m\u001b[0;34m\u001b[0m\u001b[0;34m\u001b[0m\u001b[0m\n\u001b[1;32m   1044\u001b[0m         \"\"\"\n\u001b[0;32m-> 1045\u001b[0;31m         return self.request(\n\u001b[0m\u001b[1;32m   1046\u001b[0m             \u001b[0;34m\"GET\"\u001b[0m\u001b[0;34m,\u001b[0m\u001b[0;34m\u001b[0m\u001b[0;34m\u001b[0m\u001b[0m\n\u001b[1;32m   1047\u001b[0m             \u001b[0murl\u001b[0m\u001b[0;34m,\u001b[0m\u001b[0;34m\u001b[0m\u001b[0;34m\u001b[0m\u001b[0m\n",
      "\u001b[0;32m~/.local/lib/python3.10/site-packages/httpx/_client.py\u001b[0m in \u001b[0;36mrequest\u001b[0;34m(self, method, url, content, data, files, json, params, headers, cookies, auth, follow_redirects, timeout, extensions)\u001b[0m\n\u001b[1;32m    819\u001b[0m             \u001b[0mextensions\u001b[0m\u001b[0;34m=\u001b[0m\u001b[0mextensions\u001b[0m\u001b[0;34m,\u001b[0m\u001b[0;34m\u001b[0m\u001b[0;34m\u001b[0m\u001b[0m\n\u001b[1;32m    820\u001b[0m         )\n\u001b[0;32m--> 821\u001b[0;31m         \u001b[0;32mreturn\u001b[0m \u001b[0mself\u001b[0m\u001b[0;34m.\u001b[0m\u001b[0msend\u001b[0m\u001b[0;34m(\u001b[0m\u001b[0mrequest\u001b[0m\u001b[0;34m,\u001b[0m \u001b[0mauth\u001b[0m\u001b[0;34m=\u001b[0m\u001b[0mauth\u001b[0m\u001b[0;34m,\u001b[0m \u001b[0mfollow_redirects\u001b[0m\u001b[0;34m=\u001b[0m\u001b[0mfollow_redirects\u001b[0m\u001b[0;34m)\u001b[0m\u001b[0;34m\u001b[0m\u001b[0;34m\u001b[0m\u001b[0m\n\u001b[0m\u001b[1;32m    822\u001b[0m \u001b[0;34m\u001b[0m\u001b[0m\n\u001b[1;32m    823\u001b[0m     \u001b[0;34m@\u001b[0m\u001b[0mcontextmanager\u001b[0m\u001b[0;34m\u001b[0m\u001b[0;34m\u001b[0m\u001b[0m\n",
      "\u001b[0;32m~/.local/lib/python3.10/site-packages/httpx/_client.py\u001b[0m in \u001b[0;36msend\u001b[0;34m(self, request, stream, auth, follow_redirects)\u001b[0m\n\u001b[1;32m    906\u001b[0m         \u001b[0mauth\u001b[0m \u001b[0;34m=\u001b[0m \u001b[0mself\u001b[0m\u001b[0;34m.\u001b[0m\u001b[0m_build_request_auth\u001b[0m\u001b[0;34m(\u001b[0m\u001b[0mrequest\u001b[0m\u001b[0;34m,\u001b[0m \u001b[0mauth\u001b[0m\u001b[0;34m)\u001b[0m\u001b[0;34m\u001b[0m\u001b[0;34m\u001b[0m\u001b[0m\n\u001b[1;32m    907\u001b[0m \u001b[0;34m\u001b[0m\u001b[0m\n\u001b[0;32m--> 908\u001b[0;31m         response = self._send_handling_auth(\n\u001b[0m\u001b[1;32m    909\u001b[0m             \u001b[0mrequest\u001b[0m\u001b[0;34m,\u001b[0m\u001b[0;34m\u001b[0m\u001b[0;34m\u001b[0m\u001b[0m\n\u001b[1;32m    910\u001b[0m             \u001b[0mauth\u001b[0m\u001b[0;34m=\u001b[0m\u001b[0mauth\u001b[0m\u001b[0;34m,\u001b[0m\u001b[0;34m\u001b[0m\u001b[0;34m\u001b[0m\u001b[0m\n",
      "\u001b[0;32m~/.local/lib/python3.10/site-packages/httpx/_client.py\u001b[0m in \u001b[0;36m_send_handling_auth\u001b[0;34m(self, request, auth, follow_redirects, history)\u001b[0m\n\u001b[1;32m    934\u001b[0m \u001b[0;34m\u001b[0m\u001b[0m\n\u001b[1;32m    935\u001b[0m             \u001b[0;32mwhile\u001b[0m \u001b[0;32mTrue\u001b[0m\u001b[0;34m:\u001b[0m\u001b[0;34m\u001b[0m\u001b[0;34m\u001b[0m\u001b[0m\n\u001b[0;32m--> 936\u001b[0;31m                 response = self._send_handling_redirects(\n\u001b[0m\u001b[1;32m    937\u001b[0m                     \u001b[0mrequest\u001b[0m\u001b[0;34m,\u001b[0m\u001b[0;34m\u001b[0m\u001b[0;34m\u001b[0m\u001b[0m\n\u001b[1;32m    938\u001b[0m                     \u001b[0mfollow_redirects\u001b[0m\u001b[0;34m=\u001b[0m\u001b[0mfollow_redirects\u001b[0m\u001b[0;34m,\u001b[0m\u001b[0;34m\u001b[0m\u001b[0;34m\u001b[0m\u001b[0m\n",
      "\u001b[0;32m~/.local/lib/python3.10/site-packages/httpx/_client.py\u001b[0m in \u001b[0;36m_send_handling_redirects\u001b[0;34m(self, request, follow_redirects, history)\u001b[0m\n\u001b[1;32m    971\u001b[0m                 \u001b[0mhook\u001b[0m\u001b[0;34m(\u001b[0m\u001b[0mrequest\u001b[0m\u001b[0;34m)\u001b[0m\u001b[0;34m\u001b[0m\u001b[0;34m\u001b[0m\u001b[0m\n\u001b[1;32m    972\u001b[0m \u001b[0;34m\u001b[0m\u001b[0m\n\u001b[0;32m--> 973\u001b[0;31m             \u001b[0mresponse\u001b[0m \u001b[0;34m=\u001b[0m \u001b[0mself\u001b[0m\u001b[0;34m.\u001b[0m\u001b[0m_send_single_request\u001b[0m\u001b[0;34m(\u001b[0m\u001b[0mrequest\u001b[0m\u001b[0;34m)\u001b[0m\u001b[0;34m\u001b[0m\u001b[0;34m\u001b[0m\u001b[0m\n\u001b[0m\u001b[1;32m    974\u001b[0m             \u001b[0;32mtry\u001b[0m\u001b[0;34m:\u001b[0m\u001b[0;34m\u001b[0m\u001b[0;34m\u001b[0m\u001b[0m\n\u001b[1;32m    975\u001b[0m                 \u001b[0;32mfor\u001b[0m \u001b[0mhook\u001b[0m \u001b[0;32min\u001b[0m \u001b[0mself\u001b[0m\u001b[0;34m.\u001b[0m\u001b[0m_event_hooks\u001b[0m\u001b[0;34m[\u001b[0m\u001b[0;34m\"response\"\u001b[0m\u001b[0;34m]\u001b[0m\u001b[0;34m:\u001b[0m\u001b[0;34m\u001b[0m\u001b[0;34m\u001b[0m\u001b[0m\n",
      "\u001b[0;32m~/.local/lib/python3.10/site-packages/httpx/_client.py\u001b[0m in \u001b[0;36m_send_single_request\u001b[0;34m(self, request)\u001b[0m\n\u001b[1;32m   1007\u001b[0m \u001b[0;34m\u001b[0m\u001b[0m\n\u001b[1;32m   1008\u001b[0m         \u001b[0;32mwith\u001b[0m \u001b[0mrequest_context\u001b[0m\u001b[0;34m(\u001b[0m\u001b[0mrequest\u001b[0m\u001b[0;34m=\u001b[0m\u001b[0mrequest\u001b[0m\u001b[0;34m)\u001b[0m\u001b[0;34m:\u001b[0m\u001b[0;34m\u001b[0m\u001b[0;34m\u001b[0m\u001b[0m\n\u001b[0;32m-> 1009\u001b[0;31m             \u001b[0mresponse\u001b[0m \u001b[0;34m=\u001b[0m \u001b[0mtransport\u001b[0m\u001b[0;34m.\u001b[0m\u001b[0mhandle_request\u001b[0m\u001b[0;34m(\u001b[0m\u001b[0mrequest\u001b[0m\u001b[0;34m)\u001b[0m\u001b[0;34m\u001b[0m\u001b[0;34m\u001b[0m\u001b[0m\n\u001b[0m\u001b[1;32m   1010\u001b[0m \u001b[0;34m\u001b[0m\u001b[0m\n\u001b[1;32m   1011\u001b[0m         \u001b[0;32massert\u001b[0m \u001b[0misinstance\u001b[0m\u001b[0;34m(\u001b[0m\u001b[0mresponse\u001b[0m\u001b[0;34m.\u001b[0m\u001b[0mstream\u001b[0m\u001b[0;34m,\u001b[0m \u001b[0mSyncByteStream\u001b[0m\u001b[0;34m)\u001b[0m\u001b[0;34m\u001b[0m\u001b[0;34m\u001b[0m\u001b[0m\n",
      "\u001b[0;32m~/.local/lib/python3.10/site-packages/httpx/_transports/default.py\u001b[0m in \u001b[0;36mhandle_request\u001b[0;34m(self, request)\u001b[0m\n\u001b[1;32m    216\u001b[0m         )\n\u001b[1;32m    217\u001b[0m         \u001b[0;32mwith\u001b[0m \u001b[0mmap_httpcore_exceptions\u001b[0m\u001b[0;34m(\u001b[0m\u001b[0;34m)\u001b[0m\u001b[0;34m:\u001b[0m\u001b[0;34m\u001b[0m\u001b[0;34m\u001b[0m\u001b[0m\n\u001b[0;32m--> 218\u001b[0;31m             \u001b[0mresp\u001b[0m \u001b[0;34m=\u001b[0m \u001b[0mself\u001b[0m\u001b[0;34m.\u001b[0m\u001b[0m_pool\u001b[0m\u001b[0;34m.\u001b[0m\u001b[0mhandle_request\u001b[0m\u001b[0;34m(\u001b[0m\u001b[0mreq\u001b[0m\u001b[0;34m)\u001b[0m\u001b[0;34m\u001b[0m\u001b[0;34m\u001b[0m\u001b[0m\n\u001b[0m\u001b[1;32m    219\u001b[0m \u001b[0;34m\u001b[0m\u001b[0m\n\u001b[1;32m    220\u001b[0m         \u001b[0;32massert\u001b[0m \u001b[0misinstance\u001b[0m\u001b[0;34m(\u001b[0m\u001b[0mresp\u001b[0m\u001b[0;34m.\u001b[0m\u001b[0mstream\u001b[0m\u001b[0;34m,\u001b[0m \u001b[0mtyping\u001b[0m\u001b[0;34m.\u001b[0m\u001b[0mIterable\u001b[0m\u001b[0;34m)\u001b[0m\u001b[0;34m\u001b[0m\u001b[0;34m\u001b[0m\u001b[0m\n",
      "\u001b[0;32m~/.local/lib/python3.10/site-packages/httpcore/_sync/connection_pool.py\u001b[0m in \u001b[0;36mhandle_request\u001b[0;34m(self, request)\u001b[0m\n\u001b[1;32m    251\u001b[0m             \u001b[0;32mexcept\u001b[0m \u001b[0mBaseException\u001b[0m \u001b[0;32mas\u001b[0m \u001b[0mexc\u001b[0m\u001b[0;34m:\u001b[0m\u001b[0;34m\u001b[0m\u001b[0;34m\u001b[0m\u001b[0m\n\u001b[1;32m    252\u001b[0m                 \u001b[0mself\u001b[0m\u001b[0;34m.\u001b[0m\u001b[0mresponse_closed\u001b[0m\u001b[0;34m(\u001b[0m\u001b[0mstatus\u001b[0m\u001b[0;34m)\u001b[0m\u001b[0;34m\u001b[0m\u001b[0;34m\u001b[0m\u001b[0m\n\u001b[0;32m--> 253\u001b[0;31m                 \u001b[0;32mraise\u001b[0m \u001b[0mexc\u001b[0m\u001b[0;34m\u001b[0m\u001b[0;34m\u001b[0m\u001b[0m\n\u001b[0m\u001b[1;32m    254\u001b[0m             \u001b[0;32melse\u001b[0m\u001b[0;34m:\u001b[0m\u001b[0;34m\u001b[0m\u001b[0;34m\u001b[0m\u001b[0m\n\u001b[1;32m    255\u001b[0m                 \u001b[0;32mbreak\u001b[0m\u001b[0;34m\u001b[0m\u001b[0;34m\u001b[0m\u001b[0m\n",
      "\u001b[0;32m~/.local/lib/python3.10/site-packages/httpcore/_sync/connection_pool.py\u001b[0m in \u001b[0;36mhandle_request\u001b[0;34m(self, request)\u001b[0m\n\u001b[1;32m    235\u001b[0m \u001b[0;34m\u001b[0m\u001b[0m\n\u001b[1;32m    236\u001b[0m             \u001b[0;32mtry\u001b[0m\u001b[0;34m:\u001b[0m\u001b[0;34m\u001b[0m\u001b[0;34m\u001b[0m\u001b[0m\n\u001b[0;32m--> 237\u001b[0;31m                 \u001b[0mresponse\u001b[0m \u001b[0;34m=\u001b[0m \u001b[0mconnection\u001b[0m\u001b[0;34m.\u001b[0m\u001b[0mhandle_request\u001b[0m\u001b[0;34m(\u001b[0m\u001b[0mrequest\u001b[0m\u001b[0;34m)\u001b[0m\u001b[0;34m\u001b[0m\u001b[0;34m\u001b[0m\u001b[0m\n\u001b[0m\u001b[1;32m    238\u001b[0m             \u001b[0;32mexcept\u001b[0m \u001b[0mConnectionNotAvailable\u001b[0m\u001b[0;34m:\u001b[0m\u001b[0;34m\u001b[0m\u001b[0;34m\u001b[0m\u001b[0m\n\u001b[1;32m    239\u001b[0m                 \u001b[0;31m# The ConnectionNotAvailable exception is a special case, that\u001b[0m\u001b[0;34m\u001b[0m\u001b[0;34m\u001b[0m\u001b[0m\n",
      "\u001b[0;32m~/.local/lib/python3.10/site-packages/httpcore/_sync/connection.py\u001b[0m in \u001b[0;36mhandle_request\u001b[0;34m(self, request)\u001b[0m\n\u001b[1;32m     88\u001b[0m                 \u001b[0;32mraise\u001b[0m \u001b[0mConnectionNotAvailable\u001b[0m\u001b[0;34m(\u001b[0m\u001b[0;34m)\u001b[0m\u001b[0;34m\u001b[0m\u001b[0;34m\u001b[0m\u001b[0m\n\u001b[1;32m     89\u001b[0m \u001b[0;34m\u001b[0m\u001b[0m\n\u001b[0;32m---> 90\u001b[0;31m         \u001b[0;32mreturn\u001b[0m \u001b[0mself\u001b[0m\u001b[0;34m.\u001b[0m\u001b[0m_connection\u001b[0m\u001b[0;34m.\u001b[0m\u001b[0mhandle_request\u001b[0m\u001b[0;34m(\u001b[0m\u001b[0mrequest\u001b[0m\u001b[0;34m)\u001b[0m\u001b[0;34m\u001b[0m\u001b[0;34m\u001b[0m\u001b[0m\n\u001b[0m\u001b[1;32m     91\u001b[0m \u001b[0;34m\u001b[0m\u001b[0m\n\u001b[1;32m     92\u001b[0m     \u001b[0;32mdef\u001b[0m \u001b[0m_connect\u001b[0m\u001b[0;34m(\u001b[0m\u001b[0mself\u001b[0m\u001b[0;34m,\u001b[0m \u001b[0mrequest\u001b[0m\u001b[0;34m:\u001b[0m \u001b[0mRequest\u001b[0m\u001b[0;34m)\u001b[0m \u001b[0;34m->\u001b[0m \u001b[0mNetworkStream\u001b[0m\u001b[0;34m:\u001b[0m\u001b[0;34m\u001b[0m\u001b[0;34m\u001b[0m\u001b[0m\n",
      "\u001b[0;32m~/.local/lib/python3.10/site-packages/httpcore/_sync/http11.py\u001b[0m in \u001b[0;36mhandle_request\u001b[0;34m(self, request)\u001b[0m\n\u001b[1;32m    110\u001b[0m             \u001b[0;32mwith\u001b[0m \u001b[0mTrace\u001b[0m\u001b[0;34m(\u001b[0m\u001b[0;34m\"http11.response_closed\"\u001b[0m\u001b[0;34m,\u001b[0m \u001b[0mrequest\u001b[0m\u001b[0;34m)\u001b[0m \u001b[0;32mas\u001b[0m \u001b[0mtrace\u001b[0m\u001b[0;34m:\u001b[0m\u001b[0;34m\u001b[0m\u001b[0;34m\u001b[0m\u001b[0m\n\u001b[1;32m    111\u001b[0m                 \u001b[0mself\u001b[0m\u001b[0;34m.\u001b[0m\u001b[0m_response_closed\u001b[0m\u001b[0;34m(\u001b[0m\u001b[0;34m)\u001b[0m\u001b[0;34m\u001b[0m\u001b[0;34m\u001b[0m\u001b[0m\n\u001b[0;32m--> 112\u001b[0;31m             \u001b[0;32mraise\u001b[0m \u001b[0mexc\u001b[0m\u001b[0;34m\u001b[0m\u001b[0;34m\u001b[0m\u001b[0m\n\u001b[0m\u001b[1;32m    113\u001b[0m \u001b[0;34m\u001b[0m\u001b[0m\n\u001b[1;32m    114\u001b[0m     \u001b[0;31m# Sending the request...\u001b[0m\u001b[0;34m\u001b[0m\u001b[0;34m\u001b[0m\u001b[0m\n",
      "\u001b[0;32m~/.local/lib/python3.10/site-packages/httpcore/_sync/http11.py\u001b[0m in \u001b[0;36mhandle_request\u001b[0;34m(self, request)\u001b[0m\n\u001b[1;32m     89\u001b[0m                     \u001b[0mreason_phrase\u001b[0m\u001b[0;34m,\u001b[0m\u001b[0;34m\u001b[0m\u001b[0;34m\u001b[0m\u001b[0m\n\u001b[1;32m     90\u001b[0m                     \u001b[0mheaders\u001b[0m\u001b[0;34m,\u001b[0m\u001b[0;34m\u001b[0m\u001b[0;34m\u001b[0m\u001b[0m\n\u001b[0;32m---> 91\u001b[0;31m                 ) = self._receive_response_headers(**kwargs)\n\u001b[0m\u001b[1;32m     92\u001b[0m                 trace.return_value = (\n\u001b[1;32m     93\u001b[0m                     \u001b[0mhttp_version\u001b[0m\u001b[0;34m,\u001b[0m\u001b[0;34m\u001b[0m\u001b[0;34m\u001b[0m\u001b[0m\n",
      "\u001b[0;32m~/.local/lib/python3.10/site-packages/httpcore/_sync/http11.py\u001b[0m in \u001b[0;36m_receive_response_headers\u001b[0;34m(self, request)\u001b[0m\n\u001b[1;32m    153\u001b[0m \u001b[0;34m\u001b[0m\u001b[0m\n\u001b[1;32m    154\u001b[0m         \u001b[0;32mwhile\u001b[0m \u001b[0;32mTrue\u001b[0m\u001b[0;34m:\u001b[0m\u001b[0;34m\u001b[0m\u001b[0;34m\u001b[0m\u001b[0m\n\u001b[0;32m--> 155\u001b[0;31m             \u001b[0mevent\u001b[0m \u001b[0;34m=\u001b[0m \u001b[0mself\u001b[0m\u001b[0;34m.\u001b[0m\u001b[0m_receive_event\u001b[0m\u001b[0;34m(\u001b[0m\u001b[0mtimeout\u001b[0m\u001b[0;34m=\u001b[0m\u001b[0mtimeout\u001b[0m\u001b[0;34m)\u001b[0m\u001b[0;34m\u001b[0m\u001b[0;34m\u001b[0m\u001b[0m\n\u001b[0m\u001b[1;32m    156\u001b[0m             \u001b[0;32mif\u001b[0m \u001b[0misinstance\u001b[0m\u001b[0;34m(\u001b[0m\u001b[0mevent\u001b[0m\u001b[0;34m,\u001b[0m \u001b[0mh11\u001b[0m\u001b[0;34m.\u001b[0m\u001b[0mResponse\u001b[0m\u001b[0;34m)\u001b[0m\u001b[0;34m:\u001b[0m\u001b[0;34m\u001b[0m\u001b[0;34m\u001b[0m\u001b[0m\n\u001b[1;32m    157\u001b[0m                 \u001b[0;32mbreak\u001b[0m\u001b[0;34m\u001b[0m\u001b[0;34m\u001b[0m\u001b[0m\n",
      "\u001b[0;32m~/.local/lib/python3.10/site-packages/httpcore/_sync/http11.py\u001b[0m in \u001b[0;36m_receive_event\u001b[0;34m(self, timeout)\u001b[0m\n\u001b[1;32m    189\u001b[0m \u001b[0;34m\u001b[0m\u001b[0m\n\u001b[1;32m    190\u001b[0m             \u001b[0;32mif\u001b[0m \u001b[0mevent\u001b[0m \u001b[0;32mis\u001b[0m \u001b[0mh11\u001b[0m\u001b[0;34m.\u001b[0m\u001b[0mNEED_DATA\u001b[0m\u001b[0;34m:\u001b[0m\u001b[0;34m\u001b[0m\u001b[0;34m\u001b[0m\u001b[0m\n\u001b[0;32m--> 191\u001b[0;31m                 data = self._network_stream.read(\n\u001b[0m\u001b[1;32m    192\u001b[0m                     \u001b[0mself\u001b[0m\u001b[0;34m.\u001b[0m\u001b[0mREAD_NUM_BYTES\u001b[0m\u001b[0;34m,\u001b[0m \u001b[0mtimeout\u001b[0m\u001b[0;34m=\u001b[0m\u001b[0mtimeout\u001b[0m\u001b[0;34m\u001b[0m\u001b[0;34m\u001b[0m\u001b[0m\n\u001b[1;32m    193\u001b[0m                 )\n",
      "\u001b[0;32m~/.local/lib/python3.10/site-packages/httpcore/backends/sync.py\u001b[0m in \u001b[0;36mread\u001b[0;34m(self, max_bytes, timeout)\u001b[0m\n\u001b[1;32m     26\u001b[0m         \u001b[0;32mwith\u001b[0m \u001b[0mmap_exceptions\u001b[0m\u001b[0;34m(\u001b[0m\u001b[0mexc_map\u001b[0m\u001b[0;34m)\u001b[0m\u001b[0;34m:\u001b[0m\u001b[0;34m\u001b[0m\u001b[0;34m\u001b[0m\u001b[0m\n\u001b[1;32m     27\u001b[0m             \u001b[0mself\u001b[0m\u001b[0;34m.\u001b[0m\u001b[0m_sock\u001b[0m\u001b[0;34m.\u001b[0m\u001b[0msettimeout\u001b[0m\u001b[0;34m(\u001b[0m\u001b[0mtimeout\u001b[0m\u001b[0;34m)\u001b[0m\u001b[0;34m\u001b[0m\u001b[0;34m\u001b[0m\u001b[0m\n\u001b[0;32m---> 28\u001b[0;31m             \u001b[0;32mreturn\u001b[0m \u001b[0mself\u001b[0m\u001b[0;34m.\u001b[0m\u001b[0m_sock\u001b[0m\u001b[0;34m.\u001b[0m\u001b[0mrecv\u001b[0m\u001b[0;34m(\u001b[0m\u001b[0mmax_bytes\u001b[0m\u001b[0;34m)\u001b[0m\u001b[0;34m\u001b[0m\u001b[0;34m\u001b[0m\u001b[0m\n\u001b[0m\u001b[1;32m     29\u001b[0m \u001b[0;34m\u001b[0m\u001b[0m\n\u001b[1;32m     30\u001b[0m     \u001b[0;32mdef\u001b[0m \u001b[0mwrite\u001b[0m\u001b[0;34m(\u001b[0m\u001b[0mself\u001b[0m\u001b[0;34m,\u001b[0m \u001b[0mbuffer\u001b[0m\u001b[0;34m:\u001b[0m \u001b[0mbytes\u001b[0m\u001b[0;34m,\u001b[0m \u001b[0mtimeout\u001b[0m\u001b[0;34m:\u001b[0m \u001b[0mtyping\u001b[0m\u001b[0;34m.\u001b[0m\u001b[0mOptional\u001b[0m\u001b[0;34m[\u001b[0m\u001b[0mfloat\u001b[0m\u001b[0;34m]\u001b[0m \u001b[0;34m=\u001b[0m \u001b[0;32mNone\u001b[0m\u001b[0;34m)\u001b[0m \u001b[0;34m->\u001b[0m \u001b[0;32mNone\u001b[0m\u001b[0;34m:\u001b[0m\u001b[0;34m\u001b[0m\u001b[0;34m\u001b[0m\u001b[0m\n",
      "\u001b[0;32m/usr/lib/python3.10/ssl.py\u001b[0m in \u001b[0;36mrecv\u001b[0;34m(self, buflen, flags)\u001b[0m\n\u001b[1;32m   1256\u001b[0m                     \u001b[0;34m\"non-zero flags not allowed in calls to recv() on %s\"\u001b[0m \u001b[0;34m%\u001b[0m\u001b[0;34m\u001b[0m\u001b[0;34m\u001b[0m\u001b[0m\n\u001b[1;32m   1257\u001b[0m                     self.__class__)\n\u001b[0;32m-> 1258\u001b[0;31m             \u001b[0;32mreturn\u001b[0m \u001b[0mself\u001b[0m\u001b[0;34m.\u001b[0m\u001b[0mread\u001b[0m\u001b[0;34m(\u001b[0m\u001b[0mbuflen\u001b[0m\u001b[0;34m)\u001b[0m\u001b[0;34m\u001b[0m\u001b[0;34m\u001b[0m\u001b[0m\n\u001b[0m\u001b[1;32m   1259\u001b[0m         \u001b[0;32melse\u001b[0m\u001b[0;34m:\u001b[0m\u001b[0;34m\u001b[0m\u001b[0;34m\u001b[0m\u001b[0m\n\u001b[1;32m   1260\u001b[0m             \u001b[0;32mreturn\u001b[0m \u001b[0msuper\u001b[0m\u001b[0;34m(\u001b[0m\u001b[0;34m)\u001b[0m\u001b[0;34m.\u001b[0m\u001b[0mrecv\u001b[0m\u001b[0;34m(\u001b[0m\u001b[0mbuflen\u001b[0m\u001b[0;34m,\u001b[0m \u001b[0mflags\u001b[0m\u001b[0;34m)\u001b[0m\u001b[0;34m\u001b[0m\u001b[0;34m\u001b[0m\u001b[0m\n",
      "\u001b[0;32m/usr/lib/python3.10/ssl.py\u001b[0m in \u001b[0;36mread\u001b[0;34m(self, len, buffer)\u001b[0m\n\u001b[1;32m   1129\u001b[0m                 \u001b[0;32mreturn\u001b[0m \u001b[0mself\u001b[0m\u001b[0;34m.\u001b[0m\u001b[0m_sslobj\u001b[0m\u001b[0;34m.\u001b[0m\u001b[0mread\u001b[0m\u001b[0;34m(\u001b[0m\u001b[0mlen\u001b[0m\u001b[0;34m,\u001b[0m \u001b[0mbuffer\u001b[0m\u001b[0;34m)\u001b[0m\u001b[0;34m\u001b[0m\u001b[0;34m\u001b[0m\u001b[0m\n\u001b[1;32m   1130\u001b[0m             \u001b[0;32melse\u001b[0m\u001b[0;34m:\u001b[0m\u001b[0;34m\u001b[0m\u001b[0;34m\u001b[0m\u001b[0m\n\u001b[0;32m-> 1131\u001b[0;31m                 \u001b[0;32mreturn\u001b[0m \u001b[0mself\u001b[0m\u001b[0;34m.\u001b[0m\u001b[0m_sslobj\u001b[0m\u001b[0;34m.\u001b[0m\u001b[0mread\u001b[0m\u001b[0;34m(\u001b[0m\u001b[0mlen\u001b[0m\u001b[0;34m)\u001b[0m\u001b[0;34m\u001b[0m\u001b[0;34m\u001b[0m\u001b[0m\n\u001b[0m\u001b[1;32m   1132\u001b[0m         \u001b[0;32mexcept\u001b[0m \u001b[0mSSLError\u001b[0m \u001b[0;32mas\u001b[0m \u001b[0mx\u001b[0m\u001b[0;34m:\u001b[0m\u001b[0;34m\u001b[0m\u001b[0;34m\u001b[0m\u001b[0m\n\u001b[1;32m   1133\u001b[0m             \u001b[0;32mif\u001b[0m \u001b[0mx\u001b[0m\u001b[0;34m.\u001b[0m\u001b[0margs\u001b[0m\u001b[0;34m[\u001b[0m\u001b[0;36m0\u001b[0m\u001b[0;34m]\u001b[0m \u001b[0;34m==\u001b[0m \u001b[0mSSL_ERROR_EOF\u001b[0m \u001b[0;32mand\u001b[0m \u001b[0mself\u001b[0m\u001b[0;34m.\u001b[0m\u001b[0msuppress_ragged_eofs\u001b[0m\u001b[0;34m:\u001b[0m\u001b[0;34m\u001b[0m\u001b[0;34m\u001b[0m\u001b[0m\n",
      "\u001b[0;31mKeyboardInterrupt\u001b[0m: "
     ]
    }
   ],
   "source": [
    "client.max_results_per_provider = 1760\n",
    "respFields = [\"chemical_formula_descriptive\", \"species_at_sites\",\"lattice_vectors\"]\n",
    "resStruct = client.get(filter=filterQry.strip(), response_fields=respFields)\n",
    "providerList = list(resStruct['structures'][filterQry].keys())"
   ]
  },
  {
   "cell_type": "markdown",
   "id": "fd64a2b4",
   "metadata": {},
   "source": [
    "# Processing and density calc\n",
    "A Pandas DataFrame is used to store the data obtained as JSON from the DBs. Then lattice vectors and information about species at site is used to calculate density"
   ]
  },
  {
   "cell_type": "code",
   "execution_count": 39,
   "id": "0f737382",
   "metadata": {},
   "outputs": [
    {
     "data": {
      "text/html": [
       "<div>\n",
       "<style scoped>\n",
       "    .dataframe tbody tr th:only-of-type {\n",
       "        vertical-align: middle;\n",
       "    }\n",
       "\n",
       "    .dataframe tbody tr th {\n",
       "        vertical-align: top;\n",
       "    }\n",
       "\n",
       "    .dataframe thead th {\n",
       "        text-align: right;\n",
       "    }\n",
       "</style>\n",
       "<table border=\"1\" class=\"dataframe\">\n",
       "  <thead>\n",
       "    <tr style=\"text-align: right;\">\n",
       "      <th></th>\n",
       "      <th>chemical_formula_descriptive</th>\n",
       "      <th>species_at_sites</th>\n",
       "      <th>lattice_vectors</th>\n",
       "    </tr>\n",
       "  </thead>\n",
       "  <tbody>\n",
       "  </tbody>\n",
       "</table>\n",
       "</div>"
      ],
      "text/plain": [
       "Empty DataFrame\n",
       "Columns: [chemical_formula_descriptive, species_at_sites, lattice_vectors]\n",
       "Index: []"
      ]
     },
     "execution_count": 39,
     "metadata": {},
     "output_type": "execute_result"
    }
   ],
   "source": [
    "df = pd.DataFrame(columns=respFields)\n",
    "df.attrs['Filter Query'] = filterQry\n",
    "df.attrs['Providers List'] = client.base_urls\n",
    "df.astype({'chemical_formula_descriptive':str, 'species_at_sites':object, 'lattice_vectors':object})"
   ]
  },
  {
   "cell_type": "code",
   "execution_count": 40,
   "id": "42a6926a",
   "metadata": {},
   "outputs": [],
   "source": [
    "for provider in resStruct['structures'][filterQry].keys():\n",
    "    for entry in resStruct['structures'][filterQry][provider]['data']:\n",
    "        if type(entry['attributes']['species_at_sites'])==list:\n",
    "            df = df.append({'provider':provider,\n",
    "                            'id':entry['id'],\n",
    "                            'chemical_formula_descriptive':entry['attributes']['chemical_formula_descriptive'],\n",
    "                            'species_at_sites':entry['attributes']['species_at_sites'],\n",
    "                            'lattice_vectors':np.array(entry['attributes']['lattice_vectors'])}, ignore_index=True)"
   ]
  },
  {
   "cell_type": "code",
   "execution_count": 41,
   "id": "b56409e0",
   "metadata": {},
   "outputs": [],
   "source": [
    "densToSIFactor = (1.6605402E-27/1E-30)\n",
    "df['volume ang^3'] = df.apply(lambda row: np.linalg.det(row['lattice_vectors']), axis=1)\n",
    "df['mass au'] = df.apply(lambda row: sum([eval(f'md.{elem}.atomic_weight') for elem in row['species_at_sites']]), axis=1)\n",
    "# df['mass au'] = df.apply(lambda row: sum([md.element(elem).atomic_weight for elem in row['species_at_sites']]), axis=1) #Less dodgy code but much slower\n",
    "df['density au/ang^3'] = df.apply(lambda row: row['volume ang^3']/row['mass au'], axis=1)\n",
    "df['density kg/m^3'] = df.apply(lambda row: row['density au/ang^3']*densToSIFactor, axis=1)\n",
    "df['composition'] = df.apply(lambda row: dict(pd.Series(row['species_at_sites']).value_counts(normalize=True)), axis=1)"
   ]
  },
  {
   "cell_type": "code",
   "execution_count": 42,
   "id": "e7589c09",
   "metadata": {},
   "outputs": [],
   "source": [
    "allElem = set([])\n",
    "for row in df['composition']:\n",
    "    allElem.update(list(row.keys()))\n",
    "allElem = list(allElem)"
   ]
  },
  {
   "cell_type": "code",
   "execution_count": 43,
   "id": "658dbe58",
   "metadata": {
    "scrolled": true
   },
   "outputs": [],
   "source": [
    "def compVecVal(elem, compDict):\n",
    "    if elem in compDict.keys():\n",
    "        return compDict[elem]\n",
    "    else:\n",
    "        return 0.0"
   ]
  },
  {
   "cell_type": "markdown",
   "id": "c3af3bf9",
   "metadata": {},
   "source": [
    "# Feature generation for ML"
   ]
  },
  {
   "cell_type": "code",
   "execution_count": 44,
   "id": "f83c03ed",
   "metadata": {},
   "outputs": [],
   "source": [
    "df['compVec'] = df.apply(lambda row: [compVecVal(elem, row['composition']) for elem in allElem], axis=1) #can be made fater? Use sparse vector for compVec?"
   ]
  },
  {
   "cell_type": "markdown",
   "id": "27f74937",
   "metadata": {},
   "source": [
    "# ML"
   ]
  },
  {
   "cell_type": "code",
   "execution_count": 20,
   "id": "2d3247a7",
   "metadata": {},
   "outputs": [],
   "source": [
    "from sklearn.neural_network import MLPRegressor\n",
    "from sklearn.datasets import make_regression\n",
    "from sklearn.model_selection import train_test_split\n",
    "from sklearn.pipeline import make_pipeline\n",
    "from sklearn.preprocessing import StandardScaler\n",
    "from sklearn.ensemble import RandomForestRegressor\n",
    "import matplotlib_venn as vn\n",
    "import matplotlib.pyplot as plt\n",
    "import pandas as pd\n",
    "from matplotlib.legend_handler import HandlerTuple\n",
    "colVals = ['tab:blue', 'tab:orange', 'tab:green', 'tab:gray']\n",
    "\n",
    "\n",
    "plt.rcParams['mathtext.fontset'] = 'stix'\n",
    "plt.rcParams['font.family'] = 'STIXGeneral'\n",
    "\n",
    "# plt.rcParams.update({\n",
    "#     \"text.usetex\": True,\n",
    "#     \"font.family\": \"Helvetica\"\n",
    "# })"
   ]
  },
  {
   "cell_type": "markdown",
   "id": "94b7552b",
   "metadata": {},
   "source": [
    "As an exemplar ML technique, a Random Forest Regressor is used"
   ]
  },
  {
   "cell_type": "code",
   "execution_count": 3,
   "id": "98bcec67",
   "metadata": {},
   "outputs": [],
   "source": [
    "def getModel(X_train, y_train):\n",
    "    pipe = make_pipeline(RandomForestRegressor())\n",
    "#     pipe = make_pipeline(MLPRegressor(hidden_layer_sizes=(20,20,),max_iter=1000))\n",
    "    pipe.fit(X_train, y_train)\n",
    "    return pipe"
   ]
  },
  {
   "cell_type": "code",
   "execution_count": 4,
   "id": "fe0e602e",
   "metadata": {},
   "outputs": [],
   "source": [
    "df = pd.read_pickle('exampleTrain3prov2.pkl')\n",
    "providerList = list(df['provider'].unique())"
   ]
  },
  {
   "cell_type": "markdown",
   "id": "1207469d",
   "metadata": {},
   "source": [
    "Splitting data for training and testing"
   ]
  },
  {
   "cell_type": "code",
   "execution_count": 5,
   "id": "c32ce1d7",
   "metadata": {},
   "outputs": [],
   "source": [
    "X_train = [[] for x in range(len(providerList)+1)]\n",
    "y_train = [[] for x in range(len(providerList)+1)]\n",
    "X_test = [[] for x in range(len(providerList)+1)]\n",
    "y_test = [[] for x in range(len(providerList)+1)]\n",
    "models = [[] for x in range(len(providerList)+1)]"
   ]
  },
  {
   "cell_type": "markdown",
   "id": "1a245630",
   "metadata": {},
   "source": [
    "Model training and prediction"
   ]
  },
  {
   "cell_type": "code",
   "execution_count": 6,
   "id": "4a71c93c",
   "metadata": {},
   "outputs": [],
   "source": [
    "for idx, provider in enumerate(providerList):\n",
    "    Xtemp = list(df[df['provider']==provider]['compVec'])\n",
    "    ytemp = list(df[df['provider']==provider]['density kg/m^3'])\n",
    "    X_train[idx], X_test[idx], y_train[idx], y_test[idx] = train_test_split(Xtemp, ytemp, random_state=2, test_size=0.8)\n",
    "    models[idx] = getModel(X_train[idx], y_train[idx])\n",
    "    \n",
    "\n",
    "X_train[-1] = [item for sublist in X_train[:-1] for item in sublist]\n",
    "y_train[-1] = [item for sublist in y_train[:-1] for item in sublist]\n",
    "X_test[-1] = [item for sublist in X_test[:-1] for item in sublist]\n",
    "y_test[-1] = [item for sublist in y_test[:-1] for item in sublist]\n",
    "models[-1] = getModel(X_train[-1], y_train[-1])\n",
    "\n",
    "rsq = []\n",
    "for model in models:\n",
    "    rsq.append(model.score(X_test[-1], y_test[-1]))\n",
    "    \n",
    "barLab = [f'P{idx+1}' for idx,_ in enumerate(providerList)]\n",
    "barLab.append('C')"
   ]
  },
  {
   "cell_type": "code",
   "execution_count": 7,
   "id": "700e5732",
   "metadata": {},
   "outputs": [],
   "source": [
    "df['Unique Elem'] = df.apply(lambda row: set(row['species_at_sites']),axis =1)"
   ]
  },
  {
   "cell_type": "code",
   "execution_count": 8,
   "id": "edd749bf",
   "metadata": {},
   "outputs": [],
   "source": [
    "allElemList = [[] for x in providerList]\n",
    "for idx, provider in enumerate(providerList):\n",
    "    for listVal in df['species_at_sites'][df['provider']==provider]:\n",
    "        allElemList[idx]+=listVal\n",
    "\n",
    "dictAllElem = [dict(pd.Series(listVal).value_counts(normalize=True)) for listVal in allElemList]"
   ]
  },
  {
   "cell_type": "code",
   "execution_count": 9,
   "id": "1e85ad54",
   "metadata": {},
   "outputs": [
    {
     "data": {
      "image/png": "[encoded data removed]",
      "text/plain": [
       "<Figure size 432x720 with 1 Axes>"
      ]
     },
     "metadata": {
      "needs_background": "light"
     },
     "output_type": "display_data"
    }
   ],
   "source": [
    "plt.figure(figsize=(6, 10))\n",
    "ax = plt.subplot()\n",
    "for idx, dicts in enumerate(dictAllElem):\n",
    "    ax.barh(list(dicts.keys()), dicts.values(), alpha =0.5, label = barLab[idx], color=colVals[idx])\n",
    "ax.tick_params(axis='both', which='major', labelsize=10)\n",
    "ax.set_title('Frequecy of occourance of elements in each DB', fontweight='bold')\n",
    "plt.show()"
   ]
  },
  {
   "cell_type": "code",
   "execution_count": 10,
   "id": "9badfc6a",
   "metadata": {},
   "outputs": [],
   "source": [
    "setElems = [set([]) for _ in providerList]\n",
    "for idx, provider in enumerate(providerList):\n",
    "    for setVal in df['Unique Elem'][df['provider']==provider]:\n",
    "        setElems[idx].update(setVal)"
   ]
  },
  {
   "cell_type": "code",
   "execution_count": 11,
   "id": "cbee275d",
   "metadata": {},
   "outputs": [
    {
     "data": {
      "image/png": "[encoded data removed]",
      "text/plain": [
       "<Figure size 288x432 with 2 Axes>"
      ]
     },
     "metadata": {
      "needs_background": "light"
     },
     "output_type": "display_data"
    }
   ],
   "source": [
    "fig, ax = plt.subplots(2, figsize=(4,6), gridspec_kw={'height_ratios': [1.5, 4]})\n",
    "p = ax[0].barh(barLab, [len(y_train[idx])+len(y_test[idx]) for idx,_ in enumerate(y_test)], color=colVals, alpha=0.5)\n",
    "ax[0].bar_label(p, fmt='%.2d', label_type='center')\n",
    "ax[0].set_title('Number of materials')\n",
    "ax[0].xaxis.tick_top()\n",
    "\n",
    "vn.venn3([setElems[0], setElems[1], setElems[2]], barLab, set_colors=colVals, alpha=0.5, ax=ax[1])\n",
    "ax[1].set_title('Unique elements')\n",
    "plt.subplots_adjust(hspace=0.5)\n",
    "# plt.savefig('countVenn.pdf', bbox_inches='tight')"
   ]
  },
  {
   "cell_type": "code",
   "execution_count": 21,
   "id": "e7cf07de",
   "metadata": {
    "scrolled": false
   },
   "outputs": [
    {
     "data": {
      "image/png": "[encoded data removed]",
      "text/plain": [
       "<Figure size 288x432 with 2 Axes>"
      ]
     },
     "metadata": {
      "needs_background": "light"
     },
     "output_type": "display_data"
    }
   ],
   "source": [
    "fig, ax = plt.subplots(2, figsize=(4,6), gridspec_kw={'height_ratios': [1.5, 4]})\n",
    "p = ax[0].barh([lab+' Model' for lab in barLab], rsq, color=colVals, alpha=0.5)\n",
    "ax[0].bar_label(p, fmt='%.2f', label_type='center')\n",
    "ax[0].text(0.02, 2-0.25, f'{rsq[2]:.2f}')\n",
    "ax[0].set_title('R$^2$')\n",
    "ax[0].set_xlim(0, 1)\n",
    "ax[0].xaxis.tick_top()\n",
    "\n",
    "\n",
    "samps = df[['compVec', 'density kg/m^3', 'provider']].sample(n=200, random_state=2)\n",
    "compVecSamps = list(samps['compVec'])\n",
    "actDens = list(samps['density kg/m^3'])\n",
    "sampProvs = list(samps['provider'])\n",
    "\n",
    "mkrSize1 = 20\n",
    "mkrSize2 = 5\n",
    "p = []\n",
    "for idx, model in enumerate(models):\n",
    "    if idx != 3:   \n",
    "        p.append(ax[1].scatter(samps['density kg/m^3'][samps['provider']==providerList[idx]],\n",
    "                      model.predict(list(samps['compVec'][samps['provider']==providerList[idx]])),\n",
    "                      s=mkrSize1, alpha=0.5, edgecolors=None, marker = 'x'))\n",
    "    else:\n",
    "        p.append(ax[1].scatter(samps['density kg/m^3'],\n",
    "                      model.predict(list(samps['compVec'])),\n",
    "                      s=mkrSize1, alpha=0.7, edgecolors=None, marker = 'x', fc='tab:grey'))\n",
    "\n",
    "plt.gca().set_prop_cycle(None)\n",
    "for idx, model in enumerate(models[:-1]):\n",
    "    p.append(ax[1].scatter(samps['density kg/m^3'][samps['provider']!=providerList[idx]],\n",
    "                  model.predict(list(samps['compVec'][samps['provider']!=providerList[idx]])),\n",
    "                  s=mkrSize2, alpha=0.5, edgecolors=None, marker = 'o'))\n",
    "\n",
    "\n",
    "ax[1].plot((0,1200), (0, 1200), 'k--', linewidth=1)\n",
    "\n",
    "ax[1].axis('tight')\n",
    "ax[1].set_xlim(0, 1200)\n",
    "ax[1].set_ylim(0, 1200)\n",
    "ax[1].set_ylabel('Predicted Density Values (kg/m$^3$)')\n",
    "ax[1].set_xlabel('Actual Density Values (kg/m$^3$)')\n",
    "ax[1].legend([(p[0], p[4]), (p[1], p[5]), (p[2], p[6]), p[3]], barLab, \n",
    "          handler_map = {tuple: HandlerTuple(None)})\n",
    "# ax[1].legend(loc='upper left', ncol=2,columnspacing = 0, fontsize=\"small\")\n",
    "# plt.subplots_adjust(hspace=0.3)\n",
    "ax[1].axis('equal')\n",
    "ax[1].axis('tight')\n",
    "ax[1].axis('square')\n",
    "\n",
    "# plt.savefig('scatterPlot.pdf', bbox_inches='tight')"
   ]
  },
  {
   "cell_type": "code",
   "execution_count": 13,
   "id": "fa43b6fa",
   "metadata": {},
   "outputs": [
    {
     "data": {
      "image/png": "[encoded data removed]",
      "text/plain": [
       "<Figure size 288x72 with 1 Axes>"
      ]
     },
     "metadata": {
      "needs_background": "light"
     },
     "output_type": "display_data"
    }
   ],
   "source": [
    "fig, ax = plt.subplots(figsize=(4,1))\n",
    "p = ax.barh([lab+' Model' for lab in barLab], rsq, color=colVals, alpha=0.5)\n",
    "ax.bar_label(p, fmt='%.2f', label_type='center')\n",
    "ax.text(0.02, 2-0.25, f'{rsq[2]:.2f}')\n",
    "ax.set_title('R$^2$')\n",
    "ax.set_xlim(0, 1)\n",
    "ax.xaxis.tick_top()\n",
    "\n",
    "# p = ax[0].barh(barLab, [len(y_train[idx])+len(y_test[idx]) for idx,_ in enumerate(y_test)], color=colVals, alpha=0.5)\n"
   ]
  },
  {
   "cell_type": "code",
   "execution_count": 55,
   "id": "5b129141",
   "metadata": {},
   "outputs": [
    {
     "data": {
      "image/png": "[encoded data removed]",
      "text/plain": [
       "<Figure size 288x288 with 3 Axes>"
      ]
     },
     "metadata": {
      "needs_background": "light"
     },
     "output_type": "display_data"
    }
   ],
   "source": [
    "fig, ax1 = plt.subplots(figsize=(4,4))\n",
    "samps = df[['compVec', 'density kg/m^3', 'provider']].sample(n=100, random_state=3)\n",
    "compVecSamps = list(samps['compVec'])\n",
    "actDens = list(samps['density kg/m^3'])\n",
    "sampProvs = list(samps['provider'])\n",
    "\n",
    "mkrSize1 = 20\n",
    "mkrSize2 = 5\n",
    "p = []\n",
    "for idx, model in enumerate(models):\n",
    "    if idx != 3:   \n",
    "        p.append(ax1.scatter(samps['density kg/m^3'][samps['provider']==providerList[idx]],\n",
    "                      model.predict(list(samps['compVec'][samps['provider']==providerList[idx]])),\n",
    "                      s=mkrSize1, alpha=0.5, edgecolors=None, marker = 'x'))\n",
    "    else:\n",
    "        p.append(ax1.scatter(samps['density kg/m^3'],\n",
    "                      model.predict(list(samps['compVec'])),\n",
    "                      s=mkrSize1*2, alpha=0.5, edgecolors=None, marker = '+', fc='tab:grey'))\n",
    "\n",
    "plt.gca().set_prop_cycle(None)\n",
    "for idx, model in enumerate(models[:-1]):\n",
    "    p.append(ax1.scatter(samps['density kg/m^3'][samps['provider']!=providerList[idx]],\n",
    "                  model.predict(list(samps['compVec'][samps['provider']!=providerList[idx]])),\n",
    "                  s=mkrSize2, alpha=0.5, edgecolors=None, marker = 'o'))\n",
    "\n",
    "\n",
    "ax1.plot((0,1200), (0, 1200), 'k--', linewidth=1)\n",
    "\n",
    "ax1.axis('tight')\n",
    "\n",
    "ax1.set_ylabel('Predicted Density Values (kg/m$^3$)')\n",
    "ax1.set_xlabel('Actual Density Values (kg/m$^3$)')\n",
    "ax1.legend([(p[0], p[4]), (p[1], p[5]), (p[2], p[6]), p[3]], ['M-'+lab for lab in barLab],\n",
    "           handler_map = {tuple: HandlerTuple(None)},\n",
    "          loc='lower left', ncol=2, columnspacing=0.1, prop={'size': 8})\n",
    "ax1.axis('equal')\n",
    "ax1.axis('tight')\n",
    "ax1.axis('square')\n",
    "ax1.set_xlim(0, 1200)\n",
    "ax1.set_ylim(0, 1200)\n",
    "\n",
    "ax2 = fig.add_axes([0.25, 0.72, 0.4, 0.14])\n",
    "p = ax2.barh(['M-'+lab for lab in barLab], rsq, color=colVals, alpha=0.5)\n",
    "ax2.bar_label(p, fmt='%.2f', label_type='center', fontsize=8)\n",
    "ax2.text(0.02, 2-0.25, f'{rsq[2]:.2f}', fontsize=8)\n",
    "ax2.set_xlim(0, 1)\n",
    "ax2.set_xticks([0, 1])\n",
    "ax2.set_xlabel('R$^2$')\n",
    "ax2.xaxis.set_label_coords(0.5, -0.2)\n",
    "ax2.tick_params(labelsize=8)\n",
    "# ax2.xaxis.tick_top()\n",
    "\n",
    "# plt.show()\n",
    "ax3 = fig.add_axes([0.54, 0.15, 0.15, 0.15])\n",
    "v = vn.venn3([setElems[0], setElems[1], setElems[2]], barLab, set_colors=colVals, alpha=0.5, ax=ax3)\n",
    "# ax.set_title('Unique elements')\n",
    "plt.subplots_adjust(hspace=0.5)\n",
    "\n",
    "v.get_label_by_id('A').set_text(f'P1 ({len(y_train[0])+len(y_test[0])} Entries)')\n",
    "v.get_label_by_id('B').set_text(f'P2 ({len(y_train[1])+len(y_test[1])} Entries)')\n",
    "v.get_label_by_id('C').set_text(f'P3 ({len(y_train[2])+len(y_test[2])} Entries)')\n",
    "\n",
    "v.get_label_by_id('A').set_x(0.5)\n",
    "for text in v.set_labels:\n",
    "    text.set_fontsize(8)\n",
    "for text in v.subset_labels:\n",
    "    try:\n",
    "        text.set_fontsize(6)\n",
    "    except:\n",
    "        continue\n",
    "\n",
    "plt.savefig('scatterPlot.pdf', bbox_inches='tight')"
   ]
  },
  {
   "cell_type": "code",
   "execution_count": 15,
   "id": "b888eb7e",
   "metadata": {},
   "outputs": [
    {
     "data": {
      "image/png": "[encoded data removed]",
      "text/plain": [
       "<Figure size 108x108 with 1 Axes>"
      ]
     },
     "metadata": {},
     "output_type": "display_data"
    }
   ],
   "source": [
    "fig, ax = plt.subplots(1, figsize=(1.5,1.5))\n",
    "# p = ax[0].barh(barLab, [len(y_train[idx])+len(y_test[idx]) for idx,_ in enumerate(y_test)], color=colVals, alpha=0.5)\n",
    "# ax[0].bar_label(p, fmt='%.2d', label_type='center')\n",
    "# ax[0].set_title('Number of materials')\n",
    "# ax[0].xaxis.tick_top()\n",
    "\n",
    "v = vn.venn3([setElems[0], setElems[1], setElems[2]], barLab, set_colors=colVals, alpha=0.5, ax=ax)\n",
    "# ax.set_title('Unique elements')\n",
    "plt.subplots_adjust(hspace=0.5)\n",
    "plt.savefig('countVenn.pdf', bbox_inches='tight')\n",
    "\n",
    "v.get_label_by_id('A').set_text(f'P1 ({len(y_train[0])+len(y_test[0])} Entries)')\n",
    "v.get_label_by_id('B').set_text(f'P2 ({len(y_train[1])+len(y_test[1])} Entries)')\n",
    "v.get_label_by_id('C').set_text(f'P3 ({len(y_train[2])+len(y_test[2])} Entries)')\n",
    "\n",
    "v.get_label_by_id('A').set_x(0.5)\n",
    "for text in v.set_labels:\n",
    "    text.set_fontsize(8)\n",
    "for text in v.subset_labels:\n",
    "    try:\n",
    "        text.set_fontsize(8)\n",
    "    except:\n",
    "        continue"
   ]
  }
 ],
 "metadata": {
  "kernelspec": {
   "display_name": "Python 3 (ipykernel)",
   "language": "python",
   "name": "python3"
  },
  "language_info": {
   "codemirror_mode": {
    "name": "ipython",
    "version": 3
   },
   "file_extension": ".py",
   "mimetype": "text/x-python",
   "name": "python",
   "nbconvert_exporter": "python",
   "pygments_lexer": "ipython3",
   "version": "3.10.4"
  }
 },
 "nbformat": 4,
 "nbformat_minor": 5
}
