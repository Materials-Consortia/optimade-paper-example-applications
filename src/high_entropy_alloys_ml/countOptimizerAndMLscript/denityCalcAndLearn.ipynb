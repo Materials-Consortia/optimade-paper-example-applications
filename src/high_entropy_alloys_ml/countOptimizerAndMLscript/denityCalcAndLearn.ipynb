{
 "cells": [
  {
   "cell_type": "markdown",
   "id": "69168ecc",
   "metadata": {},
   "source": [
    "# Querying Data"
   ]
  },
  {
   "cell_type": "code",
   "execution_count": 33,
   "id": "cb610272",
   "metadata": {},
   "outputs": [],
   "source": [
    "from optimade.client import OptimadeClient\n",
    "import numpy as np\n",
    "import pandas as pd\n",
    "import mendeleev as md\n",
    "from collections import Counter"
   ]
  },
  {
   "cell_type": "markdown",
   "id": "c248f8a3",
   "metadata": {},
   "source": [
    "`newNEl5.pkl` has the logs of the query optimizer code. We pick the entry with the best fitness value (i.e lowest std(count)/mean(count))"
   ]
  },
  {
   "cell_type": "code",
   "execution_count": 34,
   "id": "5a91481d",
   "metadata": {},
   "outputs": [
    {
     "name": "stdout",
     "output_type": "stream",
     "text": [
      "Fitness Value                                             0.666366\n",
      "Count Mean                                             1446.666667\n",
      "Count Std                                               787.110468\n",
      "Count List                                       [2199, 1781, 360]\n",
      "Input            [0.0, 0.0, 0.0, 0.0, 0.0, 0.0, 0.0, 1.0, 0.0, ...\n",
      "Filter Query     elements HAS ANY \"W\",\"Al\",\"Cd\",\"Zn\" AND NOT el...\n",
      "Provider List    [http://oqmd.org/optimade/, https://nomad-lab....\n",
      "Name: 869, dtype: object\n"
     ]
    }
   ],
   "source": [
    "dfQry = pd.read_pickle('newNEl5.pkl')\n",
    "bestQry = dfQry.iloc[dfQry['Fitness Value'].argmin(), :]\n",
    "print(bestQry)"
   ]
  },
  {
   "cell_type": "markdown",
   "id": "cf1fa556",
   "metadata": {},
   "source": [
    "We then set the filter and provider list based on this entry"
   ]
  },
  {
   "cell_type": "code",
   "execution_count": 35,
   "id": "f605b2e2",
   "metadata": {},
   "outputs": [],
   "source": [
    "client = OptimadeClient()\n",
    "filterQry = bestQry['Filter Query']"
   ]
  },
  {
   "cell_type": "code",
   "execution_count": 36,
   "id": "70496d94",
   "metadata": {},
   "outputs": [
    {
     "data": {
      "application/vnd.jupyter.widget-view+json": {
       "model_id": "917d8320775f4b3a814d4d847d70d46d",
       "version_major": 2,
       "version_minor": 0
      },
      "text/plain": [
       "Output()"
      ]
     },
     "metadata": {},
     "output_type": "display_data"
    },
    {
     "data": {
      "text/html": [
       "<pre style=\"white-space:pre;overflow-x:auto;line-height:normal;font-family:Menlo,'DejaVu Sans Mono',consolas,'Courier New',monospace\">╭─────────────────────────────────────────────────────────────────────────────────────────────────────────────────╮\n",
       "│ Counting results for <span style=\"color: #808000; text-decoration-color: #808000; font-weight: bold\">structures</span>/?filter=<span style=\"color: #800080; text-decoration-color: #800080; font-weight: bold; font-style: italic\">elements HAS ANY \"W\",\"Al\",\"Cd\",\"Zn\" AND NOT elements HAS ANY \"B\", \"Cl\",</span> │\n",
       "│ <span style=\"color: #800080; text-decoration-color: #800080; font-weight: bold; font-style: italic\">\"F\", \"H\", \"N\", \"O\", \"S\", \"Se\" AND nelements&gt;=5</span>                                                                  │\n",
       "╰─────────────────────────────────────────────────────────────────────────────────────────────────────────────────╯\n",
       "</pre>\n"
      ],
      "text/plain": [
       "╭─────────────────────────────────────────────────────────────────────────────────────────────────────────────────╮\n",
       "│ Counting results for \u001b[1;33mstructures\u001b[0m/?filter=\u001b[1;3;35melements HAS ANY \"W\",\"Al\",\"Cd\",\"Zn\" AND NOT elements HAS ANY \"B\", \"Cl\",\u001b[0m │\n",
       "│ \u001b[1;3;35m\"F\", \"H\", \"N\", \"O\", \"S\", \"Se\" AND nelements>=5\u001b[0m                                                                  │\n",
       "╰─────────────────────────────────────────────────────────────────────────────────────────────────────────────────╯\n"
      ]
     },
     "metadata": {},
     "output_type": "display_data"
    },
    {
     "data": {
      "text/html": [
       "<pre style=\"white-space:pre;overflow-x:auto;line-height:normal;font-family:Menlo,'DejaVu Sans Mono',consolas,'Courier New',monospace\">Detected a running event loop <span style=\"font-weight: bold\">(</span>e.g., Jupyter, pytest<span style=\"font-weight: bold\">)</span>. Running in synchronous mode.\n",
       "</pre>\n"
      ],
      "text/plain": [
       "Detected a running event loop \u001b[1m(\u001b[0me.g., Jupyter, pytest\u001b[1m)\u001b[0m. Running in synchronous mode.\n"
      ]
     },
     "metadata": {},
     "output_type": "display_data"
    },
    {
     "data": {
      "text/html": [
       "<pre style=\"white-space:pre;overflow-x:auto;line-height:normal;font-family:Menlo,'DejaVu Sans Mono',consolas,'Courier New',monospace\"></pre>\n"
      ],
      "text/plain": []
     },
     "metadata": {},
     "output_type": "display_data"
    },
    {
     "data": {
      "text/html": [
       "<pre style=\"white-space:pre;overflow-x:auto;line-height:normal;font-family:Menlo,'DejaVu Sans Mono',consolas,'Courier New',monospace\">\n",
       "</pre>\n"
      ],
      "text/plain": [
       "\n"
      ]
     },
     "metadata": {},
     "output_type": "display_data"
    },
    {
     "data": {
      "text/plain": [
       "{'structures': {'elements HAS ANY \"W\",\"Al\",\"Cd\",\"Zn\" AND NOT elements HAS ANY \"B\", \"Cl\", \"F\", \"H\", \"N\", \"O\", \"S\", \"Se\" AND nelements>=5': {'http://oqmd.org/optimade/': 2199,\n",
       "   'https://nomad-lab.eu/prod/rae/optimade/': 1781,\n",
       "   'https://optimade-misc.odbx.science': 360}}}"
      ]
     },
     "execution_count": 36,
     "metadata": {},
     "output_type": "execute_result"
    }
   ],
   "source": [
    "client.base_urls = bestQry['Provider List']\n",
    "client.count(filter=filterQry)"
   ]
  },
  {
   "cell_type": "markdown",
   "id": "d87ba427",
   "metadata": {},
   "source": [
    "We can query the databases for a maximum of 2200 entries to get all the relevant entries. However, there is as issue with NOMAD when querying more than 1760 entries with this filter. Also, OQMD sometimes times out during the `get` operation. Hence we limit the max resutls to 1700 until the DB issues are resolved."
   ]
  },
  {
   "cell_type": "code",
   "execution_count": 38,
   "id": "f00d4e3b",
   "metadata": {},
   "outputs": [
    {
     "data": {
      "application/vnd.jupyter.widget-view+json": {
       "model_id": "a2e76e1cba47484bab40ad9014f81f2a",
       "version_major": 2,
       "version_minor": 0
      },
      "text/plain": [
       "Output()"
      ]
     },
     "metadata": {},
     "output_type": "display_data"
    },
    {
     "data": {
      "text/html": [
       "<pre style=\"white-space:pre;overflow-x:auto;line-height:normal;font-family:Menlo,'DejaVu Sans Mono',consolas,'Courier New',monospace\">╭─────────────────────────────────────────────────────────────────────────────────────────────────────────────────╮\n",
       "│ Performing query <span style=\"color: #808000; text-decoration-color: #808000; font-weight: bold\">structures</span>/?filter=<span style=\"color: #800080; text-decoration-color: #800080; font-weight: bold; font-style: italic\">elements HAS ANY \"W\",\"Al\",\"Cd\",\"Zn\" AND NOT elements HAS ANY \"B\", \"Cl\", </span>    │\n",
       "│ <span style=\"color: #800080; text-decoration-color: #800080; font-weight: bold; font-style: italic\">\"F\", \"H\", \"N\", \"O\", \"S\", \"Se\" AND nelements&gt;=5</span>                                                                  │\n",
       "╰─────────────────────────────────────────────────────────────────────────────────────────────────────────────────╯\n",
       "</pre>\n"
      ],
      "text/plain": [
       "╭─────────────────────────────────────────────────────────────────────────────────────────────────────────────────╮\n",
       "│ Performing query \u001b[1;33mstructures\u001b[0m/?filter=\u001b[1;3;35melements HAS ANY \"W\",\"Al\",\"Cd\",\"Zn\" AND NOT elements HAS ANY \"B\", \"Cl\", \u001b[0m    │\n",
       "│ \u001b[1;3;35m\"F\", \"H\", \"N\", \"O\", \"S\", \"Se\" AND nelements>=5\u001b[0m                                                                  │\n",
       "╰─────────────────────────────────────────────────────────────────────────────────────────────────────────────────╯\n"
      ]
     },
     "metadata": {},
     "output_type": "display_data"
    },
    {
     "data": {
      "text/html": [
       "<pre style=\"white-space:pre;overflow-x:auto;line-height:normal;font-family:Menlo,'DejaVu Sans Mono',consolas,'Courier New',monospace\">Detected a running event loop <span style=\"font-weight: bold\">(</span>e.g., Jupyter, pytest<span style=\"font-weight: bold\">)</span>. Running in synchronous mode.\n",
       "</pre>\n"
      ],
      "text/plain": [
       "Detected a running event loop \u001b[1m(\u001b[0me.g., Jupyter, pytest\u001b[1m)\u001b[0m. Running in synchronous mode.\n"
      ]
     },
     "metadata": {},
     "output_type": "display_data"
    },
    {
     "data": {
      "text/html": [
       "<pre style=\"white-space:pre;overflow-x:auto;line-height:normal;font-family:Menlo,'DejaVu Sans Mono',consolas,'Courier New',monospace\">Reached <span style=\"color: #008080; text-decoration-color: #008080; font-weight: bold\">1700</span> results for <span style=\"color: #0000ff; text-decoration-color: #0000ff; text-decoration: underline\">http://oqmd.org/optimade/,</span> exceeding `max_results_per_provider` parameter <span style=\"font-weight: bold\">(</span><span style=\"color: #008080; text-decoration-color: #008080; font-weight: bold\">1700</span><span style=\"font-weight: bold\">)</span>. Stopping\n",
       "download.\n",
       "</pre>\n"
      ],
      "text/plain": [
       "Reached \u001b[1;36m1700\u001b[0m results for \u001b[4;94mhttp://oqmd.org/optimade/,\u001b[0m exceeding `max_results_per_provider` parameter \u001b[1m(\u001b[0m\u001b[1;36m1700\u001b[0m\u001b[1m)\u001b[0m. Stopping\n",
       "download.\n"
      ]
     },
     "metadata": {},
     "output_type": "display_data"
    },
    {
     "data": {
      "text/html": [
       "<pre style=\"white-space:pre;overflow-x:auto;line-height:normal;font-family:Menlo,'DejaVu Sans Mono',consolas,'Courier New',monospace\">Reached <span style=\"color: #008080; text-decoration-color: #008080; font-weight: bold\">1700</span> results for <span style=\"color: #0000ff; text-decoration-color: #0000ff; text-decoration: underline\">https://nomad-lab.eu/prod/rae/optimade/,</span> exceeding `max_results_per_provider` parameter \n",
       "<span style=\"font-weight: bold\">(</span><span style=\"color: #008080; text-decoration-color: #008080; font-weight: bold\">1700</span><span style=\"font-weight: bold\">)</span>. Stopping download.\n",
       "</pre>\n"
      ],
      "text/plain": [
       "Reached \u001b[1;36m1700\u001b[0m results for \u001b[4;94mhttps://nomad-lab.eu/prod/rae/optimade/,\u001b[0m exceeding `max_results_per_provider` parameter \n",
       "\u001b[1m(\u001b[0m\u001b[1;36m1700\u001b[0m\u001b[1m)\u001b[0m. Stopping download.\n"
      ]
     },
     "metadata": {},
     "output_type": "display_data"
    },
    {
     "data": {
      "text/html": [
       "<pre style=\"white-space:pre;overflow-x:auto;line-height:normal;font-family:Menlo,'DejaVu Sans Mono',consolas,'Courier New',monospace\"></pre>\n"
      ],
      "text/plain": []
     },
     "metadata": {},
     "output_type": "display_data"
    },
    {
     "data": {
      "text/html": [
       "<pre style=\"white-space:pre;overflow-x:auto;line-height:normal;font-family:Menlo,'DejaVu Sans Mono',consolas,'Courier New',monospace\">\n",
       "</pre>\n"
      ],
      "text/plain": [
       "\n"
      ]
     },
     "metadata": {},
     "output_type": "display_data"
    }
   ],
   "source": [
    "client.max_results_per_provider = 1700\n",
    "respFields = [\"chemical_formula_descriptive\", \"species_at_sites\",\"lattice_vectors\"]\n",
    "resStruct = client.get(filter=filterQry.strip(), response_fields=respFields)\n",
    "providerList = list(resStruct['structures'][filterQry].keys())"
   ]
  },
  {
   "cell_type": "markdown",
   "id": "fd64a2b4",
   "metadata": {},
   "source": [
    "# Processing and density calc\n",
    "A Pandas DataFrame is used to store the data obtained as JSON from the DBs. Then lattice vectors and information about species at site is used to calculate density"
   ]
  },
  {
   "cell_type": "code",
   "execution_count": 39,
   "id": "0f737382",
   "metadata": {},
   "outputs": [
    {
     "data": {
      "text/html": [
       "<div>\n",
       "<style scoped>\n",
       "    .dataframe tbody tr th:only-of-type {\n",
       "        vertical-align: middle;\n",
       "    }\n",
       "\n",
       "    .dataframe tbody tr th {\n",
       "        vertical-align: top;\n",
       "    }\n",
       "\n",
       "    .dataframe thead th {\n",
       "        text-align: right;\n",
       "    }\n",
       "</style>\n",
       "<table border=\"1\" class=\"dataframe\">\n",
       "  <thead>\n",
       "    <tr style=\"text-align: right;\">\n",
       "      <th></th>\n",
       "      <th>chemical_formula_descriptive</th>\n",
       "      <th>species_at_sites</th>\n",
       "      <th>lattice_vectors</th>\n",
       "    </tr>\n",
       "  </thead>\n",
       "  <tbody>\n",
       "  </tbody>\n",
       "</table>\n",
       "</div>"
      ],
      "text/plain": [
       "Empty DataFrame\n",
       "Columns: [chemical_formula_descriptive, species_at_sites, lattice_vectors]\n",
       "Index: []"
      ]
     },
     "execution_count": 39,
     "metadata": {},
     "output_type": "execute_result"
    }
   ],
   "source": [
    "df = pd.DataFrame(columns=respFields)\n",
    "df.attrs['Filter Query'] = filterQry\n",
    "df.attrs['Providers List'] = client.base_urls\n",
    "df.astype({'chemical_formula_descriptive':str, 'species_at_sites':object, 'lattice_vectors':object})"
   ]
  },
  {
   "cell_type": "code",
   "execution_count": 40,
   "id": "42a6926a",
   "metadata": {},
   "outputs": [],
   "source": [
    "for provider in resStruct['structures'][filterQry].keys():\n",
    "    for entry in resStruct['structures'][filterQry][provider]['data']:\n",
    "        if type(entry['attributes']['species_at_sites'])==list:\n",
    "            df = df.append({'provider':provider,\n",
    "                            'id':entry['id'],\n",
    "                            'chemical_formula_descriptive':entry['attributes']['chemical_formula_descriptive'],\n",
    "                            'species_at_sites':entry['attributes']['species_at_sites'],\n",
    "                            'lattice_vectors':np.array(entry['attributes']['lattice_vectors'])}, ignore_index=True)"
   ]
  },
  {
   "cell_type": "code",
   "execution_count": 41,
   "id": "b56409e0",
   "metadata": {},
   "outputs": [],
   "source": [
    "densToSIFactor = (1.6605402E-27/1E-30)\n",
    "df['volume ang^3'] = df.apply(lambda row: np.linalg.det(row['lattice_vectors']), axis=1)\n",
    "df['mass au'] = df.apply(lambda row: sum([eval(f'md.{elem}.atomic_weight') for elem in row['species_at_sites']]), axis=1)\n",
    "# df['mass au'] = df.apply(lambda row: sum([md.element(elem).atomic_weight for elem in row['species_at_sites']]), axis=1) #Less dodgy code but much slower\n",
    "df['density au/ang^3'] = df.apply(lambda row: row['volume ang^3']/row['mass au'], axis=1)\n",
    "df['density kg/m^3'] = df.apply(lambda row: row['density au/ang^3']*densToSIFactor, axis=1)\n",
    "df['composition'] = df.apply(lambda row: dict(pd.Series(row['species_at_sites']).value_counts(normalize=True)), axis=1)"
   ]
  },
  {
   "cell_type": "code",
   "execution_count": 42,
   "id": "e7589c09",
   "metadata": {},
   "outputs": [],
   "source": [
    "allElem = set([])\n",
    "for row in df['composition']:\n",
    "    allElem.update(list(row.keys()))\n",
    "allElem = list(allElem)"
   ]
  },
  {
   "cell_type": "code",
   "execution_count": 43,
   "id": "658dbe58",
   "metadata": {
    "scrolled": true
   },
   "outputs": [],
   "source": [
    "def compVecVal(elem, compDict):\n",
    "    if elem in compDict.keys():\n",
    "        return compDict[elem]\n",
    "    else:\n",
    "        return 0.0"
   ]
  },
  {
   "cell_type": "markdown",
   "id": "c3af3bf9",
   "metadata": {},
   "source": [
    "# Feature generation for ML"
   ]
  },
  {
   "cell_type": "code",
   "execution_count": 44,
   "id": "f83c03ed",
   "metadata": {},
   "outputs": [],
   "source": [
    "df['compVec'] = df.apply(lambda row: [compVecVal(elem, row['composition']) for elem in allElem], axis=1) #can be made fater? Use sparse vector for compVec?"
   ]
  },
  {
   "cell_type": "markdown",
   "id": "27f74937",
   "metadata": {},
   "source": [
    "# ML"
   ]
  },
  {
   "cell_type": "code",
   "execution_count": 90,
   "id": "2d3247a7",
   "metadata": {},
   "outputs": [],
   "source": [
    "from sklearn.neural_network import MLPRegressor\n",
    "from sklearn.datasets import make_regression\n",
    "from sklearn.model_selection import train_test_split\n",
    "from sklearn.pipeline import make_pipeline\n",
    "from sklearn.preprocessing import StandardScaler\n",
    "from sklearn.ensemble import RandomForestRegressor\n",
    "import matplotlib_venn as vn\n",
    "import matplotlib.pyplot as plt\n",
    "import matplotlib.colors as mcolors"
   ]
  },
  {
   "cell_type": "markdown",
   "id": "94b7552b",
   "metadata": {},
   "source": [
    "As an exemplar ML technique, a Random Forest Regressor is used"
   ]
  },
  {
   "cell_type": "code",
   "execution_count": 47,
   "id": "98bcec67",
   "metadata": {},
   "outputs": [],
   "source": [
    "def getModel(X_train, y_train):\n",
    "    pipe = make_pipeline(RandomForestRegressor())\n",
    "    pipe.fit(X_train, y_train)\n",
    "    return pipe"
   ]
  },
  {
   "cell_type": "code",
   "execution_count": 48,
   "id": "fe0e602e",
   "metadata": {},
   "outputs": [],
   "source": [
    "# df = pd.read_pickle('exampleTrain3prov.pkl')\n",
    "providerList = list(df['provider'].unique())"
   ]
  },
  {
   "cell_type": "markdown",
   "id": "1207469d",
   "metadata": {},
   "source": [
    "Splitting data for training and testing"
   ]
  },
  {
   "cell_type": "code",
   "execution_count": 49,
   "id": "c32ce1d7",
   "metadata": {},
   "outputs": [],
   "source": [
    "X_train = [[] for x in range(len(providerList)+1)]\n",
    "y_train = [[] for x in range(len(providerList)+1)]\n",
    "X_test = [[] for x in range(len(providerList)+1)]\n",
    "y_test = [[] for x in range(len(providerList)+1)]\n",
    "models = [[] for x in range(len(providerList)+1)]"
   ]
  },
  {
   "cell_type": "markdown",
   "id": "1a245630",
   "metadata": {},
   "source": [
    "Model training and prediction"
   ]
  },
  {
   "cell_type": "code",
   "execution_count": 50,
   "id": "4a71c93c",
   "metadata": {},
   "outputs": [],
   "source": [
    "for idx, provider in enumerate(providerList):\n",
    "    Xtemp = list(df[df['provider']==provider]['compVec'])\n",
    "    ytemp = list(df[df['provider']==provider]['density kg/m^3'])\n",
    "    X_train[idx], X_test[idx], y_train[idx], y_test[idx] = train_test_split(Xtemp, ytemp, random_state=1)\n",
    "    models[idx] = getModel(X_train[idx], y_train[idx])\n",
    "    \n",
    "\n",
    "X_train[-1] = [item for sublist in X_train[:-1] for item in sublist]\n",
    "y_train[-1] = [item for sublist in y_train[:-1] for item in sublist]\n",
    "X_test[-1] = [item for sublist in X_test[:-1] for item in sublist]\n",
    "y_test[-1] = [item for sublist in y_test[:-1] for item in sublist]\n",
    "models[-1] = getModel(X_train[-1], y_train[-1])\n",
    "\n",
    "rsq = []\n",
    "for model in models:\n",
    "    rsq.append(model.score(X_test[-1], y_test[-1]))\n",
    "    \n",
    "barLab = [f'P{idx+1}' for idx,_ in enumerate(providerList)]\n",
    "barLab.append('Combined')"
   ]
  },
  {
   "cell_type": "code",
   "execution_count": 112,
   "id": "48fc541e",
   "metadata": {
    "scrolled": true
   },
   "outputs": [
    {
     "data": {
      "text/plain": [
       "(0.0, 1.0)"
      ]
     },
     "execution_count": 112,
     "metadata": {},
     "output_type": "execute_result"
    },
    {
     "data": {
      "image/png": "[encoded data removed]",
      "text/plain": [
       "<Figure size 576x216 with 1 Axes>"
      ]
     },
     "metadata": {
      "needs_background": "light"
     },
     "output_type": "display_data"
    }
   ],
   "source": [
    "fig, ax = plt.subplots(figsize=(8,3))\n",
    "colVals = ['tab:blue', 'tab:orange', 'tab:green', 'tab:gray']\n",
    "p = ax.barh(barLab, rsq, color=colVals, alpha=0.5)\n",
    "ax.bar_label(p, fmt='%.2f')\n",
    "plt.title('R$^2$')\n",
    "plt.xlim(0, 1)"
   ]
  },
  {
   "cell_type": "code",
   "execution_count": 113,
   "id": "4e171a47",
   "metadata": {},
   "outputs": [
    {
     "data": {
      "text/plain": [
       "Text(0.5, 1.0, 'Number of entries')"
      ]
     },
     "execution_count": 113,
     "metadata": {},
     "output_type": "execute_result"
    },
    {
     "data": {
      "image/png": "[encoded data removed]",
      "text/plain": [
       "<Figure size 576x216 with 1 Axes>"
      ]
     },
     "metadata": {
      "needs_background": "light"
     },
     "output_type": "display_data"
    }
   ],
   "source": [
    "fig, ax = plt.subplots(figsize=(8,3))\n",
    "p = ax.barh(barLab, [len(y_train[idx])+len(y_test[idx]) for idx,_ in enumerate(y_test)], color=colVals, alpha=0.5)\n",
    "ax.bar_label(p, fmt='%.2d')\n",
    "plt.title('Number of entries')"
   ]
  },
  {
   "cell_type": "code",
   "execution_count": 53,
   "id": "700e5732",
   "metadata": {},
   "outputs": [],
   "source": [
    "df['Unique Elem'] = df.apply(lambda row: set(row['species_at_sites']),axis =1)"
   ]
  },
  {
   "cell_type": "code",
   "execution_count": 54,
   "id": "edd749bf",
   "metadata": {},
   "outputs": [],
   "source": [
    "allElemList = [[] for x in providerList]\n",
    "for idx, provider in enumerate(providerList):\n",
    "    for listVal in df['species_at_sites'][df['provider']==provider]:\n",
    "        allElemList[idx]+=listVal\n",
    "\n",
    "dictAllElem = [dict(pd.Series(listVal).value_counts(normalize=True)) for listVal in allElemList]"
   ]
  },
  {
   "cell_type": "code",
   "execution_count": 114,
   "id": "1e85ad54",
   "metadata": {},
   "outputs": [
    {
     "data": {
      "image/png": "[encoded data removed]",
      "text/plain": [
       "<Figure size 1440x432 with 1 Axes>"
      ]
     },
     "metadata": {
      "needs_background": "light"
     },
     "output_type": "display_data"
    }
   ],
   "source": [
    "plt.figure(figsize=(20, 6))\n",
    "ax = plt.subplot()\n",
    "for idx, dicts in enumerate(dictAllElem):\n",
    "    ax.bar(dicts.keys(), dicts.values(), alpha =0.5, label = barLab[idx], color=colVals[idx])\n",
    "ax.legend()\n",
    "plt.title('Frequecy of occourance of elements in each DB', fontweight='bold')\n",
    "plt.show()"
   ]
  },
  {
   "cell_type": "code",
   "execution_count": 56,
   "id": "9badfc6a",
   "metadata": {},
   "outputs": [],
   "source": [
    "setElems = [set([]) for _ in providerList]\n",
    "for idx, provider in enumerate(providerList):\n",
    "    for setVal in df['Unique Elem'][df['provider']==provider]:\n",
    "        setElems[idx].update(setVal)"
   ]
  },
  {
   "cell_type": "code",
   "execution_count": 119,
   "id": "cbee275d",
   "metadata": {},
   "outputs": [
    {
     "data": {
      "image/png": "[encoded data removed]",
      "text/plain": [
       "<Figure size 432x288 with 1 Axes>"
      ]
     },
     "metadata": {},
     "output_type": "display_data"
    }
   ],
   "source": [
    "vn.venn3([setElems[0], setElems[1], setElems[2]], barLab, set_colors=colVals, alpha=0.5)\n",
    "plt.title('Venn diagram of unique elements in each DB', fontweight='bold')\n",
    "plt.show()"
   ]
  }
 ],
 "metadata": {
  "kernelspec": {
   "display_name": "Python 3 (ipykernel)",
   "language": "python",
   "name": "python3"
  },
  "language_info": {
   "codemirror_mode": {
    "name": "ipython",
    "version": 3
   },
   "file_extension": ".py",
   "mimetype": "text/x-python",
   "name": "python",
   "nbconvert_exporter": "python",
   "pygments_lexer": "ipython3",
   "version": "3.10.4"
  }
 },
 "nbformat": 4,
 "nbformat_minor": 5
}
