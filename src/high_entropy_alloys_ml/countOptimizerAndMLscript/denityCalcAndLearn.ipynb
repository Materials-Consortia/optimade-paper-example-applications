{
 "cells": [
  {
   "cell_type": "code",
   "execution_count": 1,
   "id": "cb610272",
   "metadata": {},
   "outputs": [],
   "source": [
    "from optimade.client import OptimadeClient\n",
    "import numpy as np\n",
    "import pandas as pd\n",
    "import mendeleev as md\n",
    "from collections import Counter"
   ]
  },
  {
   "cell_type": "code",
   "execution_count": 2,
   "id": "5a91481d",
   "metadata": {},
   "outputs": [],
   "source": [
    "dfQry = pd.read_pickle('elem5.pkl')\n",
    "bestQry = dfQry.iloc[dfQry['Fitness Value'].argmin(), :]\n",
    "# bestQry = dfQry.iloc[3717, :]"
   ]
  },
  {
   "cell_type": "code",
   "execution_count": 5,
   "id": "f605b2e2",
   "metadata": {},
   "outputs": [],
   "source": [
    "# client = OptimadeClient(base_urls=bestQry['Provider List'][0:3])\n",
    "client = OptimadeClient()\n",
    "filterQry = bestQry['Filter Query']"
   ]
  },
  {
   "cell_type": "code",
   "execution_count": 7,
   "id": "70496d94",
   "metadata": {},
   "outputs": [
    {
     "data": {
      "application/vnd.jupyter.widget-view+json": {
       "model_id": "e1484e132d4c4da895df37a02951d1d8",
       "version_major": 2,
       "version_minor": 0
      },
      "text/plain": [
       "Output()"
      ]
     },
     "metadata": {},
     "output_type": "display_data"
    },
    {
     "data": {
      "text/html": [
       "<pre style=\"white-space:pre;overflow-x:auto;line-height:normal;font-family:Menlo,'DejaVu Sans Mono',consolas,'Courier New',monospace\">╭─────────────────────────────────────────────────────────────────────────────────────────────────────────────────╮\n",
       "│ Counting results for <span style=\"color: #808000; text-decoration-color: #808000; font-weight: bold\">structures</span>/?filter=<span style=\"color: #800080; text-decoration-color: #800080; font-weight: bold; font-style: italic\">elements HAS ANY \"W\",\"Al\",\"Cd\",\"Zn\" AND NOT elements HAS ANY \"B\", \"Cl\",</span> │\n",
       "│ <span style=\"color: #800080; text-decoration-color: #800080; font-weight: bold; font-style: italic\">\"F\", \"H\", \"N\", \"O\", \"S\", \"Se\" AND nelements&gt;=5</span>                                                                  │\n",
       "╰─────────────────────────────────────────────────────────────────────────────────────────────────────────────────╯\n",
       "</pre>\n"
      ],
      "text/plain": [
       "╭─────────────────────────────────────────────────────────────────────────────────────────────────────────────────╮\n",
       "│ Counting results for \u001b[1;33mstructures\u001b[0m/?filter=\u001b[1;3;35melements HAS ANY \"W\",\"Al\",\"Cd\",\"Zn\" AND NOT elements HAS ANY \"B\", \"Cl\",\u001b[0m │\n",
       "│ \u001b[1;3;35m\"F\", \"H\", \"N\", \"O\", \"S\", \"Se\" AND nelements>=5\u001b[0m                                                                  │\n",
       "╰─────────────────────────────────────────────────────────────────────────────────────────────────────────────────╯\n"
      ]
     },
     "metadata": {},
     "output_type": "display_data"
    },
    {
     "data": {
      "text/html": [
       "<pre style=\"white-space:pre;overflow-x:auto;line-height:normal;font-family:Menlo,'DejaVu Sans Mono',consolas,'Courier New',monospace\">Detected a running event loop <span style=\"font-weight: bold\">(</span>e.g., Jupyter, pytest<span style=\"font-weight: bold\">)</span>. Running in synchronous mode.\n",
       "</pre>\n"
      ],
      "text/plain": [
       "Detected a running event loop \u001b[1m(\u001b[0me.g., Jupyter, pytest\u001b[1m)\u001b[0m. Running in synchronous mode.\n"
      ]
     },
     "metadata": {},
     "output_type": "display_data"
    },
    {
     "data": {
      "text/html": [
       "<pre style=\"white-space:pre;overflow-x:auto;line-height:normal;font-family:Menlo,'DejaVu Sans Mono',consolas,'Courier New',monospace\"><span style=\"color: #800000; text-decoration-color: #800000\">Error</span>: Provider <span style=\"color: #008000; text-decoration-color: #008000\">'https://api.mpds.io'</span> returned: <span style=\"color: #800000; text-decoration-color: #800000; font-weight: bold; font-style: italic\">400</span><span style=\"color: #800000; text-decoration-color: #800000; font-style: italic\"> - </span>\n",
       "<span style=\"color: #800000; text-decoration-color: #800000; font-style: italic; text-decoration: underline\">https://api.mpds.io/v1/structures?filter=elements%20HAS%20ANY%20%22W%22,%22Al%22,%22Cd%22,%22Zn%22%20AND%20NOT%20el</span>\n",
       "<span style=\"color: #800000; text-decoration-color: #800000; font-style: italic; text-decoration: underline\">ements%20HAS%20ANY%20%22B%22,%20%22Cl%22,%20%22F%22,%20%22H%22,%20%22N%22,%20%22O%22,%20%22S%22,%20%22Se%22%20AND%2</span>\n",
       "<span style=\"color: #800000; text-decoration-color: #800000; font-style: italic; text-decoration: underline\">0nelements%3E=5&amp;page_limit=1:</span><span style=\"color: #800000; text-decoration-color: #800000; font-style: italic\"> Optimade API Response: ANY not supported</span>\n",
       "</pre>\n"
      ],
      "text/plain": [
       "\u001b[31mError\u001b[0m: Provider \u001b[32m'https://api.mpds.io'\u001b[0m returned: \u001b[1;3;31m400\u001b[0m\u001b[3;31m - \u001b[0m\n",
       "\u001b[3;4;31mhttps://api.mpds.io/v1/structures?\u001b[0m\u001b[3;4;31mfilter\u001b[0m\u001b[3;4;31m=\u001b[0m\u001b[3;4;31melements\u001b[0m\u001b[3;4;31m%20HAS%20ANY%20%22W%22,%22Al%22,%22Cd%22,%22Zn%22%20AND%20NOT%20el\u001b[0m\n",
       "\u001b[3;4;31mements%20HAS%20ANY%20%22B%22,%20%22Cl%22,%20%22F%22,%20%22H%22,%20%22N%22,%20%22O%22,%20%22S%22,%20%22Se%22%20AND%2\u001b[0m\n",
       "\u001b[3;4;31m0nelements%\u001b[0m\u001b[3;4;31m3E\u001b[0m\u001b[3;4;31m=\u001b[0m\u001b[3;4;31m5\u001b[0m\u001b[3;4;31m&\u001b[0m\u001b[3;4;31mpage_limit\u001b[0m\u001b[3;4;31m=\u001b[0m\u001b[3;4;31m1\u001b[0m\u001b[3;4;31m:\u001b[0m\u001b[3;31m Optimade API Response: ANY not supported\u001b[0m\n"
      ]
     },
     "metadata": {},
     "output_type": "display_data"
    },
    {
     "data": {
      "text/html": [
       "<pre style=\"white-space:pre;overflow-x:auto;line-height:normal;font-family:Menlo,'DejaVu Sans Mono',consolas,'Courier New',monospace\"></pre>\n"
      ],
      "text/plain": []
     },
     "metadata": {},
     "output_type": "display_data"
    },
    {
     "data": {
      "text/html": [
       "<pre style=\"white-space:pre;overflow-x:auto;line-height:normal;font-family:Menlo,'DejaVu Sans Mono',consolas,'Courier New',monospace\">\n",
       "</pre>\n"
      ],
      "text/plain": [
       "\n"
      ]
     },
     "metadata": {},
     "output_type": "display_data"
    },
    {
     "data": {
      "text/plain": [
       "{'structures': {'elements HAS ANY \"W\",\"Al\",\"Cd\",\"Zn\" AND NOT elements HAS ANY \"B\", \"Cl\", \"F\", \"H\", \"N\", \"O\", \"S\", \"Se\" AND nelements>=5': {'http://aflow.org/API/optimade/': 2,\n",
       "   'https://www.crystallography.net/cod/optimade': 17,\n",
       "   'https://aiida.materialscloud.org/mc3d/optimade': 2,\n",
       "   'https://aiida.materialscloud.org/mc2d/optimade': 0,\n",
       "   'https://aiida.materialscloud.org/2dtopo/optimade': 0,\n",
       "   'https://aiida.materialscloud.org/tc-applicability/optimade': 0,\n",
       "   'https://aiida.materialscloud.org/pyrene-mofs/optimade': 0,\n",
       "   'https://aiida.materialscloud.org/curated-cofs/optimade': 0,\n",
       "   'https://aiida.materialscloud.org/stoceriaitf/optimade': 0,\n",
       "   'https://aiida.materialscloud.org/autowannier/optimade': 0,\n",
       "   'https://aiida.materialscloud.org/tin-antimony-sulfoiodide/optimade': 0,\n",
       "   'https://optimade.materialsproject.org': 4,\n",
       "   'https://api.mpds.io': None,\n",
       "   'https://nomad-lab.eu/prod/rae/optimade/': 1781,\n",
       "   'https://optimade.odbx.science': 0,\n",
       "   'https://optimade-misc.odbx.science': 360,\n",
       "   'http://optimade.openmaterialsdb.se': 0,\n",
       "   'http://oqmd.org/optimade/': 2199,\n",
       "   'https://www.crystallography.net/tcod/optimade': 0,\n",
       "   'http://optimade.2dmatpedia.org': 0}}}"
      ]
     },
     "execution_count": 7,
     "metadata": {},
     "output_type": "execute_result"
    }
   ],
   "source": [
    "client.count(filter=filterQry)"
   ]
  },
  {
   "cell_type": "code",
   "execution_count": 410,
   "id": "23f3b74a",
   "metadata": {},
   "outputs": [
    {
     "data": {
      "text/plain": [
       "Fitness Value                                             0.666366\n",
       "Count Mean                                             1446.666667\n",
       "Count Std                                               787.110468\n",
       "Count List                                       [2199, 1781, 360]\n",
       "Input            [0.0, 0.0, 0.0, 0.0, 0.0, 0.0, 0.0, 1.0, 0.0, ...\n",
       "Filter Query     elements HAS ANY \"W\",\"Al\",\"Cd\",\"Zn\" AND NOT el...\n",
       "Provider List    [http://oqmd.org/optimade/, https://nomad-lab....\n",
       "Name: 1692, dtype: object"
      ]
     },
     "execution_count": 410,
     "metadata": {},
     "output_type": "execute_result"
    }
   ],
   "source": [
    "bestQry"
   ]
  },
  {
   "cell_type": "code",
   "execution_count": 413,
   "id": "f00d4e3b",
   "metadata": {},
   "outputs": [
    {
     "data": {
      "application/vnd.jupyter.widget-view+json": {
       "model_id": "7b2473fedc62406f83d6fd906a33bf50",
       "version_major": 2,
       "version_minor": 0
      },
      "text/plain": [
       "Output()"
      ]
     },
     "metadata": {},
     "output_type": "display_data"
    },
    {
     "data": {
      "text/html": [
       "<pre style=\"white-space:pre;overflow-x:auto;line-height:normal;font-family:Menlo,'DejaVu Sans Mono',consolas,'Courier New',monospace\">╭─────────────────────────────────────────────────────────────────────────────────────────────────────────────────╮\n",
       "│ Performing query <span style=\"color: #808000; text-decoration-color: #808000; font-weight: bold\">structures</span>/?filter=<span style=\"color: #800080; text-decoration-color: #800080; font-weight: bold; font-style: italic\">elements HAS ANY \"W\",\"Al\",\"Cd\",\"Zn\" AND NOT elements HAS ANY \"B\", \"Cl\", </span>    │\n",
       "│ <span style=\"color: #800080; text-decoration-color: #800080; font-weight: bold; font-style: italic\">\"F\", \"H\", \"N\", \"O\", \"S\", \"Se\" AND nelements&gt;=5</span>                                                                  │\n",
       "╰─────────────────────────────────────────────────────────────────────────────────────────────────────────────────╯\n",
       "</pre>\n"
      ],
      "text/plain": [
       "╭─────────────────────────────────────────────────────────────────────────────────────────────────────────────────╮\n",
       "│ Performing query \u001b[1;33mstructures\u001b[0m/?filter=\u001b[1;3;35melements HAS ANY \"W\",\"Al\",\"Cd\",\"Zn\" AND NOT elements HAS ANY \"B\", \"Cl\", \u001b[0m    │\n",
       "│ \u001b[1;3;35m\"F\", \"H\", \"N\", \"O\", \"S\", \"Se\" AND nelements>=5\u001b[0m                                                                  │\n",
       "╰─────────────────────────────────────────────────────────────────────────────────────────────────────────────────╯\n"
      ]
     },
     "metadata": {},
     "output_type": "display_data"
    },
    {
     "data": {
      "text/html": [
       "<pre style=\"white-space:pre;overflow-x:auto;line-height:normal;font-family:Menlo,'DejaVu Sans Mono',consolas,'Courier New',monospace\">Detected a running event loop <span style=\"font-weight: bold\">(</span>e.g., Jupyter, pytest<span style=\"font-weight: bold\">)</span>. Running in synchronous mode.\n",
       "</pre>\n"
      ],
      "text/plain": [
       "Detected a running event loop \u001b[1m(\u001b[0me.g., Jupyter, pytest\u001b[1m)\u001b[0m. Running in synchronous mode.\n"
      ]
     },
     "metadata": {},
     "output_type": "display_data"
    },
    {
     "data": {
      "text/html": [
       "<pre style=\"white-space:pre;overflow-x:auto;line-height:normal;font-family:Menlo,'DejaVu Sans Mono',consolas,'Courier New',monospace\"><span style=\"color: #800000; text-decoration-color: #800000\">Error</span>: Provider <span style=\"color: #008000; text-decoration-color: #008000\">'http://oqmd.org/optimade/'</span> returned: <span style=\"color: #800000; text-decoration-color: #800000; font-style: italic\">The read operation timed out</span>\n",
       "</pre>\n"
      ],
      "text/plain": [
       "\u001b[31mError\u001b[0m: Provider \u001b[32m'http://oqmd.org/optimade/'\u001b[0m returned: \u001b[3;31mThe read operation timed out\u001b[0m\n"
      ]
     },
     "metadata": {},
     "output_type": "display_data"
    },
    {
     "data": {
      "text/html": [
       "<pre style=\"white-space:pre;overflow-x:auto;line-height:normal;font-family:Menlo,'DejaVu Sans Mono',consolas,'Courier New',monospace\"></pre>\n"
      ],
      "text/plain": []
     },
     "metadata": {},
     "output_type": "display_data"
    },
    {
     "data": {
      "text/html": [
       "<pre style=\"white-space:pre;overflow-x:auto;line-height:normal;font-family:Menlo,'DejaVu Sans Mono',consolas,'Courier New',monospace\">\n",
       "</pre>\n"
      ],
      "text/plain": [
       "\n"
      ]
     },
     "metadata": {},
     "output_type": "display_data"
    },
    {
     "ename": "KeyboardInterrupt",
     "evalue": "",
     "output_type": "error",
     "traceback": [
      "\u001b[0;31m---------------------------------------------------------------------------\u001b[0m",
      "\u001b[0;31mKeyboardInterrupt\u001b[0m                         Traceback (most recent call last)",
      "\u001b[0;32m/tmp/ipykernel_592707/1131967895.py\u001b[0m in \u001b[0;36m<module>\u001b[0;34m\u001b[0m\n\u001b[1;32m      1\u001b[0m \u001b[0mclient\u001b[0m\u001b[0;34m.\u001b[0m\u001b[0mmax_results_per_provider\u001b[0m \u001b[0;34m=\u001b[0m \u001b[0;36m1500\u001b[0m\u001b[0;34m\u001b[0m\u001b[0;34m\u001b[0m\u001b[0m\n\u001b[1;32m      2\u001b[0m \u001b[0mrespFields\u001b[0m \u001b[0;34m=\u001b[0m \u001b[0;34m[\u001b[0m\u001b[0;34m\"chemical_formula_descriptive\"\u001b[0m\u001b[0;34m,\u001b[0m \u001b[0;34m\"species_at_sites\"\u001b[0m\u001b[0;34m,\u001b[0m\u001b[0;34m\"lattice_vectors\"\u001b[0m\u001b[0;34m]\u001b[0m\u001b[0;34m\u001b[0m\u001b[0;34m\u001b[0m\u001b[0m\n\u001b[0;32m----> 3\u001b[0;31m \u001b[0mresStruct\u001b[0m \u001b[0;34m=\u001b[0m \u001b[0mclient\u001b[0m\u001b[0;34m.\u001b[0m\u001b[0mget\u001b[0m\u001b[0;34m(\u001b[0m\u001b[0mfilter\u001b[0m\u001b[0;34m=\u001b[0m\u001b[0mfilterQry\u001b[0m\u001b[0;34m.\u001b[0m\u001b[0mstrip\u001b[0m\u001b[0;34m(\u001b[0m\u001b[0;34m)\u001b[0m\u001b[0;34m,\u001b[0m \u001b[0mresponse_fields\u001b[0m\u001b[0;34m=\u001b[0m\u001b[0mrespFields\u001b[0m\u001b[0;34m)\u001b[0m\u001b[0;34m\u001b[0m\u001b[0;34m\u001b[0m\u001b[0m\n\u001b[0m\u001b[1;32m      4\u001b[0m \u001b[0mproviderList\u001b[0m \u001b[0;34m=\u001b[0m \u001b[0mlist\u001b[0m\u001b[0;34m(\u001b[0m\u001b[0mresStruct\u001b[0m\u001b[0;34m[\u001b[0m\u001b[0;34m'structures'\u001b[0m\u001b[0;34m]\u001b[0m\u001b[0;34m[\u001b[0m\u001b[0mfilterQry\u001b[0m\u001b[0;34m]\u001b[0m\u001b[0;34m.\u001b[0m\u001b[0mkeys\u001b[0m\u001b[0;34m(\u001b[0m\u001b[0;34m)\u001b[0m\u001b[0;34m)\u001b[0m\u001b[0;34m\u001b[0m\u001b[0;34m\u001b[0m\u001b[0m\n",
      "\u001b[0;32m~/.local/lib/python3.10/site-packages/optimade/client/client.py\u001b[0m in \u001b[0;36mget\u001b[0;34m(self, filter, endpoint, response_fields, sort)\u001b[0m\n\u001b[1;32m    215\u001b[0m                 )\n\u001b[1;32m    216\u001b[0m             )\n\u001b[0;32m--> 217\u001b[0;31m             results = self._execute_queries(\n\u001b[0m\u001b[1;32m    218\u001b[0m                 \u001b[0mfilter\u001b[0m\u001b[0;34m,\u001b[0m\u001b[0;34m\u001b[0m\u001b[0;34m\u001b[0m\u001b[0m\n\u001b[1;32m    219\u001b[0m                 \u001b[0mendpoint\u001b[0m\u001b[0;34m,\u001b[0m\u001b[0;34m\u001b[0m\u001b[0;34m\u001b[0m\u001b[0m\n",
      "\u001b[0;32m~/.local/lib/python3.10/site-packages/optimade/client/client.py\u001b[0m in \u001b[0;36m_execute_queries\u001b[0;34m(self, filter, endpoint, page_limit, paginate, response_fields, sort)\u001b[0m\n\u001b[1;32m    337\u001b[0m             )\n\u001b[1;32m    338\u001b[0m         \u001b[0;32melse\u001b[0m\u001b[0;34m:\u001b[0m\u001b[0;34m\u001b[0m\u001b[0;34m\u001b[0m\u001b[0m\n\u001b[0;32m--> 339\u001b[0;31m             results = self._get_all(\n\u001b[0m\u001b[1;32m    340\u001b[0m                 \u001b[0mendpoint\u001b[0m\u001b[0;34m,\u001b[0m\u001b[0;34m\u001b[0m\u001b[0;34m\u001b[0m\u001b[0m\n\u001b[1;32m    341\u001b[0m                 \u001b[0mfilter\u001b[0m\u001b[0;34m,\u001b[0m\u001b[0;34m\u001b[0m\u001b[0;34m\u001b[0m\u001b[0m\n",
      "\u001b[0;32m~/.local/lib/python3.10/site-packages/optimade/client/client.py\u001b[0m in \u001b[0;36m_get_all\u001b[0;34m(self, endpoint, filter, page_limit, response_fields, sort, paginate)\u001b[0m\n\u001b[1;32m    464\u001b[0m \u001b[0;34m\u001b[0m\u001b[0m\n\u001b[1;32m    465\u001b[0m         \"\"\"\n\u001b[0;32m--> 466\u001b[0;31m         results = [\n\u001b[0m\u001b[1;32m    467\u001b[0m             self.get_one(\n\u001b[1;32m    468\u001b[0m                 \u001b[0mendpoint\u001b[0m\u001b[0;34m,\u001b[0m\u001b[0;34m\u001b[0m\u001b[0;34m\u001b[0m\u001b[0m\n",
      "\u001b[0;32m~/.local/lib/python3.10/site-packages/optimade/client/client.py\u001b[0m in \u001b[0;36m<listcomp>\u001b[0;34m(.0)\u001b[0m\n\u001b[1;32m    465\u001b[0m         \"\"\"\n\u001b[1;32m    466\u001b[0m         results = [\n\u001b[0;32m--> 467\u001b[0;31m             self.get_one(\n\u001b[0m\u001b[1;32m    468\u001b[0m                 \u001b[0mendpoint\u001b[0m\u001b[0;34m,\u001b[0m\u001b[0;34m\u001b[0m\u001b[0;34m\u001b[0m\u001b[0m\n\u001b[1;32m    469\u001b[0m                 \u001b[0mfilter\u001b[0m\u001b[0;34m,\u001b[0m\u001b[0;34m\u001b[0m\u001b[0;34m\u001b[0m\u001b[0m\n",
      "\u001b[0;32m~/.local/lib/python3.10/site-packages/optimade/client/client.py\u001b[0m in \u001b[0;36mget_one\u001b[0;34m(self, endpoint, filter, base_url, response_fields, sort, page_limit, paginate)\u001b[0m\n\u001b[1;32m    377\u001b[0m         \"\"\"\n\u001b[1;32m    378\u001b[0m         \u001b[0;32mtry\u001b[0m\u001b[0;34m:\u001b[0m\u001b[0;34m\u001b[0m\u001b[0;34m\u001b[0m\u001b[0m\n\u001b[0;32m--> 379\u001b[0;31m             return self._get_one(\n\u001b[0m\u001b[1;32m    380\u001b[0m                 \u001b[0mendpoint\u001b[0m\u001b[0;34m,\u001b[0m\u001b[0;34m\u001b[0m\u001b[0;34m\u001b[0m\u001b[0m\n\u001b[1;32m    381\u001b[0m                 \u001b[0mfilter\u001b[0m\u001b[0;34m,\u001b[0m\u001b[0;34m\u001b[0m\u001b[0;34m\u001b[0m\u001b[0m\n",
      "\u001b[0;32m~/.local/lib/python3.10/site-packages/optimade/client/client.py\u001b[0m in \u001b[0;36m_get_one\u001b[0;34m(self, endpoint, filter, base_url, sort, page_limit, response_fields, paginate)\u001b[0m\n\u001b[1;32m    622\u001b[0m                     \u001b[0mattempts\u001b[0m \u001b[0;34m=\u001b[0m \u001b[0;36m0\u001b[0m\u001b[0;34m\u001b[0m\u001b[0;34m\u001b[0m\u001b[0m\n\u001b[1;32m    623\u001b[0m                     \u001b[0;32mtry\u001b[0m\u001b[0;34m:\u001b[0m\u001b[0;34m\u001b[0m\u001b[0;34m\u001b[0m\u001b[0m\n\u001b[0;32m--> 624\u001b[0;31m                         r = client.get(\n\u001b[0m\u001b[1;32m    625\u001b[0m                             \u001b[0mnext_url\u001b[0m\u001b[0;34m,\u001b[0m \u001b[0mfollow_redirects\u001b[0m\u001b[0;34m=\u001b[0m\u001b[0;32mTrue\u001b[0m\u001b[0;34m,\u001b[0m \u001b[0mtimeout\u001b[0m\u001b[0;34m=\u001b[0m\u001b[0mself\u001b[0m\u001b[0;34m.\u001b[0m\u001b[0mhttp_timeout\u001b[0m\u001b[0;34m\u001b[0m\u001b[0;34m\u001b[0m\u001b[0m\n\u001b[1;32m    626\u001b[0m                         )\n",
      "\u001b[0;32m~/.local/lib/python3.10/site-packages/httpx/_client.py\u001b[0m in \u001b[0;36mget\u001b[0;34m(self, url, params, headers, cookies, auth, follow_redirects, timeout, extensions)\u001b[0m\n\u001b[1;32m   1043\u001b[0m         \u001b[0;34m**\u001b[0m\u001b[0mParameters\u001b[0m\u001b[0;34m**\u001b[0m\u001b[0;34m:\u001b[0m \u001b[0mSee\u001b[0m\u001b[0;31m \u001b[0m\u001b[0;31m`\u001b[0m\u001b[0mhttpx\u001b[0m\u001b[0;34m.\u001b[0m\u001b[0mrequest\u001b[0m\u001b[0;31m`\u001b[0m\u001b[0;34m.\u001b[0m\u001b[0;34m\u001b[0m\u001b[0;34m\u001b[0m\u001b[0m\n\u001b[1;32m   1044\u001b[0m         \"\"\"\n\u001b[0;32m-> 1045\u001b[0;31m         return self.request(\n\u001b[0m\u001b[1;32m   1046\u001b[0m             \u001b[0;34m\"GET\"\u001b[0m\u001b[0;34m,\u001b[0m\u001b[0;34m\u001b[0m\u001b[0;34m\u001b[0m\u001b[0m\n\u001b[1;32m   1047\u001b[0m             \u001b[0murl\u001b[0m\u001b[0;34m,\u001b[0m\u001b[0;34m\u001b[0m\u001b[0;34m\u001b[0m\u001b[0m\n",
      "\u001b[0;32m~/.local/lib/python3.10/site-packages/httpx/_client.py\u001b[0m in \u001b[0;36mrequest\u001b[0;34m(self, method, url, content, data, files, json, params, headers, cookies, auth, follow_redirects, timeout, extensions)\u001b[0m\n\u001b[1;32m    819\u001b[0m             \u001b[0mextensions\u001b[0m\u001b[0;34m=\u001b[0m\u001b[0mextensions\u001b[0m\u001b[0;34m,\u001b[0m\u001b[0;34m\u001b[0m\u001b[0;34m\u001b[0m\u001b[0m\n\u001b[1;32m    820\u001b[0m         )\n\u001b[0;32m--> 821\u001b[0;31m         \u001b[0;32mreturn\u001b[0m \u001b[0mself\u001b[0m\u001b[0;34m.\u001b[0m\u001b[0msend\u001b[0m\u001b[0;34m(\u001b[0m\u001b[0mrequest\u001b[0m\u001b[0;34m,\u001b[0m \u001b[0mauth\u001b[0m\u001b[0;34m=\u001b[0m\u001b[0mauth\u001b[0m\u001b[0;34m,\u001b[0m \u001b[0mfollow_redirects\u001b[0m\u001b[0;34m=\u001b[0m\u001b[0mfollow_redirects\u001b[0m\u001b[0;34m)\u001b[0m\u001b[0;34m\u001b[0m\u001b[0;34m\u001b[0m\u001b[0m\n\u001b[0m\u001b[1;32m    822\u001b[0m \u001b[0;34m\u001b[0m\u001b[0m\n\u001b[1;32m    823\u001b[0m     \u001b[0;34m@\u001b[0m\u001b[0mcontextmanager\u001b[0m\u001b[0;34m\u001b[0m\u001b[0;34m\u001b[0m\u001b[0m\n",
      "\u001b[0;32m~/.local/lib/python3.10/site-packages/httpx/_client.py\u001b[0m in \u001b[0;36msend\u001b[0;34m(self, request, stream, auth, follow_redirects)\u001b[0m\n\u001b[1;32m    906\u001b[0m         \u001b[0mauth\u001b[0m \u001b[0;34m=\u001b[0m \u001b[0mself\u001b[0m\u001b[0;34m.\u001b[0m\u001b[0m_build_request_auth\u001b[0m\u001b[0;34m(\u001b[0m\u001b[0mrequest\u001b[0m\u001b[0;34m,\u001b[0m \u001b[0mauth\u001b[0m\u001b[0;34m)\u001b[0m\u001b[0;34m\u001b[0m\u001b[0;34m\u001b[0m\u001b[0m\n\u001b[1;32m    907\u001b[0m \u001b[0;34m\u001b[0m\u001b[0m\n\u001b[0;32m--> 908\u001b[0;31m         response = self._send_handling_auth(\n\u001b[0m\u001b[1;32m    909\u001b[0m             \u001b[0mrequest\u001b[0m\u001b[0;34m,\u001b[0m\u001b[0;34m\u001b[0m\u001b[0;34m\u001b[0m\u001b[0m\n\u001b[1;32m    910\u001b[0m             \u001b[0mauth\u001b[0m\u001b[0;34m=\u001b[0m\u001b[0mauth\u001b[0m\u001b[0;34m,\u001b[0m\u001b[0;34m\u001b[0m\u001b[0;34m\u001b[0m\u001b[0m\n",
      "\u001b[0;32m~/.local/lib/python3.10/site-packages/httpx/_client.py\u001b[0m in \u001b[0;36m_send_handling_auth\u001b[0;34m(self, request, auth, follow_redirects, history)\u001b[0m\n\u001b[1;32m    934\u001b[0m \u001b[0;34m\u001b[0m\u001b[0m\n\u001b[1;32m    935\u001b[0m             \u001b[0;32mwhile\u001b[0m \u001b[0;32mTrue\u001b[0m\u001b[0;34m:\u001b[0m\u001b[0;34m\u001b[0m\u001b[0;34m\u001b[0m\u001b[0m\n\u001b[0;32m--> 936\u001b[0;31m                 response = self._send_handling_redirects(\n\u001b[0m\u001b[1;32m    937\u001b[0m                     \u001b[0mrequest\u001b[0m\u001b[0;34m,\u001b[0m\u001b[0;34m\u001b[0m\u001b[0;34m\u001b[0m\u001b[0m\n\u001b[1;32m    938\u001b[0m                     \u001b[0mfollow_redirects\u001b[0m\u001b[0;34m=\u001b[0m\u001b[0mfollow_redirects\u001b[0m\u001b[0;34m,\u001b[0m\u001b[0;34m\u001b[0m\u001b[0;34m\u001b[0m\u001b[0m\n",
      "\u001b[0;32m~/.local/lib/python3.10/site-packages/httpx/_client.py\u001b[0m in \u001b[0;36m_send_handling_redirects\u001b[0;34m(self, request, follow_redirects, history)\u001b[0m\n\u001b[1;32m    971\u001b[0m                 \u001b[0mhook\u001b[0m\u001b[0;34m(\u001b[0m\u001b[0mrequest\u001b[0m\u001b[0;34m)\u001b[0m\u001b[0;34m\u001b[0m\u001b[0;34m\u001b[0m\u001b[0m\n\u001b[1;32m    972\u001b[0m \u001b[0;34m\u001b[0m\u001b[0m\n\u001b[0;32m--> 973\u001b[0;31m             \u001b[0mresponse\u001b[0m \u001b[0;34m=\u001b[0m \u001b[0mself\u001b[0m\u001b[0;34m.\u001b[0m\u001b[0m_send_single_request\u001b[0m\u001b[0;34m(\u001b[0m\u001b[0mrequest\u001b[0m\u001b[0;34m)\u001b[0m\u001b[0;34m\u001b[0m\u001b[0;34m\u001b[0m\u001b[0m\n\u001b[0m\u001b[1;32m    974\u001b[0m             \u001b[0;32mtry\u001b[0m\u001b[0;34m:\u001b[0m\u001b[0;34m\u001b[0m\u001b[0;34m\u001b[0m\u001b[0m\n\u001b[1;32m    975\u001b[0m                 \u001b[0;32mfor\u001b[0m \u001b[0mhook\u001b[0m \u001b[0;32min\u001b[0m \u001b[0mself\u001b[0m\u001b[0;34m.\u001b[0m\u001b[0m_event_hooks\u001b[0m\u001b[0;34m[\u001b[0m\u001b[0;34m\"response\"\u001b[0m\u001b[0;34m]\u001b[0m\u001b[0;34m:\u001b[0m\u001b[0;34m\u001b[0m\u001b[0;34m\u001b[0m\u001b[0m\n",
      "\u001b[0;32m~/.local/lib/python3.10/site-packages/httpx/_client.py\u001b[0m in \u001b[0;36m_send_single_request\u001b[0;34m(self, request)\u001b[0m\n\u001b[1;32m   1007\u001b[0m \u001b[0;34m\u001b[0m\u001b[0m\n\u001b[1;32m   1008\u001b[0m         \u001b[0;32mwith\u001b[0m \u001b[0mrequest_context\u001b[0m\u001b[0;34m(\u001b[0m\u001b[0mrequest\u001b[0m\u001b[0;34m=\u001b[0m\u001b[0mrequest\u001b[0m\u001b[0;34m)\u001b[0m\u001b[0;34m:\u001b[0m\u001b[0;34m\u001b[0m\u001b[0;34m\u001b[0m\u001b[0m\n\u001b[0;32m-> 1009\u001b[0;31m             \u001b[0mresponse\u001b[0m \u001b[0;34m=\u001b[0m \u001b[0mtransport\u001b[0m\u001b[0;34m.\u001b[0m\u001b[0mhandle_request\u001b[0m\u001b[0;34m(\u001b[0m\u001b[0mrequest\u001b[0m\u001b[0;34m)\u001b[0m\u001b[0;34m\u001b[0m\u001b[0;34m\u001b[0m\u001b[0m\n\u001b[0m\u001b[1;32m   1010\u001b[0m \u001b[0;34m\u001b[0m\u001b[0m\n\u001b[1;32m   1011\u001b[0m         \u001b[0;32massert\u001b[0m \u001b[0misinstance\u001b[0m\u001b[0;34m(\u001b[0m\u001b[0mresponse\u001b[0m\u001b[0;34m.\u001b[0m\u001b[0mstream\u001b[0m\u001b[0;34m,\u001b[0m \u001b[0mSyncByteStream\u001b[0m\u001b[0;34m)\u001b[0m\u001b[0;34m\u001b[0m\u001b[0;34m\u001b[0m\u001b[0m\n",
      "\u001b[0;32m~/.local/lib/python3.10/site-packages/httpx/_transports/default.py\u001b[0m in \u001b[0;36mhandle_request\u001b[0;34m(self, request)\u001b[0m\n\u001b[1;32m    216\u001b[0m         )\n\u001b[1;32m    217\u001b[0m         \u001b[0;32mwith\u001b[0m \u001b[0mmap_httpcore_exceptions\u001b[0m\u001b[0;34m(\u001b[0m\u001b[0;34m)\u001b[0m\u001b[0;34m:\u001b[0m\u001b[0;34m\u001b[0m\u001b[0;34m\u001b[0m\u001b[0m\n\u001b[0;32m--> 218\u001b[0;31m             \u001b[0mresp\u001b[0m \u001b[0;34m=\u001b[0m \u001b[0mself\u001b[0m\u001b[0;34m.\u001b[0m\u001b[0m_pool\u001b[0m\u001b[0;34m.\u001b[0m\u001b[0mhandle_request\u001b[0m\u001b[0;34m(\u001b[0m\u001b[0mreq\u001b[0m\u001b[0;34m)\u001b[0m\u001b[0;34m\u001b[0m\u001b[0;34m\u001b[0m\u001b[0m\n\u001b[0m\u001b[1;32m    219\u001b[0m \u001b[0;34m\u001b[0m\u001b[0m\n\u001b[1;32m    220\u001b[0m         \u001b[0;32massert\u001b[0m \u001b[0misinstance\u001b[0m\u001b[0;34m(\u001b[0m\u001b[0mresp\u001b[0m\u001b[0;34m.\u001b[0m\u001b[0mstream\u001b[0m\u001b[0;34m,\u001b[0m \u001b[0mtyping\u001b[0m\u001b[0;34m.\u001b[0m\u001b[0mIterable\u001b[0m\u001b[0;34m)\u001b[0m\u001b[0;34m\u001b[0m\u001b[0;34m\u001b[0m\u001b[0m\n",
      "\u001b[0;32m~/.local/lib/python3.10/site-packages/httpcore/_sync/connection_pool.py\u001b[0m in \u001b[0;36mhandle_request\u001b[0;34m(self, request)\u001b[0m\n\u001b[1;32m    251\u001b[0m             \u001b[0;32mexcept\u001b[0m \u001b[0mBaseException\u001b[0m \u001b[0;32mas\u001b[0m \u001b[0mexc\u001b[0m\u001b[0;34m:\u001b[0m\u001b[0;34m\u001b[0m\u001b[0;34m\u001b[0m\u001b[0m\n\u001b[1;32m    252\u001b[0m                 \u001b[0mself\u001b[0m\u001b[0;34m.\u001b[0m\u001b[0mresponse_closed\u001b[0m\u001b[0;34m(\u001b[0m\u001b[0mstatus\u001b[0m\u001b[0;34m)\u001b[0m\u001b[0;34m\u001b[0m\u001b[0;34m\u001b[0m\u001b[0m\n\u001b[0;32m--> 253\u001b[0;31m                 \u001b[0;32mraise\u001b[0m \u001b[0mexc\u001b[0m\u001b[0;34m\u001b[0m\u001b[0;34m\u001b[0m\u001b[0m\n\u001b[0m\u001b[1;32m    254\u001b[0m             \u001b[0;32melse\u001b[0m\u001b[0;34m:\u001b[0m\u001b[0;34m\u001b[0m\u001b[0;34m\u001b[0m\u001b[0m\n\u001b[1;32m    255\u001b[0m                 \u001b[0;32mbreak\u001b[0m\u001b[0;34m\u001b[0m\u001b[0;34m\u001b[0m\u001b[0m\n",
      "\u001b[0;32m~/.local/lib/python3.10/site-packages/httpcore/_sync/connection_pool.py\u001b[0m in \u001b[0;36mhandle_request\u001b[0;34m(self, request)\u001b[0m\n\u001b[1;32m    235\u001b[0m \u001b[0;34m\u001b[0m\u001b[0m\n\u001b[1;32m    236\u001b[0m             \u001b[0;32mtry\u001b[0m\u001b[0;34m:\u001b[0m\u001b[0;34m\u001b[0m\u001b[0;34m\u001b[0m\u001b[0m\n\u001b[0;32m--> 237\u001b[0;31m                 \u001b[0mresponse\u001b[0m \u001b[0;34m=\u001b[0m \u001b[0mconnection\u001b[0m\u001b[0;34m.\u001b[0m\u001b[0mhandle_request\u001b[0m\u001b[0;34m(\u001b[0m\u001b[0mrequest\u001b[0m\u001b[0;34m)\u001b[0m\u001b[0;34m\u001b[0m\u001b[0;34m\u001b[0m\u001b[0m\n\u001b[0m\u001b[1;32m    238\u001b[0m             \u001b[0;32mexcept\u001b[0m \u001b[0mConnectionNotAvailable\u001b[0m\u001b[0;34m:\u001b[0m\u001b[0;34m\u001b[0m\u001b[0;34m\u001b[0m\u001b[0m\n\u001b[1;32m    239\u001b[0m                 \u001b[0;31m# The ConnectionNotAvailable exception is a special case, that\u001b[0m\u001b[0;34m\u001b[0m\u001b[0;34m\u001b[0m\u001b[0m\n",
      "\u001b[0;32m~/.local/lib/python3.10/site-packages/httpcore/_sync/connection.py\u001b[0m in \u001b[0;36mhandle_request\u001b[0;34m(self, request)\u001b[0m\n\u001b[1;32m     88\u001b[0m                 \u001b[0;32mraise\u001b[0m \u001b[0mConnectionNotAvailable\u001b[0m\u001b[0;34m(\u001b[0m\u001b[0;34m)\u001b[0m\u001b[0;34m\u001b[0m\u001b[0;34m\u001b[0m\u001b[0m\n\u001b[1;32m     89\u001b[0m \u001b[0;34m\u001b[0m\u001b[0m\n\u001b[0;32m---> 90\u001b[0;31m         \u001b[0;32mreturn\u001b[0m \u001b[0mself\u001b[0m\u001b[0;34m.\u001b[0m\u001b[0m_connection\u001b[0m\u001b[0;34m.\u001b[0m\u001b[0mhandle_request\u001b[0m\u001b[0;34m(\u001b[0m\u001b[0mrequest\u001b[0m\u001b[0;34m)\u001b[0m\u001b[0;34m\u001b[0m\u001b[0;34m\u001b[0m\u001b[0m\n\u001b[0m\u001b[1;32m     91\u001b[0m \u001b[0;34m\u001b[0m\u001b[0m\n\u001b[1;32m     92\u001b[0m     \u001b[0;32mdef\u001b[0m \u001b[0m_connect\u001b[0m\u001b[0;34m(\u001b[0m\u001b[0mself\u001b[0m\u001b[0;34m,\u001b[0m \u001b[0mrequest\u001b[0m\u001b[0;34m:\u001b[0m \u001b[0mRequest\u001b[0m\u001b[0;34m)\u001b[0m \u001b[0;34m->\u001b[0m \u001b[0mNetworkStream\u001b[0m\u001b[0;34m:\u001b[0m\u001b[0;34m\u001b[0m\u001b[0;34m\u001b[0m\u001b[0m\n",
      "\u001b[0;32m~/.local/lib/python3.10/site-packages/httpcore/_sync/http11.py\u001b[0m in \u001b[0;36mhandle_request\u001b[0;34m(self, request)\u001b[0m\n\u001b[1;32m    110\u001b[0m             \u001b[0;32mwith\u001b[0m \u001b[0mTrace\u001b[0m\u001b[0;34m(\u001b[0m\u001b[0;34m\"http11.response_closed\"\u001b[0m\u001b[0;34m,\u001b[0m \u001b[0mrequest\u001b[0m\u001b[0;34m)\u001b[0m \u001b[0;32mas\u001b[0m \u001b[0mtrace\u001b[0m\u001b[0;34m:\u001b[0m\u001b[0;34m\u001b[0m\u001b[0;34m\u001b[0m\u001b[0m\n\u001b[1;32m    111\u001b[0m                 \u001b[0mself\u001b[0m\u001b[0;34m.\u001b[0m\u001b[0m_response_closed\u001b[0m\u001b[0;34m(\u001b[0m\u001b[0;34m)\u001b[0m\u001b[0;34m\u001b[0m\u001b[0;34m\u001b[0m\u001b[0m\n\u001b[0;32m--> 112\u001b[0;31m             \u001b[0;32mraise\u001b[0m \u001b[0mexc\u001b[0m\u001b[0;34m\u001b[0m\u001b[0;34m\u001b[0m\u001b[0m\n\u001b[0m\u001b[1;32m    113\u001b[0m \u001b[0;34m\u001b[0m\u001b[0m\n\u001b[1;32m    114\u001b[0m     \u001b[0;31m# Sending the request...\u001b[0m\u001b[0;34m\u001b[0m\u001b[0;34m\u001b[0m\u001b[0m\n",
      "\u001b[0;32m~/.local/lib/python3.10/site-packages/httpcore/_sync/http11.py\u001b[0m in \u001b[0;36mhandle_request\u001b[0;34m(self, request)\u001b[0m\n\u001b[1;32m     89\u001b[0m                     \u001b[0mreason_phrase\u001b[0m\u001b[0;34m,\u001b[0m\u001b[0;34m\u001b[0m\u001b[0;34m\u001b[0m\u001b[0m\n\u001b[1;32m     90\u001b[0m                     \u001b[0mheaders\u001b[0m\u001b[0;34m,\u001b[0m\u001b[0;34m\u001b[0m\u001b[0;34m\u001b[0m\u001b[0m\n\u001b[0;32m---> 91\u001b[0;31m                 ) = self._receive_response_headers(**kwargs)\n\u001b[0m\u001b[1;32m     92\u001b[0m                 trace.return_value = (\n\u001b[1;32m     93\u001b[0m                     \u001b[0mhttp_version\u001b[0m\u001b[0;34m,\u001b[0m\u001b[0;34m\u001b[0m\u001b[0;34m\u001b[0m\u001b[0m\n",
      "\u001b[0;32m~/.local/lib/python3.10/site-packages/httpcore/_sync/http11.py\u001b[0m in \u001b[0;36m_receive_response_headers\u001b[0;34m(self, request)\u001b[0m\n\u001b[1;32m    153\u001b[0m \u001b[0;34m\u001b[0m\u001b[0m\n\u001b[1;32m    154\u001b[0m         \u001b[0;32mwhile\u001b[0m \u001b[0;32mTrue\u001b[0m\u001b[0;34m:\u001b[0m\u001b[0;34m\u001b[0m\u001b[0;34m\u001b[0m\u001b[0m\n\u001b[0;32m--> 155\u001b[0;31m             \u001b[0mevent\u001b[0m \u001b[0;34m=\u001b[0m \u001b[0mself\u001b[0m\u001b[0;34m.\u001b[0m\u001b[0m_receive_event\u001b[0m\u001b[0;34m(\u001b[0m\u001b[0mtimeout\u001b[0m\u001b[0;34m=\u001b[0m\u001b[0mtimeout\u001b[0m\u001b[0;34m)\u001b[0m\u001b[0;34m\u001b[0m\u001b[0;34m\u001b[0m\u001b[0m\n\u001b[0m\u001b[1;32m    156\u001b[0m             \u001b[0;32mif\u001b[0m \u001b[0misinstance\u001b[0m\u001b[0;34m(\u001b[0m\u001b[0mevent\u001b[0m\u001b[0;34m,\u001b[0m \u001b[0mh11\u001b[0m\u001b[0;34m.\u001b[0m\u001b[0mResponse\u001b[0m\u001b[0;34m)\u001b[0m\u001b[0;34m:\u001b[0m\u001b[0;34m\u001b[0m\u001b[0;34m\u001b[0m\u001b[0m\n\u001b[1;32m    157\u001b[0m                 \u001b[0;32mbreak\u001b[0m\u001b[0;34m\u001b[0m\u001b[0;34m\u001b[0m\u001b[0m\n",
      "\u001b[0;32m~/.local/lib/python3.10/site-packages/httpcore/_sync/http11.py\u001b[0m in \u001b[0;36m_receive_event\u001b[0;34m(self, timeout)\u001b[0m\n\u001b[1;32m    189\u001b[0m \u001b[0;34m\u001b[0m\u001b[0m\n\u001b[1;32m    190\u001b[0m             \u001b[0;32mif\u001b[0m \u001b[0mevent\u001b[0m \u001b[0;32mis\u001b[0m \u001b[0mh11\u001b[0m\u001b[0;34m.\u001b[0m\u001b[0mNEED_DATA\u001b[0m\u001b[0;34m:\u001b[0m\u001b[0;34m\u001b[0m\u001b[0;34m\u001b[0m\u001b[0m\n\u001b[0;32m--> 191\u001b[0;31m                 data = self._network_stream.read(\n\u001b[0m\u001b[1;32m    192\u001b[0m                     \u001b[0mself\u001b[0m\u001b[0;34m.\u001b[0m\u001b[0mREAD_NUM_BYTES\u001b[0m\u001b[0;34m,\u001b[0m \u001b[0mtimeout\u001b[0m\u001b[0;34m=\u001b[0m\u001b[0mtimeout\u001b[0m\u001b[0;34m\u001b[0m\u001b[0;34m\u001b[0m\u001b[0m\n\u001b[1;32m    193\u001b[0m                 )\n",
      "\u001b[0;32m~/.local/lib/python3.10/site-packages/httpcore/backends/sync.py\u001b[0m in \u001b[0;36mread\u001b[0;34m(self, max_bytes, timeout)\u001b[0m\n\u001b[1;32m     26\u001b[0m         \u001b[0;32mwith\u001b[0m \u001b[0mmap_exceptions\u001b[0m\u001b[0;34m(\u001b[0m\u001b[0mexc_map\u001b[0m\u001b[0;34m)\u001b[0m\u001b[0;34m:\u001b[0m\u001b[0;34m\u001b[0m\u001b[0;34m\u001b[0m\u001b[0m\n\u001b[1;32m     27\u001b[0m             \u001b[0mself\u001b[0m\u001b[0;34m.\u001b[0m\u001b[0m_sock\u001b[0m\u001b[0;34m.\u001b[0m\u001b[0msettimeout\u001b[0m\u001b[0;34m(\u001b[0m\u001b[0mtimeout\u001b[0m\u001b[0;34m)\u001b[0m\u001b[0;34m\u001b[0m\u001b[0;34m\u001b[0m\u001b[0m\n\u001b[0;32m---> 28\u001b[0;31m             \u001b[0;32mreturn\u001b[0m \u001b[0mself\u001b[0m\u001b[0;34m.\u001b[0m\u001b[0m_sock\u001b[0m\u001b[0;34m.\u001b[0m\u001b[0mrecv\u001b[0m\u001b[0;34m(\u001b[0m\u001b[0mmax_bytes\u001b[0m\u001b[0;34m)\u001b[0m\u001b[0;34m\u001b[0m\u001b[0;34m\u001b[0m\u001b[0m\n\u001b[0m\u001b[1;32m     29\u001b[0m \u001b[0;34m\u001b[0m\u001b[0m\n\u001b[1;32m     30\u001b[0m     \u001b[0;32mdef\u001b[0m \u001b[0mwrite\u001b[0m\u001b[0;34m(\u001b[0m\u001b[0mself\u001b[0m\u001b[0;34m,\u001b[0m \u001b[0mbuffer\u001b[0m\u001b[0;34m:\u001b[0m \u001b[0mbytes\u001b[0m\u001b[0;34m,\u001b[0m \u001b[0mtimeout\u001b[0m\u001b[0;34m:\u001b[0m \u001b[0mtyping\u001b[0m\u001b[0;34m.\u001b[0m\u001b[0mOptional\u001b[0m\u001b[0;34m[\u001b[0m\u001b[0mfloat\u001b[0m\u001b[0;34m]\u001b[0m \u001b[0;34m=\u001b[0m \u001b[0;32mNone\u001b[0m\u001b[0;34m)\u001b[0m \u001b[0;34m->\u001b[0m \u001b[0;32mNone\u001b[0m\u001b[0;34m:\u001b[0m\u001b[0;34m\u001b[0m\u001b[0;34m\u001b[0m\u001b[0m\n",
      "\u001b[0;31mKeyboardInterrupt\u001b[0m: "
     ]
    }
   ],
   "source": [
    "client.max_results_per_provider = 1500\n",
    "respFields = [\"chemical_formula_descriptive\", \"species_at_sites\",\"lattice_vectors\"]\n",
    "resStruct = client.get(filter=filterQry.strip(), response_fields=respFields)\n",
    "providerList = list(resStruct['structures'][filterQry].keys())"
   ]
  },
  {
   "cell_type": "code",
   "execution_count": 390,
   "id": "0f737382",
   "metadata": {},
   "outputs": [
    {
     "data": {
      "text/html": [
       "<div>\n",
       "<style scoped>\n",
       "    .dataframe tbody tr th:only-of-type {\n",
       "        vertical-align: middle;\n",
       "    }\n",
       "\n",
       "    .dataframe tbody tr th {\n",
       "        vertical-align: top;\n",
       "    }\n",
       "\n",
       "    .dataframe thead th {\n",
       "        text-align: right;\n",
       "    }\n",
       "</style>\n",
       "<table border=\"1\" class=\"dataframe\">\n",
       "  <thead>\n",
       "    <tr style=\"text-align: right;\">\n",
       "      <th></th>\n",
       "      <th>chemical_formula_descriptive</th>\n",
       "      <th>species_at_sites</th>\n",
       "      <th>lattice_vectors</th>\n",
       "    </tr>\n",
       "  </thead>\n",
       "  <tbody>\n",
       "  </tbody>\n",
       "</table>\n",
       "</div>"
      ],
      "text/plain": [
       "Empty DataFrame\n",
       "Columns: [chemical_formula_descriptive, species_at_sites, lattice_vectors]\n",
       "Index: []"
      ]
     },
     "execution_count": 390,
     "metadata": {},
     "output_type": "execute_result"
    }
   ],
   "source": [
    "df = pd.DataFrame(columns=respFields)\n",
    "df.astype({'chemical_formula_descriptive':str, 'species_at_sites':object, 'lattice_vectors':object})"
   ]
  },
  {
   "cell_type": "code",
   "execution_count": 391,
   "id": "42a6926a",
   "metadata": {},
   "outputs": [],
   "source": [
    "for provider in resStruct['structures'][filterQry].keys():\n",
    "    for entry in resStruct['structures'][filterQry][provider]['data']:\n",
    "        if type(entry['attributes']['species_at_sites'])==list:\n",
    "            df = df.append({'provider':provider,\n",
    "                            'id':entry['id'],\n",
    "                            'chemical_formula_descriptive':entry['attributes']['chemical_formula_descriptive'],\n",
    "                            'species_at_sites':entry['attributes']['species_at_sites'],\n",
    "                            'lattice_vectors':np.array(entry['attributes']['lattice_vectors'])}, ignore_index=True)"
   ]
  },
  {
   "cell_type": "code",
   "execution_count": 392,
   "id": "b56409e0",
   "metadata": {},
   "outputs": [],
   "source": [
    "densToSIFactor = (1.6605402E-27/1E-30)\n",
    "df['volume ang^3'] = df.apply(lambda row: np.linalg.det(row['lattice_vectors']), axis=1)\n",
    "df['mass au'] = df.apply(lambda row: sum([eval(f'md.{elem}.atomic_weight') for elem in row['species_at_sites']]), axis=1)\n",
    "# df['mass au'] = df.apply(lambda row: sum([md.element(elem).atomic_weight for elem in row['species_at_sites']]), axis=1) #Less dodgy code but much slower\n",
    "df['density au/ang^3'] = df.apply(lambda row: row['volume ang^3']/row['mass au'], axis=1)\n",
    "df['density kg/m^3'] = df.apply(lambda row: row['density au/ang^3']*densToSIFactor, axis=1)\n",
    "df['composition'] = df.apply(lambda row: dict(pd.Series(row['species_at_sites']).value_counts(normalize=True)), axis=1)"
   ]
  },
  {
   "cell_type": "code",
   "execution_count": 393,
   "id": "e7589c09",
   "metadata": {},
   "outputs": [],
   "source": [
    "allElem = set([])\n",
    "for row in df['composition']:\n",
    "    allElem.update(list(row.keys()))\n",
    "allElem = list(allElem)"
   ]
  },
  {
   "cell_type": "code",
   "execution_count": 394,
   "id": "658dbe58",
   "metadata": {
    "scrolled": true
   },
   "outputs": [],
   "source": [
    "def compVecVal(elem, compDict):\n",
    "    if elem in compDict.keys():\n",
    "        return compDict[elem]\n",
    "    else:\n",
    "        return 0.0"
   ]
  },
  {
   "cell_type": "code",
   "execution_count": 395,
   "id": "f83c03ed",
   "metadata": {},
   "outputs": [],
   "source": [
    "df['compVec'] = df.apply(lambda row: [compVecVal(elem, row['composition']) for elem in allElem], axis=1) #can be made fater? Use sparse vector for compVec?"
   ]
  },
  {
   "cell_type": "code",
   "execution_count": 396,
   "id": "2d3247a7",
   "metadata": {},
   "outputs": [],
   "source": [
    "from sklearn.neural_network import MLPRegressor\n",
    "from sklearn.datasets import make_regression\n",
    "from sklearn.model_selection import train_test_split\n",
    "from sklearn.pipeline import make_pipeline\n",
    "from sklearn.preprocessing import StandardScaler\n",
    "from sklearn.ensemble import RandomForestRegressor\n",
    "\n",
    "import matplotlib.pyplot as plt"
   ]
  },
  {
   "cell_type": "code",
   "execution_count": 397,
   "id": "98bcec67",
   "metadata": {},
   "outputs": [],
   "source": [
    "def getRsq(X_train, X_test, y_train, y_test):\n",
    "    print(len(y_train)+len(y_test))\n",
    "#     pipe = make_pipeline(StandardScaler(), MLPRegressor(random_state=1, max_iter=5000, hidden_layer_sizes=(10, 2, ), solver='lbfgs'))\n",
    "    pipe = make_pipeline(RandomForestRegressor())\n",
    "    pipe.fit(X_train, y_train)\n",
    "    print(pipe.score(X_test, y_test))\n",
    "    return pipe"
   ]
  },
  {
   "cell_type": "code",
   "execution_count": 398,
   "id": "48c903bf",
   "metadata": {},
   "outputs": [
    {
     "name": "stdout",
     "output_type": "stream",
     "text": [
      "1600\n",
      "0.841027819193788\n"
     ]
    }
   ],
   "source": [
    "# df = pd.read_pickle('exampleTrain.pkl')\n",
    "providerList = list(df['provider'].unique())\n",
    "\n",
    "X = list(df[df['provider']==providerList[0]]['compVec'])\n",
    "y = list(df[df['provider']==providerList[0]]['density kg/m^3'])\n",
    "\n",
    "X_train1, X_test1, y_train1, y_test1 = train_test_split(X, y, random_state=1)\n",
    "model1 = getRsq(X_train1, X_test1, y_train1, y_test1)"
   ]
  },
  {
   "cell_type": "code",
   "execution_count": 399,
   "id": "0b1d6d39",
   "metadata": {},
   "outputs": [
    {
     "ename": "IndexError",
     "evalue": "list index out of range",
     "output_type": "error",
     "traceback": [
      "\u001b[0;31m---------------------------------------------------------------------------\u001b[0m",
      "\u001b[0;31mIndexError\u001b[0m                                Traceback (most recent call last)",
      "\u001b[0;32m/tmp/ipykernel_592707/2988024929.py\u001b[0m in \u001b[0;36m<module>\u001b[0;34m\u001b[0m\n\u001b[0;32m----> 1\u001b[0;31m \u001b[0mX\u001b[0m \u001b[0;34m=\u001b[0m \u001b[0mlist\u001b[0m\u001b[0;34m(\u001b[0m\u001b[0mdf\u001b[0m\u001b[0;34m[\u001b[0m\u001b[0mdf\u001b[0m\u001b[0;34m[\u001b[0m\u001b[0;34m'provider'\u001b[0m\u001b[0;34m]\u001b[0m\u001b[0;34m==\u001b[0m\u001b[0mproviderList\u001b[0m\u001b[0;34m[\u001b[0m\u001b[0;36m1\u001b[0m\u001b[0;34m]\u001b[0m\u001b[0;34m]\u001b[0m\u001b[0;34m[\u001b[0m\u001b[0;34m'compVec'\u001b[0m\u001b[0;34m]\u001b[0m\u001b[0;34m)\u001b[0m\u001b[0;34m\u001b[0m\u001b[0;34m\u001b[0m\u001b[0m\n\u001b[0m\u001b[1;32m      2\u001b[0m \u001b[0my\u001b[0m \u001b[0;34m=\u001b[0m \u001b[0mlist\u001b[0m\u001b[0;34m(\u001b[0m\u001b[0mdf\u001b[0m\u001b[0;34m[\u001b[0m\u001b[0mdf\u001b[0m\u001b[0;34m[\u001b[0m\u001b[0;34m'provider'\u001b[0m\u001b[0;34m]\u001b[0m\u001b[0;34m==\u001b[0m\u001b[0mproviderList\u001b[0m\u001b[0;34m[\u001b[0m\u001b[0;36m1\u001b[0m\u001b[0;34m]\u001b[0m\u001b[0;34m]\u001b[0m\u001b[0;34m[\u001b[0m\u001b[0;34m'density kg/m^3'\u001b[0m\u001b[0;34m]\u001b[0m\u001b[0;34m)\u001b[0m\u001b[0;34m\u001b[0m\u001b[0;34m\u001b[0m\u001b[0m\n\u001b[1;32m      3\u001b[0m \u001b[0;34m\u001b[0m\u001b[0m\n\u001b[1;32m      4\u001b[0m \u001b[0mX_train2\u001b[0m\u001b[0;34m,\u001b[0m \u001b[0mX_test2\u001b[0m\u001b[0;34m,\u001b[0m \u001b[0my_train2\u001b[0m\u001b[0;34m,\u001b[0m \u001b[0my_test2\u001b[0m \u001b[0;34m=\u001b[0m \u001b[0mtrain_test_split\u001b[0m\u001b[0;34m(\u001b[0m\u001b[0mX\u001b[0m\u001b[0;34m,\u001b[0m \u001b[0my\u001b[0m\u001b[0;34m,\u001b[0m \u001b[0mrandom_state\u001b[0m\u001b[0;34m=\u001b[0m\u001b[0;36m1\u001b[0m\u001b[0;34m)\u001b[0m\u001b[0;34m\u001b[0m\u001b[0;34m\u001b[0m\u001b[0m\n\u001b[1;32m      5\u001b[0m \u001b[0mmodel2\u001b[0m \u001b[0;34m=\u001b[0m \u001b[0mgetRsq\u001b[0m\u001b[0;34m(\u001b[0m\u001b[0mX_train2\u001b[0m\u001b[0;34m,\u001b[0m \u001b[0mX_test2\u001b[0m\u001b[0;34m,\u001b[0m \u001b[0my_train2\u001b[0m\u001b[0;34m,\u001b[0m \u001b[0my_test2\u001b[0m\u001b[0;34m)\u001b[0m\u001b[0;34m\u001b[0m\u001b[0;34m\u001b[0m\u001b[0m\n",
      "\u001b[0;31mIndexError\u001b[0m: list index out of range"
     ]
    }
   ],
   "source": [
    "X = list(df[df['provider']==providerList[1]]['compVec'])\n",
    "y = list(df[df['provider']==providerList[1]]['density kg/m^3'])\n",
    "\n",
    "X_train2, X_test2, y_train2, y_test2 = train_test_split(X, y, random_state=1)\n",
    "model2 = getRsq(X_train2, X_test2, y_train2, y_test2)"
   ]
  },
  {
   "cell_type": "code",
   "execution_count": 380,
   "id": "d4be7f34",
   "metadata": {},
   "outputs": [
    {
     "name": "stdout",
     "output_type": "stream",
     "text": [
      "3000\n",
      "0.9475794668791613\n"
     ]
    }
   ],
   "source": [
    "X = list(df['compVec'])\n",
    "y = list(df['density kg/m^3'])\n",
    "\n",
    "modelF = getRsq(X_train1+X_train2, X_test1+X_test2, y_train1+y_train2, y_test1+y_test2)"
   ]
  },
  {
   "cell_type": "code",
   "execution_count": 381,
   "id": "48fc541e",
   "metadata": {
    "scrolled": true
   },
   "outputs": [
    {
     "data": {
      "text/plain": [
       "(0.0, 1.0)"
      ]
     },
     "execution_count": 381,
     "metadata": {},
     "output_type": "execute_result"
    },
    {
     "data": {
      "image/png": "[encoded data removed]",
      "text/plain": [
       "<Figure size 576x216 with 1 Axes>"
      ]
     },
     "metadata": {
      "needs_background": "light"
     },
     "output_type": "display_data"
    }
   ],
   "source": [
    "res = [model1.score(X_test1+X_test2, y_test1+y_test2), model2.score(X_test1+X_test2, y_test1+y_test2), modelF.score(X_test1+X_test2, y_test1+y_test2)]\n",
    "fig, ax = plt.subplots(figsize=(8,3))\n",
    "p = ax.barh(['P1 Model', 'P2 Model', 'P1+P2 Model'], res)\n",
    "ax.bar_label(p, fmt='%.2f')\n",
    "plt.title('R$^2$ for prediction on P1+P2 data')\n",
    "plt.xlim(0, 1)"
   ]
  },
  {
   "cell_type": "code",
   "execution_count": 387,
   "id": "4e171a47",
   "metadata": {},
   "outputs": [
    {
     "data": {
      "text/plain": [
       "(0.0, 3000.0)"
      ]
     },
     "execution_count": 387,
     "metadata": {},
     "output_type": "execute_result"
    },
    {
     "data": {
      "image/png": "[encoded data removed]",
      "text/plain": [
       "<Figure size 576x216 with 1 Axes>"
      ]
     },
     "metadata": {
      "needs_background": "light"
     },
     "output_type": "display_data"
    }
   ],
   "source": [
    "fig, ax = plt.subplots(figsize=(8,3))\n",
    "p = ax.barh(['P1 Count', 'P2 Count', 'P1+P2 Count'], [sum(df['provider']==providerList[0]), sum(df['provider']==providerList[1]), len(df)])\n",
    "ax.bar_label(p, fmt='%.2d')\n",
    "plt.title('No of entries in P1 and P2')\n",
    "plt.xlim(0, 3000)"
   ]
  },
  {
   "cell_type": "code",
   "execution_count": 383,
   "id": "700e5732",
   "metadata": {},
   "outputs": [],
   "source": [
    "df['Unique Elem'] = df.apply(lambda row: set(row['species_at_sites']),axis =1)"
   ]
  },
  {
   "cell_type": "code",
   "execution_count": 384,
   "id": "edd749bf",
   "metadata": {},
   "outputs": [],
   "source": [
    "list1 = []\n",
    "list2 = []\n",
    "for listVal in df['species_at_sites'][df['provider']==providerList[0]]:\n",
    "    list1 += listVal\n",
    "\n",
    "for listVal in df['species_at_sites'][df['provider']==providerList[1]]:\n",
    "    list2 += listVal\n",
    "\n",
    "dict1 = dict(pd.Series(list1).value_counts(normalize=True))\n",
    "dict2 = dict(pd.Series(list2).value_counts(normalize=True))\n",
    "\n",
    "# print('Provider 1: ', dict(pd.Series(list1).value_counts(normalize=True)))\n",
    "# print('Provider 2: ', dict(pd.Series(list2).value_counts(normalize=True)))\n",
    "\n",
    "# print('Intersetion: ', set.intersection(set1, set2))"
   ]
  },
  {
   "cell_type": "code",
   "execution_count": 385,
   "id": "1e85ad54",
   "metadata": {},
   "outputs": [
    {
     "data": {
      "text/plain": [
       "<BarContainer object of 23 artists>"
      ]
     },
     "execution_count": 385,
     "metadata": {},
     "output_type": "execute_result"
    },
    {
     "data": {
      "image/png": "[encoded data removed]",
      "text/plain": [
       "<Figure size 1440x432 with 1 Axes>"
      ]
     },
     "metadata": {
      "needs_background": "light"
     },
     "output_type": "display_data"
    }
   ],
   "source": [
    "\n",
    "\n",
    "plt.figure(figsize=(20, 6))\n",
    "plt.bar(dict1.keys(), dict1.values(), alpha =0.5)\n",
    "plt.bar(dict2.keys(), dict2.values(), alpha =0.5)"
   ]
  },
  {
   "cell_type": "code",
   "execution_count": 386,
   "id": "9badfc6a",
   "metadata": {},
   "outputs": [
    {
     "name": "stdout",
     "output_type": "stream",
     "text": [
      "Provider 1:  {'Pr', 'Ge', 'Sc', 'Eu', 'Ir', 'Tm', 'Mg', 'Ag', 'Dy', 'Sn', 'Rh', 'Ce', 'Os', 'Fe', 'Zn', 'La', 'Co', 'Hf', 'V', 'Pb', 'Hg', 'Al', 'Y', 'Cu', 'W', 'Be', 'Yb', 'Pd', 'Ti', 'Tb', 'Ni', 'P', 'Nb', 'Cr', 'Cs', 'K', 'Nd', 'Te', 'I', 'Sm', 'Gd', 'Sr', 'Lu', 'Ca', 'Ba', 'Bi', 'Rb', 'Mo', 'C', 'As', 'Er', 'Zr', 'In', 'Si', 'Au', 'Mn', 'Ho', 'Sb', 'Cd', 'Ga', 'Br', 'Ta', 'Li', 'Pt', 'Tl'}\n",
      "Provider 2:  {'Mg', 'Dy', 'Sn', 'Sm', 'Gd', 'Fe', 'La', 'Hf', 'V', 'Mo', 'C', 'Al', 'Y', 'Zr', 'Si', 'W', 'Mn', 'Ti', 'Ta', 'Ni', 'Nb', 'Ru', 'Cr'}\n",
      "Intersection:  {'Mg', 'Dy', 'Sn', 'Fe', 'La', 'Hf', 'V', 'Al', 'Y', 'W', 'Ti', 'Ni', 'Nb', 'Cr', 'Sm', 'Gd', 'Mo', 'C', 'Zr', 'Si', 'Mn', 'Ta'}\n"
     ]
    }
   ],
   "source": [
    "set1 = set([])\n",
    "set2 = set([])\n",
    "for setVal in df['Unique Elem'][df['provider']==providerList[0]]:\n",
    "    set1.update(setVal)\n",
    "\n",
    "for setVal in df['Unique Elem'][df['provider']==providerList[1]]:\n",
    "    set2.update(setVal)\n",
    "\n",
    "print('Provider 1: ', set1)\n",
    "print('Provider 2: ', set2)\n",
    "\n",
    "print('Intersection: ', set.intersection(set1, set2))"
   ]
  },
  {
   "cell_type": "code",
   "execution_count": 360,
   "id": "80c9d16d",
   "metadata": {},
   "outputs": [
    {
     "data": {
      "text/html": [
       "<div>\n",
       "<style scoped>\n",
       "    .dataframe tbody tr th:only-of-type {\n",
       "        vertical-align: middle;\n",
       "    }\n",
       "\n",
       "    .dataframe tbody tr th {\n",
       "        vertical-align: top;\n",
       "    }\n",
       "\n",
       "    .dataframe thead th {\n",
       "        text-align: right;\n",
       "    }\n",
       "</style>\n",
       "<table border=\"1\" class=\"dataframe\">\n",
       "  <thead>\n",
       "    <tr style=\"text-align: right;\">\n",
       "      <th></th>\n",
       "      <th>chemical_formula_descriptive</th>\n",
       "      <th>species_at_sites</th>\n",
       "      <th>lattice_vectors</th>\n",
       "      <th>id</th>\n",
       "      <th>provider</th>\n",
       "      <th>volume ang^3</th>\n",
       "      <th>mass au</th>\n",
       "      <th>density au/ang^3</th>\n",
       "      <th>density kg/m^3</th>\n",
       "      <th>composition</th>\n",
       "      <th>compVec</th>\n",
       "      <th>Unique Elem</th>\n",
       "    </tr>\n",
       "  </thead>\n",
       "  <tbody>\n",
       "    <tr>\n",
       "      <th>0</th>\n",
       "      <td>Al12Dy5Fe4Mg5Si6</td>\n",
       "      <td>[Dy, Dy, Dy, Dy, Dy, Mg, Mg, Mg, Mg, Mg, Al, A...</td>\n",
       "      <td>[[11.883426, 0.0, 0.0], [0.0, 11.883426, 0.0],...</td>\n",
       "      <td>VrKV8WumcCHbcFyripzhjkiJU6tQ</td>\n",
       "      <td>https://nomad-lab.eu/prod/rae/optimade/</td>\n",
       "      <td>563.885334</td>\n",
       "      <td>1649.693462</td>\n",
       "      <td>0.341812</td>\n",
       "      <td>567.592882</td>\n",
       "      <td>{'Al': 0.375, 'Si': 0.1875, 'Dy': 0.15625, 'Mg...</td>\n",
       "      <td>[0.0, 0.15625, 0.15625, 0.0, 0.125, 0.0, 0.0, ...</td>\n",
       "      <td>{Al, Si, Mg, Dy, Fe}</td>\n",
       "    </tr>\n",
       "    <tr>\n",
       "      <th>1</th>\n",
       "      <td>Al12Dy5Fe4Mg5Si6</td>\n",
       "      <td>[Al, Al, Al, Al, Al, Al, Al, Al, Al, Al, Al, A...</td>\n",
       "      <td>[[1.844665, 0.0, 0.0], [0.0, 1.844665, 0.0], [...</td>\n",
       "      <td>fT5hwkZDruASrHjG60v5v1wZlrxh</td>\n",
       "      <td>https://nomad-lab.eu/prod/rae/optimade/</td>\n",
       "      <td>13.571690</td>\n",
       "      <td>1649.693462</td>\n",
       "      <td>0.008227</td>\n",
       "      <td>13.660924</td>\n",
       "      <td>{'Al': 0.375, 'Si': 0.1875, 'Dy': 0.15625, 'Mg...</td>\n",
       "      <td>[0.0, 0.15625, 0.15625, 0.0, 0.125, 0.0, 0.0, ...</td>\n",
       "      <td>{Al, Si, Mg, Dy, Fe}</td>\n",
       "    </tr>\n",
       "    <tr>\n",
       "      <th>2</th>\n",
       "      <td>Al12Dy5Fe4Mg5Si6</td>\n",
       "      <td>[Al, Al, Al, Al, Al, Al, Al, Al, Al, Al, Al, A...</td>\n",
       "      <td>[[11.841774, 0.0, 0.0], [0.0, 11.841774, 0.0],...</td>\n",
       "      <td>qB0jGKVRYulPiKgi_iJFW670XEfO</td>\n",
       "      <td>https://nomad-lab.eu/prod/rae/optimade/</td>\n",
       "      <td>559.265997</td>\n",
       "      <td>1649.693462</td>\n",
       "      <td>0.339012</td>\n",
       "      <td>562.943172</td>\n",
       "      <td>{'Al': 0.375, 'Si': 0.1875, 'Dy': 0.15625, 'Mg...</td>\n",
       "      <td>[0.0, 0.15625, 0.15625, 0.0, 0.125, 0.0, 0.0, ...</td>\n",
       "      <td>{Al, Si, Mg, Dy, Fe}</td>\n",
       "    </tr>\n",
       "    <tr>\n",
       "      <th>3</th>\n",
       "      <td>Al12Dy5Fe4Mg5Si6</td>\n",
       "      <td>[Al, Al, Al, Al, Al, Al, Al, Al, Al, Al, Al, A...</td>\n",
       "      <td>[[11.84177414, 0.0, 0.0], [0.0, 11.84177414, 0...</td>\n",
       "      <td>jlgdpsbpH8OeFiyp94nT6zC0LUtM</td>\n",
       "      <td>https://nomad-lab.eu/prod/rae/optimade/</td>\n",
       "      <td>559.266006</td>\n",
       "      <td>1649.693462</td>\n",
       "      <td>0.339012</td>\n",
       "      <td>562.943181</td>\n",
       "      <td>{'Al': 0.375, 'Si': 0.1875, 'Dy': 0.15625, 'Mg...</td>\n",
       "      <td>[0.0, 0.15625, 0.15625, 0.0, 0.125, 0.0, 0.0, ...</td>\n",
       "      <td>{Al, Si, Mg, Dy, Fe}</td>\n",
       "    </tr>\n",
       "    <tr>\n",
       "      <th>4</th>\n",
       "      <td>Al12Fe4Gd5Mg5Si6</td>\n",
       "      <td>[Al, Al, Al, Al, Al, Al, Al, Al, Al, Al, Al, A...</td>\n",
       "      <td>[[11.89549619, 0.0, 0.0], [0.0, 11.89549619, 0...</td>\n",
       "      <td>o8LrC_EALrDiVSXFhtBq70gFUPc7</td>\n",
       "      <td>https://nomad-lab.eu/prod/rae/optimade/</td>\n",
       "      <td>566.724579</td>\n",
       "      <td>1623.443462</td>\n",
       "      <td>0.349088</td>\n",
       "      <td>579.674604</td>\n",
       "      <td>{'Al': 0.375, 'Si': 0.1875, 'Gd': 0.15625, 'Mg...</td>\n",
       "      <td>[0.0, 0.15625, 0.0, 0.0, 0.125, 0.0, 0.0, 0.0,...</td>\n",
       "      <td>{Al, Si, Mg, Gd, Fe}</td>\n",
       "    </tr>\n",
       "    <tr>\n",
       "      <th>...</th>\n",
       "      <td>...</td>\n",
       "      <td>...</td>\n",
       "      <td>...</td>\n",
       "      <td>...</td>\n",
       "      <td>...</td>\n",
       "      <td>...</td>\n",
       "      <td>...</td>\n",
       "      <td>...</td>\n",
       "      <td>...</td>\n",
       "      <td>...</td>\n",
       "      <td>...</td>\n",
       "      <td>...</td>\n",
       "    </tr>\n",
       "    <tr>\n",
       "      <th>1855</th>\n",
       "      <td>K2 Y2 Zn4 I2 Br14</td>\n",
       "      <td>[K, K, I, I, Y, Y, Zn, Zn, Zn, Zn, Br, Br, Br,...</td>\n",
       "      <td>[[-0.0171682910968, -7.87453414456, -0.0705352...</td>\n",
       "      <td>law-gnn-K1Y1Zn2Br7I1_icsd_166998_2</td>\n",
       "      <td>https://optimade-misc.odbx.science</td>\n",
       "      <td>850.641580</td>\n",
       "      <td>1889.993220</td>\n",
       "      <td>0.450077</td>\n",
       "      <td>747.370163</td>\n",
       "      <td>{'Br': 0.5833333333333334, 'Zn': 0.16666666666...</td>\n",
       "      <td>[0.0, 0.0, 0.0, 0.0, 0.0, 0.0, 0.1666666666666...</td>\n",
       "      <td>{Y, K, I, Br, Zn}</td>\n",
       "    </tr>\n",
       "    <tr>\n",
       "      <th>1856</th>\n",
       "      <td>K2 Y2 Cd4 I2 Br14</td>\n",
       "      <td>[K, K, I, I, Y, Y, Cd, Cd, Cd, Cd, Br, Br, Br,...</td>\n",
       "      <td>[[-0.253789544571, -7.69819487129, -0.58522257...</td>\n",
       "      <td>law-gnn-K1Y1Cd2Br7I1_icsd_166998_2</td>\n",
       "      <td>https://optimade-misc.odbx.science</td>\n",
       "      <td>867.488649</td>\n",
       "      <td>2078.129220</td>\n",
       "      <td>0.417437</td>\n",
       "      <td>693.171416</td>\n",
       "      <td>{'Br': 0.5833333333333334, 'Cd': 0.16666666666...</td>\n",
       "      <td>[0.0, 0.0, 0.0, 0.0, 0.0, 0.0, 0.0, 0.0, 0.0, ...</td>\n",
       "      <td>{Y, K, I, Br, Cd}</td>\n",
       "    </tr>\n",
       "    <tr>\n",
       "      <th>1857</th>\n",
       "      <td>Dy5 Mg5 Al12 Fe4 Si6</td>\n",
       "      <td>[Al, Al, Al, Al, Al, Al, Al, Al, Al, Al, Al, A...</td>\n",
       "      <td>[[11.841774, 0.0, 0.0], [0.0, 11.841774, 0.0],...</td>\n",
       "      <td>camd-oqmd_24094</td>\n",
       "      <td>https://optimade-misc.odbx.science</td>\n",
       "      <td>559.265997</td>\n",
       "      <td>1649.693462</td>\n",
       "      <td>0.339012</td>\n",
       "      <td>562.943172</td>\n",
       "      <td>{'Al': 0.375, 'Si': 0.1875, 'Dy': 0.15625, 'Mg...</td>\n",
       "      <td>[0.0, 0.15625, 0.15625, 0.0, 0.125, 0.0, 0.0, ...</td>\n",
       "      <td>{Al, Si, Mg, Dy, Fe}</td>\n",
       "    </tr>\n",
       "    <tr>\n",
       "      <th>1858</th>\n",
       "      <td>Gd5 Mg5 Al12 Fe4 Si6</td>\n",
       "      <td>[Al, Al, Al, Al, Al, Al, Al, Al, Al, Al, Al, A...</td>\n",
       "      <td>[[11.895496, 0.0, 0.0], [0.0, 11.895496, 0.0],...</td>\n",
       "      <td>camd-oqmd_24095</td>\n",
       "      <td>https://optimade-misc.odbx.science</td>\n",
       "      <td>566.724616</td>\n",
       "      <td>1623.443462</td>\n",
       "      <td>0.349088</td>\n",
       "      <td>579.674642</td>\n",
       "      <td>{'Al': 0.375, 'Si': 0.1875, 'Gd': 0.15625, 'Mg...</td>\n",
       "      <td>[0.0, 0.15625, 0.0, 0.0, 0.125, 0.0, 0.0, 0.0,...</td>\n",
       "      <td>{Al, Si, Mg, Gd, Fe}</td>\n",
       "    </tr>\n",
       "    <tr>\n",
       "      <th>1859</th>\n",
       "      <td>Y5 Mg5 Al12 Fe4 Si6</td>\n",
       "      <td>[Al, Al, Al, Al, Al, Al, Al, Al, Al, Al, Al, A...</td>\n",
       "      <td>[[11.862751, 0.0, 0.0], [0.0, 11.862751, 0.0],...</td>\n",
       "      <td>camd-oqmd_24096</td>\n",
       "      <td>https://optimade-misc.odbx.science</td>\n",
       "      <td>561.391156</td>\n",
       "      <td>1281.722662</td>\n",
       "      <td>0.437997</td>\n",
       "      <td>727.312242</td>\n",
       "      <td>{'Al': 0.375, 'Si': 0.1875, 'Mg': 0.15625, 'Y'...</td>\n",
       "      <td>[0.0, 0.15625, 0.0, 0.0, 0.125, 0.0, 0.0, 0.0,...</td>\n",
       "      <td>{Al, Y, Si, Mg, Fe}</td>\n",
       "    </tr>\n",
       "  </tbody>\n",
       "</table>\n",
       "<p>1860 rows × 12 columns</p>\n",
       "</div>"
      ],
      "text/plain": [
       "     chemical_formula_descriptive  \\\n",
       "0                Al12Dy5Fe4Mg5Si6   \n",
       "1                Al12Dy5Fe4Mg5Si6   \n",
       "2                Al12Dy5Fe4Mg5Si6   \n",
       "3                Al12Dy5Fe4Mg5Si6   \n",
       "4                Al12Fe4Gd5Mg5Si6   \n",
       "...                           ...   \n",
       "1855            K2 Y2 Zn4 I2 Br14   \n",
       "1856            K2 Y2 Cd4 I2 Br14   \n",
       "1857         Dy5 Mg5 Al12 Fe4 Si6   \n",
       "1858         Gd5 Mg5 Al12 Fe4 Si6   \n",
       "1859          Y5 Mg5 Al12 Fe4 Si6   \n",
       "\n",
       "                                       species_at_sites  \\\n",
       "0     [Dy, Dy, Dy, Dy, Dy, Mg, Mg, Mg, Mg, Mg, Al, A...   \n",
       "1     [Al, Al, Al, Al, Al, Al, Al, Al, Al, Al, Al, A...   \n",
       "2     [Al, Al, Al, Al, Al, Al, Al, Al, Al, Al, Al, A...   \n",
       "3     [Al, Al, Al, Al, Al, Al, Al, Al, Al, Al, Al, A...   \n",
       "4     [Al, Al, Al, Al, Al, Al, Al, Al, Al, Al, Al, A...   \n",
       "...                                                 ...   \n",
       "1855  [K, K, I, I, Y, Y, Zn, Zn, Zn, Zn, Br, Br, Br,...   \n",
       "1856  [K, K, I, I, Y, Y, Cd, Cd, Cd, Cd, Br, Br, Br,...   \n",
       "1857  [Al, Al, Al, Al, Al, Al, Al, Al, Al, Al, Al, A...   \n",
       "1858  [Al, Al, Al, Al, Al, Al, Al, Al, Al, Al, Al, A...   \n",
       "1859  [Al, Al, Al, Al, Al, Al, Al, Al, Al, Al, Al, A...   \n",
       "\n",
       "                                        lattice_vectors  \\\n",
       "0     [[11.883426, 0.0, 0.0], [0.0, 11.883426, 0.0],...   \n",
       "1     [[1.844665, 0.0, 0.0], [0.0, 1.844665, 0.0], [...   \n",
       "2     [[11.841774, 0.0, 0.0], [0.0, 11.841774, 0.0],...   \n",
       "3     [[11.84177414, 0.0, 0.0], [0.0, 11.84177414, 0...   \n",
       "4     [[11.89549619, 0.0, 0.0], [0.0, 11.89549619, 0...   \n",
       "...                                                 ...   \n",
       "1855  [[-0.0171682910968, -7.87453414456, -0.0705352...   \n",
       "1856  [[-0.253789544571, -7.69819487129, -0.58522257...   \n",
       "1857  [[11.841774, 0.0, 0.0], [0.0, 11.841774, 0.0],...   \n",
       "1858  [[11.895496, 0.0, 0.0], [0.0, 11.895496, 0.0],...   \n",
       "1859  [[11.862751, 0.0, 0.0], [0.0, 11.862751, 0.0],...   \n",
       "\n",
       "                                      id  \\\n",
       "0           VrKV8WumcCHbcFyripzhjkiJU6tQ   \n",
       "1           fT5hwkZDruASrHjG60v5v1wZlrxh   \n",
       "2           qB0jGKVRYulPiKgi_iJFW670XEfO   \n",
       "3           jlgdpsbpH8OeFiyp94nT6zC0LUtM   \n",
       "4           o8LrC_EALrDiVSXFhtBq70gFUPc7   \n",
       "...                                  ...   \n",
       "1855  law-gnn-K1Y1Zn2Br7I1_icsd_166998_2   \n",
       "1856  law-gnn-K1Y1Cd2Br7I1_icsd_166998_2   \n",
       "1857                     camd-oqmd_24094   \n",
       "1858                     camd-oqmd_24095   \n",
       "1859                     camd-oqmd_24096   \n",
       "\n",
       "                                     provider  volume ang^3      mass au  \\\n",
       "0     https://nomad-lab.eu/prod/rae/optimade/    563.885334  1649.693462   \n",
       "1     https://nomad-lab.eu/prod/rae/optimade/     13.571690  1649.693462   \n",
       "2     https://nomad-lab.eu/prod/rae/optimade/    559.265997  1649.693462   \n",
       "3     https://nomad-lab.eu/prod/rae/optimade/    559.266006  1649.693462   \n",
       "4     https://nomad-lab.eu/prod/rae/optimade/    566.724579  1623.443462   \n",
       "...                                       ...           ...          ...   \n",
       "1855       https://optimade-misc.odbx.science    850.641580  1889.993220   \n",
       "1856       https://optimade-misc.odbx.science    867.488649  2078.129220   \n",
       "1857       https://optimade-misc.odbx.science    559.265997  1649.693462   \n",
       "1858       https://optimade-misc.odbx.science    566.724616  1623.443462   \n",
       "1859       https://optimade-misc.odbx.science    561.391156  1281.722662   \n",
       "\n",
       "      density au/ang^3  density kg/m^3  \\\n",
       "0             0.341812      567.592882   \n",
       "1             0.008227       13.660924   \n",
       "2             0.339012      562.943172   \n",
       "3             0.339012      562.943181   \n",
       "4             0.349088      579.674604   \n",
       "...                ...             ...   \n",
       "1855          0.450077      747.370163   \n",
       "1856          0.417437      693.171416   \n",
       "1857          0.339012      562.943172   \n",
       "1858          0.349088      579.674642   \n",
       "1859          0.437997      727.312242   \n",
       "\n",
       "                                            composition  \\\n",
       "0     {'Al': 0.375, 'Si': 0.1875, 'Dy': 0.15625, 'Mg...   \n",
       "1     {'Al': 0.375, 'Si': 0.1875, 'Dy': 0.15625, 'Mg...   \n",
       "2     {'Al': 0.375, 'Si': 0.1875, 'Dy': 0.15625, 'Mg...   \n",
       "3     {'Al': 0.375, 'Si': 0.1875, 'Dy': 0.15625, 'Mg...   \n",
       "4     {'Al': 0.375, 'Si': 0.1875, 'Gd': 0.15625, 'Mg...   \n",
       "...                                                 ...   \n",
       "1855  {'Br': 0.5833333333333334, 'Zn': 0.16666666666...   \n",
       "1856  {'Br': 0.5833333333333334, 'Cd': 0.16666666666...   \n",
       "1857  {'Al': 0.375, 'Si': 0.1875, 'Dy': 0.15625, 'Mg...   \n",
       "1858  {'Al': 0.375, 'Si': 0.1875, 'Gd': 0.15625, 'Mg...   \n",
       "1859  {'Al': 0.375, 'Si': 0.1875, 'Mg': 0.15625, 'Y'...   \n",
       "\n",
       "                                                compVec           Unique Elem  \n",
       "0     [0.0, 0.15625, 0.15625, 0.0, 0.125, 0.0, 0.0, ...  {Al, Si, Mg, Dy, Fe}  \n",
       "1     [0.0, 0.15625, 0.15625, 0.0, 0.125, 0.0, 0.0, ...  {Al, Si, Mg, Dy, Fe}  \n",
       "2     [0.0, 0.15625, 0.15625, 0.0, 0.125, 0.0, 0.0, ...  {Al, Si, Mg, Dy, Fe}  \n",
       "3     [0.0, 0.15625, 0.15625, 0.0, 0.125, 0.0, 0.0, ...  {Al, Si, Mg, Dy, Fe}  \n",
       "4     [0.0, 0.15625, 0.0, 0.0, 0.125, 0.0, 0.0, 0.0,...  {Al, Si, Mg, Gd, Fe}  \n",
       "...                                                 ...                   ...  \n",
       "1855  [0.0, 0.0, 0.0, 0.0, 0.0, 0.0, 0.1666666666666...     {Y, K, I, Br, Zn}  \n",
       "1856  [0.0, 0.0, 0.0, 0.0, 0.0, 0.0, 0.0, 0.0, 0.0, ...     {Y, K, I, Br, Cd}  \n",
       "1857  [0.0, 0.15625, 0.15625, 0.0, 0.125, 0.0, 0.0, ...  {Al, Si, Mg, Dy, Fe}  \n",
       "1858  [0.0, 0.15625, 0.0, 0.0, 0.125, 0.0, 0.0, 0.0,...  {Al, Si, Mg, Gd, Fe}  \n",
       "1859  [0.0, 0.15625, 0.0, 0.0, 0.125, 0.0, 0.0, 0.0,...   {Al, Y, Si, Mg, Fe}  \n",
       "\n",
       "[1860 rows x 12 columns]"
      ]
     },
     "execution_count": 360,
     "metadata": {},
     "output_type": "execute_result"
    }
   ],
   "source": [
    "df"
   ]
  },
  {
   "cell_type": "code",
   "execution_count": 361,
   "id": "48619f2a",
   "metadata": {},
   "outputs": [
    {
     "data": {
      "text/plain": [
       "Text(0, 0.5, 'Fitness')"
      ]
     },
     "execution_count": 361,
     "metadata": {},
     "output_type": "execute_result"
    },
    {
     "data": {
      "image/png": "[encoded data removed]",
      "text/plain": [
       "<Figure size 432x288 with 1 Axes>"
      ]
     },
     "metadata": {
      "needs_background": "light"
     },
     "output_type": "display_data"
    }
   ],
   "source": [
    "data4 = pd.read_pickle('elem.pkl')\n",
    "plt.plot(data4['Fitness Value'], '.')\n",
    "plt.xlabel('API call no.')\n",
    "plt.ylabel('Fitness')"
   ]
  },
  {
   "cell_type": "code",
   "execution_count": 363,
   "id": "8e7900d3",
   "metadata": {},
   "outputs": [
    {
     "data": {
      "text/plain": [
       "Text(0, 0.5, 'Fitness')"
      ]
     },
     "execution_count": 363,
     "metadata": {},
     "output_type": "execute_result"
    },
    {
     "data": {
      "image/png": "[encoded data removed]",
      "text/plain": [
       "<Figure size 432x288 with 1 Axes>"
      ]
     },
     "metadata": {
      "needs_background": "light"
     },
     "output_type": "display_data"
    }
   ],
   "source": [
    "data5 = pd.read_pickle('elem5.pkl')\n",
    "plt.plot(data5['Fitness Value'], '.')\n",
    "plt.xlabel('API call no.')\n",
    "plt.ylabel('Fitness')"
   ]
  },
  {
   "cell_type": "code",
   "execution_count": 404,
   "id": "fe039af3",
   "metadata": {},
   "outputs": [],
   "source": [
    "client = OptimadeClient()"
   ]
  },
  {
   "cell_type": "code",
   "execution_count": 405,
   "id": "ec9775a6",
   "metadata": {},
   "outputs": [
    {
     "data": {
      "text/plain": [
       "['http://aflow.org/API/optimade/',\n",
       " 'https://www.crystallography.net/cod/optimade',\n",
       " 'https://aiida.materialscloud.org/mc3d/optimade',\n",
       " 'https://aiida.materialscloud.org/mc2d/optimade',\n",
       " 'https://aiida.materialscloud.org/2dtopo/optimade',\n",
       " 'https://aiida.materialscloud.org/tc-applicability/optimade',\n",
       " 'https://aiida.materialscloud.org/pyrene-mofs/optimade',\n",
       " 'https://aiida.materialscloud.org/curated-cofs/optimade',\n",
       " 'https://aiida.materialscloud.org/stoceriaitf/optimade',\n",
       " 'https://aiida.materialscloud.org/autowannier/optimade',\n",
       " 'https://aiida.materialscloud.org/tin-antimony-sulfoiodide/optimade',\n",
       " 'https://optimade.materialsproject.org',\n",
       " 'https://api.mpds.io',\n",
       " 'https://nomad-lab.eu/prod/rae/optimade/',\n",
       " 'https://optimade.odbx.science',\n",
       " 'https://optimade-misc.odbx.science',\n",
       " 'http://optimade.openmaterialsdb.se',\n",
       " 'http://oqmd.org/optimade/',\n",
       " 'https://www.crystallography.net/tcod/optimade',\n",
       " 'http://optimade.2dmatpedia.org']"
      ]
     },
     "execution_count": 405,
     "metadata": {},
     "output_type": "execute_result"
    }
   ],
   "source": [
    "client.base_urls"
   ]
  },
  {
   "cell_type": "code",
   "execution_count": null,
   "id": "5a2392f1",
   "metadata": {},
   "outputs": [],
   "source": []
  }
 ],
 "metadata": {
  "kernelspec": {
   "display_name": "Python 3 (ipykernel)",
   "language": "python",
   "name": "python3"
  },
  "language_info": {
   "codemirror_mode": {
    "name": "ipython",
    "version": 3
   },
   "file_extension": ".py",
   "mimetype": "text/x-python",
   "name": "python",
   "nbconvert_exporter": "python",
   "pygments_lexer": "ipython3",
   "version": "3.10.4"
  }
 },
 "nbformat": 4,
 "nbformat_minor": 5
}
