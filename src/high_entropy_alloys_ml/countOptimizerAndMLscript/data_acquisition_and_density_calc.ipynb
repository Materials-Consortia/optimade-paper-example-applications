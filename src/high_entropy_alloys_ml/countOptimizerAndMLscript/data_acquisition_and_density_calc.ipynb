{
 "cells": [
  {
   "attachments": {},
   "cell_type": "markdown",
   "id": "69168ecc",
   "metadata": {},
   "source": [
    "# Querying Data"
   ]
  },
  {
   "cell_type": "code",
   "execution_count": null,
   "id": "cb610272",
   "metadata": {},
   "outputs": [],
   "source": [
    "from optimade.client import OptimadeClient\n",
    "import numpy as np\n",
    "import pandas as pd\n",
    "import mendeleev as md\n",
    "from collections import Counter"
   ]
  },
  {
   "attachments": {},
   "cell_type": "markdown",
   "id": "c248f8a3",
   "metadata": {},
   "source": [
    "`newNEl5.pkl` has the logs of the query optimizer code. We pick the entry with the best fitness value (i.e lowest std(count)/mean(count))"
   ]
  },
  {
   "cell_type": "code",
   "execution_count": null,
   "id": "5a91481d",
   "metadata": {},
   "outputs": [],
   "source": [
    "dfQry = pd.read_pickle('newNE15.pkl')\n",
    "bestQry = dfQry.iloc[dfQry['Fitness Value'].argmin(), :]\n",
    "print(bestQry['Filter Query'])"
   ]
  },
  {
   "attachments": {},
   "cell_type": "markdown",
   "id": "cf1fa556",
   "metadata": {},
   "source": [
    "We then set the filter and provider list based on this entry. Also, remove Se from the list of excluded elements. This may effect the 'fitness'. However, this new query also gives acceptable results."
   ]
  },
  {
   "cell_type": "code",
   "execution_count": null,
   "id": "f605b2e2",
   "metadata": {},
   "outputs": [],
   "source": [
    "client = OptimadeClient(use_async=False)\n",
    "filterQry = bestQry['Filter Query'].replace(r', \"Se\"', '')\n",
    "print(filterQry)"
   ]
  },
  {
   "cell_type": "code",
   "execution_count": null,
   "id": "70496d94",
   "metadata": {},
   "outputs": [],
   "source": [
    "# client.base_urls = [bestQry['Provider List'][1]]\n",
    "client.count(filter=filterQry)"
   ]
  },
  {
   "attachments": {},
   "cell_type": "markdown",
   "id": "6309098e",
   "metadata": {},
   "source": [
    "# Download data from providers"
   ]
  },
  {
   "cell_type": "code",
   "execution_count": null,
   "id": "f00d4e3b",
   "metadata": {},
   "outputs": [],
   "source": [
    "client.max_results_per_provider = 5000\n",
    "respFields = [\"chemical_formula_descriptive\", \"species_at_sites\",\"lattice_vectors\"]\n",
    "resStruct = client.get(filter=filterQry.strip(), response_fields=respFields)\n",
    "providerList = list(resStruct['structures'][filterQry].keys())"
   ]
  },
  {
   "attachments": {},
   "cell_type": "markdown",
   "id": "fd64a2b4",
   "metadata": {},
   "source": [
    "# Processing and density calc\n",
    "A Pandas DataFrame is used to store the data obtained as JSON from the DBs. Then lattice vectors and information about species at site is used to calculate density"
   ]
  },
  {
   "cell_type": "code",
   "execution_count": null,
   "id": "0f737382",
   "metadata": {},
   "outputs": [],
   "source": [
    "df = pd.DataFrame(columns=respFields)\n",
    "df.attrs['Filter Query'] = filterQry\n",
    "df.attrs['Providers List'] = client.base_urls\n",
    "df.astype({'chemical_formula_descriptive':str, 'species_at_sites':object, 'lattice_vectors':object})"
   ]
  },
  {
   "cell_type": "code",
   "execution_count": null,
   "id": "42a6926a",
   "metadata": {},
   "outputs": [],
   "source": [
    "for provider in resStruct['structures'][filterQry].keys():\n",
    "    for entry in resStruct['structures'][filterQry][provider]['data']:\n",
    "        if type(entry['attributes']['species_at_sites'])==list:\n",
    "            df = df.append({'provider':provider,\n",
    "                            'id':entry['id'],\n",
    "                            'chemical_formula_descriptive':entry['attributes']['chemical_formula_descriptive'],\n",
    "                            'species_at_sites':entry['attributes']['species_at_sites'],\n",
    "                            'lattice_vectors':np.array(entry['attributes']['lattice_vectors'])}, ignore_index=True)"
   ]
  },
  {
   "attachments": {},
   "cell_type": "markdown",
   "id": "d5390c8a",
   "metadata": {},
   "source": [
    "Calculate density from atomic masses and lattice vectors"
   ]
  },
  {
   "cell_type": "code",
   "execution_count": null,
   "id": "b56409e0",
   "metadata": {},
   "outputs": [],
   "source": [
    "densToSIFactor = (1.6605402E-27/1E-30)\n",
    "df['volume ang^3'] = df.apply(lambda row: np.linalg.det(row['lattice_vectors']), axis=1)\n",
    "df['mass au'] = df.apply(lambda row: sum([eval(f'md.{elem}.atomic_weight') for elem in row['species_at_sites']]), axis=1)\n",
    "# df['mass au'] = df.apply(lambda row: sum([md.element(elem).atomic_weight for elem in row['species_at_sites']]), axis=1) #Less dodgy code but much slower\n",
    "df['density au/ang^3'] = df.apply(lambda row: row['volume ang^3']/row['mass au'], axis=1)\n",
    "df['density kg/m^3'] = df.apply(lambda row: row['density au/ang^3']*densToSIFactor, axis=1)\n",
    "df['composition'] = df.apply(lambda row: dict(pd.Series(row['species_at_sites']).value_counts(normalize=True)), axis=1)"
   ]
  },
  {
   "cell_type": "code",
   "execution_count": null,
   "id": "e7589c09",
   "metadata": {},
   "outputs": [],
   "source": [
    "allElem = set([])\n",
    "for row in df['composition']:\n",
    "    allElem.update(list(row.keys()))\n",
    "allElem = list(allElem)"
   ]
  },
  {
   "cell_type": "code",
   "execution_count": null,
   "id": "658dbe58",
   "metadata": {
    "scrolled": true
   },
   "outputs": [],
   "source": [
    "def compVecVal(elem, compDict):\n",
    "    if elem in compDict.keys():\n",
    "        return compDict[elem]\n",
    "    else:\n",
    "        return 0.0"
   ]
  },
  {
   "attachments": {},
   "cell_type": "markdown",
   "id": "c3af3bf9",
   "metadata": {},
   "source": [
    "# Feature generation for ML"
   ]
  },
  {
   "cell_type": "code",
   "execution_count": null,
   "id": "f83c03ed",
   "metadata": {},
   "outputs": [],
   "source": [
    "df['compVec'] = df.apply(lambda row: [compVecVal(elem, row['composition']) for elem in allElem], axis=1)"
   ]
  },
  {
   "cell_type": "code",
   "execution_count": null,
   "id": "b69bfd24",
   "metadata": {},
   "outputs": [],
   "source": [
    "df['provider'].value_counts()"
   ]
  },
  {
   "attachments": {},
   "cell_type": "markdown",
   "id": "d776f613",
   "metadata": {},
   "source": [
    "Pickle DataFrame for use in ML notebook"
   ]
  },
  {
   "cell_type": "code",
   "execution_count": null,
   "id": "e573ec28",
   "metadata": {},
   "outputs": [],
   "source": [
    "# df.to_pickle('bestQryData.pkl')"
   ]
  }
 ],
 "metadata": {
  "kernelspec": {
   "display_name": "Python 3 (ipykernel)",
   "language": "python",
   "name": "python3"
  },
  "language_info": {
   "codemirror_mode": {
    "name": "ipython",
    "version": 3
   },
   "file_extension": ".py",
   "mimetype": "text/x-python",
   "name": "python",
   "nbconvert_exporter": "python",
   "pygments_lexer": "ipython3",
   "version": "3.10.11"
  }
 },
 "nbformat": 4,
 "nbformat_minor": 5
}
